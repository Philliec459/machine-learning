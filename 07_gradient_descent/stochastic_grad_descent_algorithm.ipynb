{
  "nbformat": 4,
  "nbformat_minor": 0,
  "metadata": {
    "colab": {
      "name": "stochastic_grad_descent_algorithm.ipynb",
      "provenance": [],
      "collapsed_sections": [],
      "authorship_tag": "ABX9TyMQ9xkzlaEhAV0ZqB8wZZ0A",
      "include_colab_link": true
    },
    "kernelspec": {
      "name": "python3",
      "display_name": "Python 3"
    }
  },
  "cells": [
    {
      "cell_type": "markdown",
      "metadata": {
        "id": "view-in-github",
        "colab_type": "text"
      },
      "source": [
        "<a href=\"https://colab.research.google.com/github/yohanesnuwara/machine-learning/blob/master/07_gradient_descent/stochastic_grad_descent_algorithm.ipynb\" target=\"_parent\"><img src=\"https://colab.research.google.com/assets/colab-badge.svg\" alt=\"Open In Colab\"/></a>"
      ]
    },
    {
      "cell_type": "markdown",
      "metadata": {
        "id": "dR-eXBBot1RS",
        "colab_type": "text"
      },
      "source": [
        "# **Linear Regression using Stochastic Gradient Descent**"
      ]
    },
    {
      "cell_type": "code",
      "metadata": {
        "id": "H94ZUiTstz2O",
        "colab_type": "code",
        "colab": {}
      },
      "source": [
        "import numpy as np\n",
        "import matplotlib.pyplot as plt"
      ],
      "execution_count": 0,
      "outputs": []
    },
    {
      "cell_type": "code",
      "metadata": {
        "id": "5CXsoM_JuENs",
        "colab_type": "code",
        "colab": {
          "base_uri": "https://localhost:8080/",
          "height": 282
        },
        "outputId": "8c2629e9-9ee3-4478-a00e-368b8faf428e"
      },
      "source": [
        "x = [1, 2, 4, 3, 5]\n",
        "y = [1, 3, 3, 2, 5]\n",
        "\n",
        "# visualize our data \n",
        "plt.plot(x, y, 'o')"
      ],
      "execution_count": 28,
      "outputs": [
        {
          "output_type": "execute_result",
          "data": {
            "text/plain": [
              "[<matplotlib.lines.Line2D at 0x7f6dd7daceb8>]"
            ]
          },
          "metadata": {
            "tags": []
          },
          "execution_count": 28
        },
        {
          "output_type": "display_data",
          "data": {
            "image/png": "[encoded data removed]",
            "text/plain": [
              "<Figure size 432x288 with 1 Axes>"
            ]
          },
          "metadata": {
            "tags": []
          }
        }
      ]
    },
    {
      "cell_type": "code",
      "metadata": {
        "id": "3hd3nChQuJ9L",
        "colab_type": "code",
        "colab": {
          "base_uri": "https://localhost:8080/",
          "height": 101
        },
        "outputId": "6699eb3f-c4bf-4e3e-cae1-fabbf28984a2"
      },
      "source": [
        "# initial value\n",
        "B0 = 0; B1 = 0\n",
        "alpha = .01 # learning rate\n",
        "iteration = 20\n",
        "# n_data = len(x)\n",
        "\n",
        "# epoch = iteration / ndata\n",
        "x_iter = np.tile(x, 4)\n",
        "y_iter = np.tile(y, 4)\n",
        "\n",
        "for i in range(len(x)):\n",
        "  p = B0 + B1 * x[i]\n",
        "  err = p - y[i]\n",
        "  B0 = B0 - alpha * err\n",
        "  B1 = B1 - alpha * err * x[i]\n",
        "  # print(B0)\n",
        "  print(B1)"
      ],
      "execution_count": 29,
      "outputs": [
        {
          "output_type": "stream",
          "text": [
            "0.01\n",
            "0.0694\n",
            "0.176708\n",
            "0.21880847\n",
            "0.410078328\n"
          ],
          "name": "stdout"
        }
      ]
    },
    {
      "cell_type": "code",
      "metadata": {
        "id": "mIr9b816yoXf",
        "colab_type": "code",
        "colab": {
          "base_uri": "https://localhost:8080/",
          "height": 282
        },
        "outputId": "8323244b-b982-4bd4-8024-604601447000"
      },
      "source": [
        "# initial value\n",
        "B0 = 0; B1 = 0\n",
        "alpha = .01 # learning rate\n",
        "iteration = 20\n",
        "# n_data = len(x)\n",
        "\n",
        "# epoch = iteration / ndata\n",
        "x_iter = np.tile(x, 4)\n",
        "y_iter = np.tile(y, 4)\n",
        "\n",
        "err_arr = []\n",
        "B0_arr = []\n",
        "B1_arr = []\n",
        "\n",
        "for i in range(len(x_iter)):\n",
        "  p = B0 + B1 * x_iter[i]\n",
        "  err = p - y_iter[i]\n",
        "  B0 = B0 - alpha * err\n",
        "  B1 = B1 - alpha * err * x_iter[i]\n",
        "  err_arr.append(float(err))\n",
        "  B0_arr.append(float(B0))\n",
        "  B1_arr.append(float(B1))\n",
        "\n",
        "j = [1, 2, 3, 4, 5, 6, 7, 8, 9, 10, 11, 12, 13, 14, 15, 16, 17, 18, 19, 20]\n",
        "plt.plot(j, err_arr)"
      ],
      "execution_count": 36,
      "outputs": [
        {
          "output_type": "execute_result",
          "data": {
            "text/plain": [
              "[<matplotlib.lines.Line2D at 0x7f6dd7a86eb8>]"
            ]
          },
          "metadata": {
            "tags": []
          },
          "execution_count": 36
        },
        {
          "output_type": "display_data",
          "data": {
            "image/png": "[encoded data removed]",
            "text/plain": [
              "<Figure size 432x288 with 1 Axes>"
            ]
          },
          "metadata": {
            "tags": []
          }
        }
      ]
    },
    {
      "cell_type": "code",
      "metadata": {
        "id": "EbcOUPR3x5iS",
        "colab_type": "code",
        "colab": {
          "base_uri": "https://localhost:8080/",
          "height": 34
        },
        "outputId": "e7f2b801-bab6-484d-970f-b6a0838f5c84"
      },
      "source": [
        "a = [1, 2, 3, 4, 5]\n",
        "x = np.tile(a, 4)\n",
        "len(x)"
      ],
      "execution_count": 20,
      "outputs": [
        {
          "output_type": "execute_result",
          "data": {
            "text/plain": [
              "20"
            ]
          },
          "metadata": {
            "tags": []
          },
          "execution_count": 20
        }
      ]
    }
  ]
}