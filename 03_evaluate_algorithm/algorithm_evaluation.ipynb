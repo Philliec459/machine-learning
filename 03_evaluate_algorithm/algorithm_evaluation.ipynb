{
  "nbformat": 4,
  "nbformat_minor": 0,
  "metadata": {
    "colab": {
      "name": "algorithm_evaluation.ipynb",
      "provenance": [],
      "authorship_tag": "ABX9TyOTfyjxkpxwd4K+0DIQ/FRB",
      "include_colab_link": true
    },
    "kernelspec": {
      "name": "python3",
      "display_name": "Python 3"
    }
  },
  "cells": [
    {
      "cell_type": "markdown",
      "metadata": {
        "id": "view-in-github",
        "colab_type": "text"
      },
      "source": [
        "<a href=\"https://colab.research.google.com/github/yohanesnuwara/machine-learning/blob/master/03_evaluate_algorithm/algorithm_evaluation.ipynb\" target=\"_parent\"><img src=\"https://colab.research.google.com/assets/colab-badge.svg\" alt=\"Open In Colab\"/></a>"
      ]
    },
    {
      "cell_type": "markdown",
      "metadata": {
        "id": "a8b-ywHh7v5K",
        "colab_type": "text"
      },
      "source": [
        "# **Algorithm Evaluation Methods**"
      ]
    },
    {
      "cell_type": "code",
      "metadata": {
        "id": "wQhHJKlR521m",
        "colab_type": "code",
        "colab": {
          "base_uri": "https://localhost:8080/",
          "height": 118
        },
        "outputId": "7d48e3e8-752d-40fe-f3a2-24746ace79e0"
      },
      "source": [
        "!git clone https://github.com/yohanesnuwara/machine-learning"
      ],
      "execution_count": 1,
      "outputs": [
        {
          "output_type": "stream",
          "text": [
            "Cloning into 'machine-learning'...\n",
            "remote: Enumerating objects: 81, done.\u001b[K\n",
            "remote: Counting objects:   1% (1/81)\u001b[K\rremote: Counting objects:   2% (2/81)\u001b[K\rremote: Counting objects:   3% (3/81)\u001b[K\rremote: Counting objects:   4% (4/81)\u001b[K\rremote: Counting objects:   6% (5/81)\u001b[K\rremote: Counting objects:   7% (6/81)\u001b[K\rremote: Counting objects:   8% (7/81)\u001b[K\rremote: Counting objects:   9% (8/81)\u001b[K\rremote: Counting objects:  11% (9/81)\u001b[K\rremote: Counting objects:  12% (10/81)\u001b[K\rremote: Counting objects:  13% (11/81)\u001b[K\rremote: Counting objects:  14% (12/81)\u001b[K\rremote: Counting objects:  16% (13/81)\u001b[K\rremote: Counting objects:  17% (14/81)\u001b[K\rremote: Counting objects:  18% (15/81)\u001b[K\rremote: Counting objects:  19% (16/81)\u001b[K\rremote: Counting objects:  20% (17/81)\u001b[K\rremote: Counting objects:  22% (18/81)\u001b[K\rremote: Counting objects:  23% (19/81)\u001b[K\rremote: Counting objects:  24% (20/81)\u001b[K\rremote: Counting objects:  25% (21/81)\u001b[K\rremote: Counting objects:  27% (22/81)\u001b[K\rremote: Counting objects:  28% (23/81)\u001b[K\rremote: Counting objects:  29% (24/81)\u001b[K\rremote: Counting objects:  30% (25/81)\u001b[K\rremote: Counting objects:  32% (26/81)\u001b[K\rremote: Counting objects:  33% (27/81)\u001b[K\rremote: Counting objects:  34% (28/81)\u001b[K\rremote: Counting objects:  35% (29/81)\u001b[K\rremote: Counting objects:  37% (30/81)\u001b[K\rremote: Counting objects:  38% (31/81)\u001b[K\rremote: Counting objects:  39% (32/81)\u001b[K\rremote: Counting objects:  40% (33/81)\u001b[K\rremote: Counting objects:  41% (34/81)\u001b[K\rremote: Counting objects:  43% (35/81)\u001b[K\rremote: Counting objects:  44% (36/81)\u001b[K\rremote: Counting objects:  45% (37/81)\u001b[K\rremote: Counting objects:  46% (38/81)\u001b[K\rremote: Counting objects:  48% (39/81)\u001b[K\rremote: Counting objects:  49% (40/81)\u001b[K\rremote: Counting objects:  50% (41/81)\u001b[K\rremote: Counting objects:  51% (42/81)\u001b[K\rremote: Counting objects:  53% (43/81)\u001b[K\rremote: Counting objects:  54% (44/81)\u001b[K\rremote: Counting objects:  55% (45/81)\u001b[K\rremote: Counting objects:  56% (46/81)\u001b[K\rremote: Counting objects:  58% (47/81)\u001b[K\rremote: Counting objects:  59% (48/81)\u001b[K\rremote: Counting objects:  60% (49/81)\u001b[K\rremote: Counting objects:  61% (50/81)\u001b[K\rremote: Counting objects:  62% (51/81)\u001b[K\rremote: Counting objects:  64% (52/81)\u001b[K\rremote: Counting objects:  65% (53/81)\u001b[K\rremote: Counting objects:  66% (54/81)\u001b[K\rremote: Counting objects:  67% (55/81)\u001b[K\rremote: Counting objects:  69% (56/81)\u001b[K\rremote: Counting objects:  70% (57/81)\u001b[K\rremote: Counting objects:  71% (58/81)\u001b[K\rremote: Counting objects:  72% (59/81)\u001b[K\rremote: Counting objects:  74% (60/81)\u001b[K\rremote: Counting objects:  75% (61/81)\u001b[K\rremote: Counting objects:  76% (62/81)\u001b[K\rremote: Counting objects:  77% (63/81)\u001b[K\rremote: Counting objects:  79% (64/81)\u001b[K\rremote: Counting objects:  80% (65/81)\u001b[K\rremote: Counting objects:  81% (66/81)\u001b[K\rremote: Counting objects:  82% (67/81)\u001b[K\rremote: Counting objects:  83% (68/81)\u001b[K\rremote: Counting objects:  85% (69/81)\u001b[K\rremote: Counting objects:  86% (70/81)\u001b[K\rremote: Counting objects:  87% (71/81)\u001b[K\rremote: Counting objects:  88% (72/81)\u001b[K\rremote: Counting objects:  90% (73/81)\u001b[K\rremote: Counting objects:  91% (74/81)\u001b[K\rremote: Counting objects:  92% (75/81)\u001b[K\rremote: Counting objects:  93% (76/81)\u001b[K\rremote: Counting objects:  95% (77/81)\u001b[K\rremote: Counting objects:  96% (78/81)\u001b[K\rremote: Counting objects:  97% (79/81)\u001b[K\rremote: Counting objects:  98% (80/81)\u001b[K\rremote: Counting objects: 100% (81/81)\u001b[K\rremote: Counting objects: 100% (81/81), done.\u001b[K\n",
            "remote: Compressing objects:   1% (1/78)\u001b[K\rremote: Compressing objects:   2% (2/78)\u001b[K\rremote: Compressing objects:   3% (3/78)\u001b[K\rremote: Compressing objects:   5% (4/78)\u001b[K\rremote: Compressing objects:   6% (5/78)\u001b[K\rremote: Compressing objects:   7% (6/78)\u001b[K\rremote: Compressing objects:   8% (7/78)\u001b[K\rremote: Compressing objects:  10% (8/78)\u001b[K\rremote: Compressing objects:  11% (9/78)\u001b[K\rremote: Compressing objects:  12% (10/78)\u001b[K\rremote: Compressing objects:  14% (11/78)\u001b[K\rremote: Compressing objects:  15% (12/78)\u001b[K\rremote: Compressing objects:  16% (13/78)\u001b[K\rremote: Compressing objects:  17% (14/78)\u001b[K\rremote: Compressing objects:  19% (15/78)\u001b[K\rremote: Compressing objects:  20% (16/78)\u001b[K\rremote: Compressing objects:  21% (17/78)\u001b[K\rremote: Compressing objects:  23% (18/78)\u001b[K\rremote: Compressing objects:  24% (19/78)\u001b[K\rremote: Compressing objects:  25% (20/78)\u001b[K\rremote: Compressing objects:  26% (21/78)\u001b[K\rremote: Compressing objects:  28% (22/78)\u001b[K\rremote: Compressing objects:  29% (23/78)\u001b[K\rremote: Compressing objects:  30% (24/78)\u001b[K\rremote: Compressing objects:  32% (25/78)\u001b[K\rremote: Compressing objects:  33% (26/78)\u001b[K\rremote: Compressing objects:  34% (27/78)\u001b[K\rremote: Compressing objects:  35% (28/78)\u001b[K\rremote: Compressing objects:  37% (29/78)\u001b[K\rremote: Compressing objects:  38% (30/78)\u001b[K\rremote: Compressing objects:  39% (31/78)\u001b[K\rremote: Compressing objects:  41% (32/78)\u001b[K\rremote: Compressing objects:  42% (33/78)\u001b[K\rremote: Compressing objects:  43% (34/78)\u001b[K\rremote: Compressing objects:  44% (35/78)\u001b[K\rremote: Compressing objects:  46% (36/78)\u001b[K\rremote: Compressing objects:  47% (37/78)\u001b[K\rremote: Compressing objects:  48% (38/78)\u001b[K\rremote: Compressing objects:  50% (39/78)\u001b[K\rremote: Compressing objects:  51% (40/78)\u001b[K\rremote: Compressing objects:  52% (41/78)\u001b[K\rremote: Compressing objects:  53% (42/78)\u001b[K\rremote: Compressing objects:  55% (43/78)\u001b[K\rremote: Compressing objects:  56% (44/78)\u001b[K\rremote: Compressing objects:  57% (45/78)\u001b[K\rremote: Compressing objects:  58% (46/78)\u001b[K\rremote: Compressing objects:  60% (47/78)\u001b[K\rremote: Compressing objects:  61% (48/78)\u001b[K\rremote: Compressing objects:  62% (49/78)\u001b[K\rremote: Compressing objects:  64% (50/78)\u001b[K\rremote: Compressing objects:  65% (51/78)\u001b[K\rremote: Compressing objects:  66% (52/78)\u001b[K\rremote: Compressing objects:  67% (53/78)\u001b[K\rremote: Compressing objects:  69% (54/78)\u001b[K\rremote: Compressing objects:  70% (55/78)\u001b[K\rremote: Compressing objects:  71% (56/78)\u001b[K\rremote: Compressing objects:  73% (57/78)\u001b[K\rremote: Compressing objects:  74% (58/78)\u001b[K\rremote: Compressing objects:  75% (59/78)\u001b[K\rremote: Compressing objects:  76% (60/78)\u001b[K\rremote: Compressing objects:  78% (61/78)\u001b[K\rremote: Compressing objects:  79% (62/78)\u001b[K\rremote: Compressing objects:  80% (63/78)\u001b[K\rremote: Compressing objects:  82% (64/78)\u001b[K\rremote: Compressing objects:  83% (65/78)\u001b[K\rremote: Compressing objects:  84% (66/78)\u001b[K\rremote: Compressing objects:  85% (67/78)\u001b[K\rremote: Compressing objects:  87% (68/78)\u001b[K\rremote: Compressing objects:  88% (69/78)\u001b[K\rremote: Compressing objects:  89% (70/78)\u001b[K\rremote: Compressing objects:  91% (71/78)\u001b[K\rremote: Compressing objects:  92% (72/78)\u001b[K\rremote: Compressing objects:  93% (73/78)\u001b[K\rremote: Compressing objects:  94% (74/78)\u001b[K\rremote: Compressing objects:  96% (75/78)\u001b[K\rremote: Compressing objects:  97% (76/78)\u001b[K\rremote: Compressing objects:  98% (77/78)\u001b[K\rremote: Compressing objects: 100% (78/78)\u001b[K\rremote: Compressing objects: 100% (78/78), done.\u001b[K\n",
            "Unpacking objects:   1% (1/81)   \rUnpacking objects:   2% (2/81)   \rUnpacking objects:   3% (3/81)   \rUnpacking objects:   4% (4/81)   \rUnpacking objects:   6% (5/81)   \rUnpacking objects:   7% (6/81)   \rUnpacking objects:   8% (7/81)   \rUnpacking objects:   9% (8/81)   \rUnpacking objects:  11% (9/81)   \rUnpacking objects:  12% (10/81)   \rUnpacking objects:  13% (11/81)   \rUnpacking objects:  14% (12/81)   \rUnpacking objects:  16% (13/81)   \rUnpacking objects:  17% (14/81)   \rUnpacking objects:  18% (15/81)   \rUnpacking objects:  19% (16/81)   \rUnpacking objects:  20% (17/81)   \rUnpacking objects:  22% (18/81)   \rUnpacking objects:  23% (19/81)   \rUnpacking objects:  24% (20/81)   \rUnpacking objects:  25% (21/81)   \rUnpacking objects:  27% (22/81)   \rUnpacking objects:  28% (23/81)   \rUnpacking objects:  29% (24/81)   \rUnpacking objects:  30% (25/81)   \rUnpacking objects:  32% (26/81)   \rUnpacking objects:  33% (27/81)   \rUnpacking objects:  34% (28/81)   \rUnpacking objects:  35% (29/81)   \rUnpacking objects:  37% (30/81)   \rUnpacking objects:  38% (31/81)   \rUnpacking objects:  39% (32/81)   \rUnpacking objects:  40% (33/81)   \rUnpacking objects:  41% (34/81)   \rUnpacking objects:  43% (35/81)   \rUnpacking objects:  44% (36/81)   \rUnpacking objects:  45% (37/81)   \rUnpacking objects:  46% (38/81)   \rUnpacking objects:  48% (39/81)   \rUnpacking objects:  49% (40/81)   \rUnpacking objects:  50% (41/81)   \rUnpacking objects:  51% (42/81)   \rUnpacking objects:  53% (43/81)   \rUnpacking objects:  54% (44/81)   \rUnpacking objects:  55% (45/81)   \rUnpacking objects:  56% (46/81)   \rUnpacking objects:  58% (47/81)   \rUnpacking objects:  59% (48/81)   \rUnpacking objects:  60% (49/81)   \rUnpacking objects:  61% (50/81)   \rUnpacking objects:  62% (51/81)   \rUnpacking objects:  64% (52/81)   \rUnpacking objects:  65% (53/81)   \rUnpacking objects:  66% (54/81)   \rUnpacking objects:  67% (55/81)   \rUnpacking objects:  69% (56/81)   \rUnpacking objects:  70% (57/81)   \rUnpacking objects:  71% (58/81)   \rUnpacking objects:  72% (59/81)   \rUnpacking objects:  74% (60/81)   \rUnpacking objects:  75% (61/81)   \rUnpacking objects:  76% (62/81)   \rUnpacking objects:  77% (63/81)   \rUnpacking objects:  79% (64/81)   \rUnpacking objects:  80% (65/81)   \rUnpacking objects:  81% (66/81)   \rUnpacking objects:  82% (67/81)   \rUnpacking objects:  83% (68/81)   \rUnpacking objects:  85% (69/81)   \rUnpacking objects:  86% (70/81)   \rUnpacking objects:  87% (71/81)   \rUnpacking objects:  88% (72/81)   \rUnpacking objects:  90% (73/81)   \rUnpacking objects:  91% (74/81)   \rUnpacking objects:  92% (75/81)   \rremote: Total 81 (delta 32), reused 0 (delta 0), pack-reused 0\u001b[K\n",
            "Unpacking objects:  93% (76/81)   \rUnpacking objects:  95% (77/81)   \rUnpacking objects:  96% (78/81)   \rUnpacking objects:  97% (79/81)   \rUnpacking objects:  98% (80/81)   \rUnpacking objects: 100% (81/81)   \rUnpacking objects: 100% (81/81), done.\n"
          ],
          "name": "stdout"
        }
      ]
    },
    {
      "cell_type": "markdown",
      "metadata": {
        "id": "5U3gbW--721i",
        "colab_type": "text"
      },
      "source": [
        ""
      ]
    }
  ]
}