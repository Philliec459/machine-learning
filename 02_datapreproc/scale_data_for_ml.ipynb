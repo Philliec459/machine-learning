{
  "nbformat": 4,
  "nbformat_minor": 0,
  "metadata": {
    "colab": {
      "name": "scale_data_for_ml.ipynb",
      "provenance": [],
      "collapsed_sections": [],
      "authorship_tag": "ABX9TyOnid4zfCyhBXGP2nKPSI+g",
      "include_colab_link": true
    },
    "kernelspec": {
      "name": "python3",
      "display_name": "Python 3"
    }
  },
  "cells": [
    {
      "cell_type": "markdown",
      "metadata": {
        "id": "view-in-github",
        "colab_type": "text"
      },
      "source": [
        "<a href=\"https://colab.research.google.com/github/yohanesnuwara/machine-learning/blob/master/02_datapreproc/scale_data_for_ml.ipynb\" target=\"_parent\"><img src=\"https://colab.research.google.com/assets/colab-badge.svg\" alt=\"Open In Colab\"/></a>"
      ]
    },
    {
      "cell_type": "markdown",
      "metadata": {
        "id": "8p6hSV04jKL9",
        "colab_type": "text"
      },
      "source": [
        "# **Scale Machine Learning Data**"
      ]
    },
    {
      "cell_type": "code",
      "metadata": {
        "id": "sPALIuy1ju1h",
        "colab_type": "code",
        "outputId": "c8486d08-5735-41c1-efbf-7f60e8fc3868",
        "colab": {
          "base_uri": "https://localhost:8080/",
          "height": 118
        }
      },
      "source": [
        "!git clone https://github.com/yohanesnuwara/machine-learning"
      ],
      "execution_count": 1,
      "outputs": [
        {
          "output_type": "stream",
          "text": [
            "Cloning into 'machine-learning'...\n",
            "remote: Enumerating objects: 65, done.\u001b[K\n",
            "remote: Counting objects:   1% (1/65)\u001b[K\rremote: Counting objects:   3% (2/65)\u001b[K\rremote: Counting objects:   4% (3/65)\u001b[K\rremote: Counting objects:   6% (4/65)\u001b[K\rremote: Counting objects:   7% (5/65)\u001b[K\rremote: Counting objects:   9% (6/65)\u001b[K\rremote: Counting objects:  10% (7/65)\u001b[K\rremote: Counting objects:  12% (8/65)\u001b[K\rremote: Counting objects:  13% (9/65)\u001b[K\rremote: Counting objects:  15% (10/65)\u001b[K\rremote: Counting objects:  16% (11/65)\u001b[K\rremote: Counting objects:  18% (12/65)\u001b[K\rremote: Counting objects:  20% (13/65)\u001b[K\rremote: Counting objects:  21% (14/65)\u001b[K\rremote: Counting objects:  23% (15/65)\u001b[K\rremote: Counting objects:  24% (16/65)\u001b[K\rremote: Counting objects:  26% (17/65)\u001b[K\rremote: Counting objects:  27% (18/65)\u001b[K\rremote: Counting objects:  29% (19/65)\u001b[K\rremote: Counting objects:  30% (20/65)\u001b[K\rremote: Counting objects:  32% (21/65)\u001b[K\rremote: Counting objects:  33% (22/65)\u001b[K\rremote: Counting objects:  35% (23/65)\u001b[K\rremote: Counting objects:  36% (24/65)\u001b[K\rremote: Counting objects:  38% (25/65)\u001b[K\rremote: Counting objects:  40% (26/65)\u001b[K\rremote: Counting objects:  41% (27/65)\u001b[K\rremote: Counting objects:  43% (28/65)\u001b[K\rremote: Counting objects:  44% (29/65)\u001b[K\rremote: Counting objects:  46% (30/65)\u001b[K\rremote: Counting objects:  47% (31/65)\u001b[K\rremote: Counting objects:  49% (32/65)\u001b[K\rremote: Counting objects:  50% (33/65)\u001b[K\rremote: Counting objects:  52% (34/65)\u001b[K\rremote: Counting objects:  53% (35/65)\u001b[K\rremote: Counting objects:  55% (36/65)\u001b[K\rremote: Counting objects:  56% (37/65)\u001b[K\rremote: Counting objects:  58% (38/65)\u001b[K\rremote: Counting objects:  60% (39/65)\u001b[K\rremote: Counting objects:  61% (40/65)\u001b[K\rremote: Counting objects:  63% (41/65)\u001b[K\rremote: Counting objects:  64% (42/65)\u001b[K\rremote: Counting objects:  66% (43/65)\u001b[K\rremote: Counting objects:  67% (44/65)\u001b[K\rremote: Counting objects:  69% (45/65)\u001b[K\rremote: Counting objects:  70% (46/65)\u001b[K\rremote: Counting objects:  72% (47/65)\u001b[K\rremote: Counting objects:  73% (48/65)\u001b[K\rremote: Counting objects:  75% (49/65)\u001b[K\rremote: Counting objects:  76% (50/65)\u001b[K\rremote: Counting objects:  78% (51/65)\u001b[K\rremote: Counting objects:  80% (52/65)\u001b[K\rremote: Counting objects:  81% (53/65)\u001b[K\rremote: Counting objects:  83% (54/65)\u001b[K\rremote: Counting objects:  84% (55/65)\u001b[K\rremote: Counting objects:  86% (56/65)\u001b[K\rremote: Counting objects:  87% (57/65)\u001b[K\rremote: Counting objects:  89% (58/65)\u001b[K\rremote: Counting objects:  90% (59/65)\u001b[K\rremote: Counting objects:  92% (60/65)\u001b[K\rremote: Counting objects:  93% (61/65)\u001b[K\rremote: Counting objects:  95% (62/65)\u001b[K\rremote: Counting objects:  96% (63/65)\u001b[K\rremote: Counting objects:  98% (64/65)\u001b[K\rremote: Counting objects: 100% (65/65)\u001b[K\rremote: Counting objects: 100% (65/65), done.\u001b[K\n",
            "remote: Compressing objects:   1% (1/62)\u001b[K\rremote: Compressing objects:   3% (2/62)\u001b[K\rremote: Compressing objects:   4% (3/62)\u001b[K\rremote: Compressing objects:   6% (4/62)\u001b[K\rremote: Compressing objects:   8% (5/62)\u001b[K\rremote: Compressing objects:   9% (6/62)\u001b[K\rremote: Compressing objects:  11% (7/62)\u001b[K\rremote: Compressing objects:  12% (8/62)\u001b[K\rremote: Compressing objects:  14% (9/62)\u001b[K\rremote: Compressing objects:  16% (10/62)\u001b[K\rremote: Compressing objects:  17% (11/62)\u001b[K\rremote: Compressing objects:  19% (12/62)\u001b[K\rremote: Compressing objects:  20% (13/62)\u001b[K\rremote: Compressing objects:  22% (14/62)\u001b[K\rremote: Compressing objects:  24% (15/62)\u001b[K\rremote: Compressing objects:  25% (16/62)\u001b[K\rremote: Compressing objects:  27% (17/62)\u001b[K\rremote: Compressing objects:  29% (18/62)\u001b[K\rremote: Compressing objects:  30% (19/62)\u001b[K\rremote: Compressing objects:  32% (20/62)\u001b[K\rremote: Compressing objects:  33% (21/62)\u001b[K\rremote: Compressing objects:  35% (22/62)\u001b[K\rremote: Compressing objects:  37% (23/62)\u001b[K\rremote: Compressing objects:  38% (24/62)\u001b[K\rremote: Compressing objects:  40% (25/62)\u001b[K\rremote: Compressing objects:  41% (26/62)\u001b[K\rremote: Compressing objects:  43% (27/62)\u001b[K\rremote: Compressing objects:  45% (28/62)\u001b[K\rremote: Compressing objects:  46% (29/62)\u001b[K\rremote: Compressing objects:  48% (30/62)\u001b[K\rremote: Compressing objects:  50% (31/62)\u001b[K\rremote: Compressing objects:  51% (32/62)\u001b[K\rremote: Compressing objects:  53% (33/62)\u001b[K\rremote: Compressing objects:  54% (34/62)\u001b[K\rremote: Compressing objects:  56% (35/62)\u001b[K\rremote: Compressing objects:  58% (36/62)\u001b[K\rremote: Compressing objects:  59% (37/62)\u001b[K\rremote: Compressing objects:  61% (38/62)\u001b[K\rremote: Compressing objects:  62% (39/62)\u001b[K\rremote: Compressing objects:  64% (40/62)\u001b[K\rremote: Compressing objects:  66% (41/62)\u001b[K\rremote: Compressing objects:  67% (42/62)\u001b[K\rremote: Compressing objects:  69% (43/62)\u001b[K\rremote: Compressing objects:  70% (44/62)\u001b[K\rremote: Compressing objects:  72% (45/62)\u001b[K\rremote: Compressing objects:  74% (46/62)\u001b[K\rremote: Compressing objects:  75% (47/62)\u001b[K\rremote: Compressing objects:  77% (48/62)\u001b[K\rremote: Compressing objects:  79% (49/62)\u001b[K\rremote: Compressing objects:  80% (50/62)\u001b[K\rremote: Compressing objects:  82% (51/62)\u001b[K\rremote: Compressing objects:  83% (52/62)\u001b[K\rremote: Compressing objects:  85% (53/62)\u001b[K\rremote: Compressing objects:  87% (54/62)\u001b[K\rremote: Compressing objects:  88% (55/62)\u001b[K\rremote: Compressing objects:  90% (56/62)\u001b[K\rremote: Compressing objects:  91% (57/62)\u001b[K\rremote: Compressing objects:  93% (58/62)\u001b[K\rremote: Compressing objects:  95% (59/62)\u001b[K\rremote: Compressing objects:  96% (60/62)\u001b[K\rremote: Compressing objects:  98% (61/62)\u001b[K\rremote: Compressing objects: 100% (62/62)\u001b[K\rremote: Compressing objects: 100% (62/62), done.\u001b[K\n",
            "Unpacking objects:   1% (1/65)   \rUnpacking objects:   3% (2/65)   \rUnpacking objects:   4% (3/65)   \rUnpacking objects:   6% (4/65)   \rUnpacking objects:   7% (5/65)   \rUnpacking objects:   9% (6/65)   \rUnpacking objects:  10% (7/65)   \rUnpacking objects:  12% (8/65)   \rUnpacking objects:  13% (9/65)   \rUnpacking objects:  15% (10/65)   \rUnpacking objects:  16% (11/65)   \rUnpacking objects:  18% (12/65)   \rUnpacking objects:  20% (13/65)   \rUnpacking objects:  21% (14/65)   \rUnpacking objects:  23% (15/65)   \rUnpacking objects:  24% (16/65)   \rUnpacking objects:  26% (17/65)   \rUnpacking objects:  27% (18/65)   \rUnpacking objects:  29% (19/65)   \rUnpacking objects:  30% (20/65)   \rUnpacking objects:  32% (21/65)   \rUnpacking objects:  33% (22/65)   \rUnpacking objects:  35% (23/65)   \rUnpacking objects:  36% (24/65)   \rUnpacking objects:  38% (25/65)   \rUnpacking objects:  40% (26/65)   \rUnpacking objects:  41% (27/65)   \rUnpacking objects:  43% (28/65)   \rUnpacking objects:  44% (29/65)   \rUnpacking objects:  46% (30/65)   \rUnpacking objects:  47% (31/65)   \rUnpacking objects:  49% (32/65)   \rUnpacking objects:  50% (33/65)   \rUnpacking objects:  52% (34/65)   \rUnpacking objects:  53% (35/65)   \rUnpacking objects:  55% (36/65)   \rUnpacking objects:  56% (37/65)   \rUnpacking objects:  58% (38/65)   \rUnpacking objects:  60% (39/65)   \rUnpacking objects:  61% (40/65)   \rUnpacking objects:  63% (41/65)   \rUnpacking objects:  64% (42/65)   \rUnpacking objects:  66% (43/65)   \rUnpacking objects:  67% (44/65)   \rUnpacking objects:  69% (45/65)   \rUnpacking objects:  70% (46/65)   \rUnpacking objects:  72% (47/65)   \rUnpacking objects:  73% (48/65)   \rUnpacking objects:  75% (49/65)   \rUnpacking objects:  76% (50/65)   \rUnpacking objects:  78% (51/65)   \rUnpacking objects:  80% (52/65)   \rUnpacking objects:  81% (53/65)   \rUnpacking objects:  83% (54/65)   \rUnpacking objects:  84% (55/65)   \rUnpacking objects:  86% (56/65)   \rUnpacking objects:  87% (57/65)   \rUnpacking objects:  89% (58/65)   \rUnpacking objects:  90% (59/65)   \rremote: Total 65 (delta 24), reused 0 (delta 0), pack-reused 0\u001b[K\n",
            "Unpacking objects:  92% (60/65)   \rUnpacking objects:  93% (61/65)   \rUnpacking objects:  95% (62/65)   \rUnpacking objects:  96% (63/65)   \rUnpacking objects:  98% (64/65)   \rUnpacking objects: 100% (65/65)   \rUnpacking objects: 100% (65/65), done.\n"
          ],
          "name": "stdout"
        }
      ]
    },
    {
      "cell_type": "markdown",
      "metadata": {
        "id": "K9I26wVijTAR",
        "colab_type": "text"
      },
      "source": [
        "## Normalize data"
      ]
    },
    {
      "cell_type": "markdown",
      "metadata": {
        "id": "DJ5DEVxnjn1o",
        "colab_type": "text"
      },
      "source": [
        "Find minimum and maximum value of the data."
      ]
    },
    {
      "cell_type": "code",
      "metadata": {
        "id": "dEb_RKTuj8Eu",
        "colab_type": "code",
        "colab": {}
      },
      "source": [
        "# Find the min and max values for each column\n",
        "def dataset_minmax(dataset):\n",
        "  minmax = list()\n",
        "  for i in range(len(dataset[0])):\n",
        "    col_values = [row[i] for row in dataset]\n",
        "    value_min = min(col_values)\n",
        "    value_max = max(col_values)\n",
        "    minmax.append([value_min, value_max])\n",
        "  return minmax"
      ],
      "execution_count": 0,
      "outputs": []
    },
    {
      "cell_type": "code",
      "metadata": {
        "id": "KN2vDYG0lxMD",
        "colab_type": "code",
        "outputId": "e41d07f6-7d2a-45c8-c779-3f4cf4cff0f3",
        "colab": {
          "base_uri": "https://localhost:8080/",
          "height": 34
        }
      },
      "source": [
        "# Small dataset example (2 columns and 4 rows)\n",
        "dataset = [[50, 30], [20, 90], [40, 10], [5, 10]]\n",
        "# Calculate min and max for each column\n",
        "minmax = dataset_minmax(dataset)\n",
        "print(minmax)"
      ],
      "execution_count": 8,
      "outputs": [
        {
          "output_type": "stream",
          "text": [
            "[[5, 50], [10, 90]]\n"
          ],
          "name": "stdout"
        }
      ]
    },
    {
      "cell_type": "markdown",
      "metadata": {
        "id": "PCJShmuFmlpi",
        "colab_type": "text"
      },
      "source": [
        "Normalize min to 0 and max to 1. Equation to normalize:\n",
        "\n",
        "$$scaled value = \\frac{value - min}{max - min}$$"
      ]
    },
    {
      "cell_type": "code",
      "metadata": {
        "id": "cg1q1F3qmEKn",
        "colab_type": "code",
        "colab": {}
      },
      "source": [
        "# Rescale dataset columns to the range 0-1\n",
        "def normalize_dataset(dataset, minmax):\n",
        "  for row in dataset:\n",
        "    for i in range(len(row)):\n",
        "      row[i] = (row[i] - minmax[i][0]) / (minmax[i][1] - minmax[i][0])"
      ],
      "execution_count": 0,
      "outputs": []
    },
    {
      "cell_type": "code",
      "metadata": {
        "id": "__6rWzAen66f",
        "colab_type": "code",
        "outputId": "f25ee7be-1226-4123-fb3f-4cdbd4201cc9",
        "colab": {
          "base_uri": "https://localhost:8080/",
          "height": 34
        }
      },
      "source": [
        "# Normalize columns\n",
        "normalize_dataset(dataset, minmax)\n",
        "print(dataset)"
      ],
      "execution_count": 10,
      "outputs": [
        {
          "output_type": "stream",
          "text": [
            "[[1.0, 0.25], [0.3333333333333333, 1.0], [0.7777777777777778, 0.0], [0.0, 0.0]]\n"
          ],
          "name": "stdout"
        }
      ]
    },
    {
      "cell_type": "markdown",
      "metadata": {
        "id": "KwRKGXORocbS",
        "colab_type": "text"
      },
      "source": [
        "Load (using function library in folder `01_dataload`) and normalize `pima-indians-diabetes` dataset."
      ]
    },
    {
      "cell_type": "code",
      "metadata": {
        "id": "-cfzkdFnojtC",
        "colab_type": "code",
        "outputId": "ba87ff43-64ee-4bad-f753-5914cf7f1134",
        "colab": {
          "base_uri": "https://localhost:8080/",
          "height": 50
        }
      },
      "source": [
        "import os, sys\n",
        "sys.path.append('/content/machine-learning/01_dataload')\n",
        "\n",
        "from load_csv_data import *\n",
        "\n",
        "# Load pima-indians-diabetes dataset\n",
        "filename = '/content/machine-learning/datasets/pima-indians-diabetes.csv'\n",
        "dataset = load_csv(filename)\n",
        "\n",
        "# convert string columns to float\n",
        "for i in range(len(dataset[0])):\n",
        "  str_column_to_float(dataset, i)\n",
        "print('Original dataset:', dataset[0])\n",
        "\n",
        "# Calculate min and max for each column\n",
        "minmax = dataset_minmax(dataset)\n",
        "# Normalize columns\n",
        "normalize_dataset(dataset, minmax)\n",
        "print('Normalized dataset:', dataset[0])"
      ],
      "execution_count": 11,
      "outputs": [
        {
          "output_type": "stream",
          "text": [
            "Original dataset: [6.0, 148.0, 72.0, 35.0, 0.0, 33.6, 0.627, 50.0, 1.0]\n",
            "Normalized dataset: [0.35294117647058826, 0.7437185929648241, 0.5901639344262295, 0.35353535353535354, 0.0, 0.5007451564828614, 0.23441502988898377, 0.48333333333333334, 1.0]\n"
          ],
          "name": "stdout"
        }
      ]
    },
    {
      "cell_type": "markdown",
      "metadata": {
        "id": "NGG6h3AKremr",
        "colab_type": "text"
      },
      "source": [
        "## Standardize data"
      ]
    },
    {
      "cell_type": "markdown",
      "metadata": {
        "id": "duuK7qDHrtM9",
        "colab_type": "text"
      },
      "source": [
        "Centering the distribution of the data on the value 0 and the standard deviation to the value 1. Using mean and standard deviation to summarize a normal distribution. "
      ]
    },
    {
      "cell_type": "code",
      "metadata": {
        "id": "dk-Ly0n3XM5h",
        "colab_type": "code",
        "colab": {}
      },
      "source": [
        "# Calculate mean\n",
        "def mean(numbers):\n",
        "  return sum(numbers)/float(len(numbers))\n",
        "\n",
        "# Calculate column mean\n",
        "def column_mean(dataset):\n",
        "  mean_col = [(mean(column)) for column in zip(*dataset)]\n",
        "  # del(mean_col[-1])\n",
        "  return mean_col\n",
        "\n",
        "# Calculate the standard deviation of a list of numbers\n",
        "def stdev(numbers):\n",
        "  from math import sqrt\n",
        "  avg = mean(numbers)\n",
        "  variance = sum([(x-avg)**2 for x in numbers]) / float(len(numbers)-1)\n",
        "  return sqrt(variance)\n",
        "\n",
        "# Calculate column standard deviation\n",
        "def column_stdev(dataset):\n",
        "  stdev_col = [(stdev(column)) for column in zip(*dataset)]\n",
        "  # del(stdev_col[-1])\n",
        "  return stdev_col"
      ],
      "execution_count": 0,
      "outputs": []
    },
    {
      "cell_type": "markdown",
      "metadata": {
        "id": "uxUcuAEvstwz",
        "colab_type": "text"
      },
      "source": [
        "Calculate `mean` and `standard deviation` of the simple dataset."
      ]
    },
    {
      "cell_type": "code",
      "metadata": {
        "id": "R1ALoqhFXWMl",
        "colab_type": "code",
        "colab": {
          "base_uri": "https://localhost:8080/",
          "height": 50
        },
        "outputId": "6e8b44ab-707e-43e7-de5e-8f40149f7f2a"
      },
      "source": [
        "# simple dataset (2 columns and 3 rows)\n",
        "dataset = [[50, 30], [20, 90], [30, 50]]\n",
        "means = column_mean(dataset)\n",
        "stdevs = column_stdev(dataset)\n",
        "print('Mean of column 1:', means[0], 'and column 2:', means[1])\n",
        "print('Standard deviation of column 1:', stdevs[0], 'and column 2:', stdevs[1])"
      ],
      "execution_count": 57,
      "outputs": [
        {
          "output_type": "stream",
          "text": [
            "Mean of column 1: 33.333333333333336 and column 2: 56.666666666666664\n",
            "Standard deviation of column 1: 15.275252316519467 and column 2: 30.550504633038933\n"
          ],
          "name": "stdout"
        }
      ]
    },
    {
      "cell_type": "markdown",
      "metadata": {
        "id": "UKkJc76Mt1Tv",
        "colab_type": "text"
      },
      "source": [
        "Standardize the dataset based on the equation:\n",
        "\n",
        "$$standardizedvalue(i) = \\frac{\\sum_{i=1}^{n}(value(i) - mean)}{stdev}$$"
      ]
    },
    {
      "cell_type": "code",
      "metadata": {
        "id": "CwYMSD08tRqV",
        "colab_type": "code",
        "colab": {}
      },
      "source": [
        "# standardize dataset\n",
        "def standardize_dataset(dataset, means, stdevs):\n",
        "  for row in dataset:\n",
        "    for i in range(len(row)):\n",
        "      row[i] = (row[i] - means[i]) / stdevs[i]"
      ],
      "execution_count": 0,
      "outputs": []
    },
    {
      "cell_type": "code",
      "metadata": {
        "id": "4ulHOMQ7ukZV",
        "colab_type": "code",
        "outputId": "920cea1f-ff8b-4ebc-caa7-19b4fda21750",
        "colab": {
          "base_uri": "https://localhost:8080/",
          "height": 34
        }
      },
      "source": [
        "# standardize dataset\n",
        "standardize_dataset(dataset, means, stdevs)\n",
        "print('Standardized dataset:', dataset)"
      ],
      "execution_count": 59,
      "outputs": [
        {
          "output_type": "stream",
          "text": [
            "Standardized dataset: [[1.0910894511799618, -0.8728715609439694], [-0.8728715609439697, 1.091089451179962], [-0.21821789023599253, -0.2182178902359923]]\n"
          ],
          "name": "stdout"
        }
      ]
    },
    {
      "cell_type": "markdown",
      "metadata": {
        "id": "V9Lq-KtqwgWl",
        "colab_type": "text"
      },
      "source": [
        "Implement to `pima-indians-diabetes` dataset"
      ]
    },
    {
      "cell_type": "code",
      "metadata": {
        "id": "toi-Qi0YwjTx",
        "colab_type": "code",
        "outputId": "5157c96f-eac4-404c-d15c-4a2ec707e532",
        "colab": {
          "base_uri": "https://localhost:8080/",
          "height": 87
        }
      },
      "source": [
        "# Load pima-indians-diabetes dataset\n",
        "filename = '/content/machine-learning/datasets/pima-indians-diabetes.csv'\n",
        "dataset = load_csv(filename)\n",
        "print('Loaded data file {0} with {1} rows and {2} columns'.format(filename, len(dataset), len(dataset[0])))\n",
        "\n",
        "# convert string columns to float\n",
        "for i in range(len(dataset[0])):\n",
        "  str_column_to_float(dataset, i)\n",
        "print('Original dataset:', dataset[0])\n",
        "\n",
        "# Estimate mean and standard deviation\n",
        "means = column_mean(dataset)\n",
        "stdevs = column_stdev(dataset)\n",
        "\n",
        "# standardize dataset\n",
        "standardize_dataset(dataset, means, stdevs)\n",
        "print('Standardized dataset:', dataset[0])"
      ],
      "execution_count": 60,
      "outputs": [
        {
          "output_type": "stream",
          "text": [
            "Loaded data file /content/machine-learning/datasets/pima-indians-diabetes.csv with 768 rows and 9 columns\n",
            "Original dataset: [6.0, 148.0, 72.0, 35.0, 0.0, 33.6, 0.627, 50.0, 1.0]\n",
            "Standardized dataset: [0.6395304921176576, 0.8477713205896718, 0.14954329852954296, 0.9066790623472505, -0.692439324724129, 0.2038799072674717, 0.468186870229798, 1.4250667195933604, 1.3650063669598067]\n"
          ],
          "name": "stdout"
        }
      ]
    },
    {
      "cell_type": "markdown",
      "metadata": {
        "id": "0lKbC4lEdkdo",
        "colab_type": "text"
      },
      "source": [
        "## Extension: Other data transform techniques\n",
        "\n",
        "* Exponential transform (logarithm, exponents, square root)\n",
        "* Power transforms e.g. Box-Cox to fix skew in normally distributed data"
      ]
    },
    {
      "cell_type": "markdown",
      "metadata": {
        "id": "JxeY8aDbEPwn",
        "colab_type": "text"
      },
      "source": [
        "Review data distribution of `pima-indians-diabetes`\n",
        "\n",
        "Data attributes/column:\n",
        "0. Number of times pregnant.\n",
        "1. Plasma glucose concentration a 2 hours in an oral glucose tolerance test.\n",
        "2. Diastolic blood pressure (mm Hg).\n",
        "3. Triceps skinfold thickness (mm).\n",
        "4. 2-Hour serum insulin (mu U/ml).\n",
        "5. Body mass index (weight in kg/(height in m)^2).\n",
        "6. Diabetes pedigree function.\n",
        "7. Age (years).\n",
        "8. Class variable (0 or 1)."
      ]
    },
    {
      "cell_type": "code",
      "metadata": {
        "id": "HxIDfGy2d_yy",
        "colab_type": "code",
        "colab": {
          "base_uri": "https://localhost:8080/",
          "height": 591
        },
        "outputId": "8df90bc0-4e03-495f-ef41-bf5c9f59f4d7"
      },
      "source": [
        "import pandas as pd\n",
        "import seaborn as sns\n",
        "import matplotlib.pyplot as plt\n",
        "\n",
        "# Load pima-indians-diabetes dataset\n",
        "colnames = ['preg', 'plas', 'pres', 'skin', 'test', 'mass', 'pedi', 'age', 'class']\n",
        "filename = '/content/machine-learning/datasets/pima-indians-diabetes.csv'\n",
        "pima = pd.read_csv(filename, names=colnames, header=None)\n",
        "\n",
        "pima.plot(kind='density', subplots=True, layout=(3,3), sharex=False)\n",
        "pima.head(10)\n",
        "\n",
        "# sns.pairplot(pima)"
      ],
      "execution_count": 84,
      "outputs": [
        {
          "output_type": "execute_result",
          "data": {
            "text/html": [
              "<div>\n",
              "<style scoped>\n",
              "    .dataframe tbody tr th:only-of-type {\n",
              "        vertical-align: middle;\n",
              "    }\n",
              "\n",
              "    .dataframe tbody tr th {\n",
              "        vertical-align: top;\n",
              "    }\n",
              "\n",
              "    .dataframe thead th {\n",
              "        text-align: right;\n",
              "    }\n",
              "</style>\n",
              "<table border=\"1\" class=\"dataframe\">\n",
              "  <thead>\n",
              "    <tr style=\"text-align: right;\">\n",
              "      <th></th>\n",
              "      <th>preg</th>\n",
              "      <th>plas</th>\n",
              "      <th>pres</th>\n",
              "      <th>skin</th>\n",
              "      <th>test</th>\n",
              "      <th>mass</th>\n",
              "      <th>pedi</th>\n",
              "      <th>age</th>\n",
              "      <th>class</th>\n",
              "    </tr>\n",
              "  </thead>\n",
              "  <tbody>\n",
              "    <tr>\n",
              "      <th>0</th>\n",
              "      <td>6</td>\n",
              "      <td>148</td>\n",
              "      <td>72</td>\n",
              "      <td>35</td>\n",
              "      <td>0</td>\n",
              "      <td>33.6</td>\n",
              "      <td>0.627</td>\n",
              "      <td>50</td>\n",
              "      <td>1</td>\n",
              "    </tr>\n",
              "    <tr>\n",
              "      <th>1</th>\n",
              "      <td>1</td>\n",
              "      <td>85</td>\n",
              "      <td>66</td>\n",
              "      <td>29</td>\n",
              "      <td>0</td>\n",
              "      <td>26.6</td>\n",
              "      <td>0.351</td>\n",
              "      <td>31</td>\n",
              "      <td>0</td>\n",
              "    </tr>\n",
              "    <tr>\n",
              "      <th>2</th>\n",
              "      <td>8</td>\n",
              "      <td>183</td>\n",
              "      <td>64</td>\n",
              "      <td>0</td>\n",
              "      <td>0</td>\n",
              "      <td>23.3</td>\n",
              "      <td>0.672</td>\n",
              "      <td>32</td>\n",
              "      <td>1</td>\n",
              "    </tr>\n",
              "    <tr>\n",
              "      <th>3</th>\n",
              "      <td>1</td>\n",
              "      <td>89</td>\n",
              "      <td>66</td>\n",
              "      <td>23</td>\n",
              "      <td>94</td>\n",
              "      <td>28.1</td>\n",
              "      <td>0.167</td>\n",
              "      <td>21</td>\n",
              "      <td>0</td>\n",
              "    </tr>\n",
              "    <tr>\n",
              "      <th>4</th>\n",
              "      <td>0</td>\n",
              "      <td>137</td>\n",
              "      <td>40</td>\n",
              "      <td>35</td>\n",
              "      <td>168</td>\n",
              "      <td>43.1</td>\n",
              "      <td>2.288</td>\n",
              "      <td>33</td>\n",
              "      <td>1</td>\n",
              "    </tr>\n",
              "    <tr>\n",
              "      <th>5</th>\n",
              "      <td>5</td>\n",
              "      <td>116</td>\n",
              "      <td>74</td>\n",
              "      <td>0</td>\n",
              "      <td>0</td>\n",
              "      <td>25.6</td>\n",
              "      <td>0.201</td>\n",
              "      <td>30</td>\n",
              "      <td>0</td>\n",
              "    </tr>\n",
              "    <tr>\n",
              "      <th>6</th>\n",
              "      <td>3</td>\n",
              "      <td>78</td>\n",
              "      <td>50</td>\n",
              "      <td>32</td>\n",
              "      <td>88</td>\n",
              "      <td>31.0</td>\n",
              "      <td>0.248</td>\n",
              "      <td>26</td>\n",
              "      <td>1</td>\n",
              "    </tr>\n",
              "    <tr>\n",
              "      <th>7</th>\n",
              "      <td>10</td>\n",
              "      <td>115</td>\n",
              "      <td>0</td>\n",
              "      <td>0</td>\n",
              "      <td>0</td>\n",
              "      <td>35.3</td>\n",
              "      <td>0.134</td>\n",
              "      <td>29</td>\n",
              "      <td>0</td>\n",
              "    </tr>\n",
              "    <tr>\n",
              "      <th>8</th>\n",
              "      <td>2</td>\n",
              "      <td>197</td>\n",
              "      <td>70</td>\n",
              "      <td>45</td>\n",
              "      <td>543</td>\n",
              "      <td>30.5</td>\n",
              "      <td>0.158</td>\n",
              "      <td>53</td>\n",
              "      <td>1</td>\n",
              "    </tr>\n",
              "    <tr>\n",
              "      <th>9</th>\n",
              "      <td>8</td>\n",
              "      <td>125</td>\n",
              "      <td>96</td>\n",
              "      <td>0</td>\n",
              "      <td>0</td>\n",
              "      <td>0.0</td>\n",
              "      <td>0.232</td>\n",
              "      <td>54</td>\n",
              "      <td>1</td>\n",
              "    </tr>\n",
              "  </tbody>\n",
              "</table>\n",
              "</div>"
            ],
            "text/plain": [
              "   preg  plas  pres  skin  test  mass   pedi  age  class\n",
              "0     6   148    72    35     0  33.6  0.627   50      1\n",
              "1     1    85    66    29     0  26.6  0.351   31      0\n",
              "2     8   183    64     0     0  23.3  0.672   32      1\n",
              "3     1    89    66    23    94  28.1  0.167   21      0\n",
              "4     0   137    40    35   168  43.1  2.288   33      1\n",
              "5     5   116    74     0     0  25.6  0.201   30      0\n",
              "6     3    78    50    32    88  31.0  0.248   26      1\n",
              "7    10   115     0     0     0  35.3  0.134   29      0\n",
              "8     2   197    70    45   543  30.5  0.158   53      1\n",
              "9     8   125    96     0     0   0.0  0.232   54      1"
            ]
          },
          "metadata": {
            "tags": []
          },
          "execution_count": 84
        },
        {
          "output_type": "display_data",
          "data": {
            "image/png": "[encoded data removed]",
            "text/plain": [
              "<Figure size 432x288 with 9 Axes>"
            ]
          },
          "metadata": {
            "tags": []
          }
        }
      ]
    },
    {
      "cell_type": "markdown",
      "metadata": {
        "id": "FIR3p6yAf_uM",
        "colab_type": "text"
      },
      "source": [
        "Calculate skewness of data."
      ]
    },
    {
      "cell_type": "code",
      "metadata": {
        "id": "IGZc0hYDhMJZ",
        "colab_type": "code",
        "colab": {
          "base_uri": "https://localhost:8080/",
          "height": 314
        },
        "outputId": "7218220c-89fa-41a7-fdb0-00c132d24264"
      },
      "source": [
        "num_feats = pima.dtypes[pima.dtypes!='object'].index\n",
        "\n",
        "# calculate skew and sort\n",
        "skew_feats = pima[num_feats].skew().sort_values(ascending=False)\n",
        "skewness = pd.DataFrame({'Skew': skew_feats})\n",
        "skewness"
      ],
      "execution_count": 67,
      "outputs": [
        {
          "output_type": "execute_result",
          "data": {
            "text/html": [
              "<div>\n",
              "<style scoped>\n",
              "    .dataframe tbody tr th:only-of-type {\n",
              "        vertical-align: middle;\n",
              "    }\n",
              "\n",
              "    .dataframe tbody tr th {\n",
              "        vertical-align: top;\n",
              "    }\n",
              "\n",
              "    .dataframe thead th {\n",
              "        text-align: right;\n",
              "    }\n",
              "</style>\n",
              "<table border=\"1\" class=\"dataframe\">\n",
              "  <thead>\n",
              "    <tr style=\"text-align: right;\">\n",
              "      <th></th>\n",
              "      <th>Skew</th>\n",
              "    </tr>\n",
              "  </thead>\n",
              "  <tbody>\n",
              "    <tr>\n",
              "      <th>test</th>\n",
              "      <td>2.272251</td>\n",
              "    </tr>\n",
              "    <tr>\n",
              "      <th>pedi</th>\n",
              "      <td>1.919911</td>\n",
              "    </tr>\n",
              "    <tr>\n",
              "      <th>age</th>\n",
              "      <td>1.129597</td>\n",
              "    </tr>\n",
              "    <tr>\n",
              "      <th>preg</th>\n",
              "      <td>0.901674</td>\n",
              "    </tr>\n",
              "    <tr>\n",
              "      <th>class</th>\n",
              "      <td>0.635017</td>\n",
              "    </tr>\n",
              "    <tr>\n",
              "      <th>plas</th>\n",
              "      <td>0.173754</td>\n",
              "    </tr>\n",
              "    <tr>\n",
              "      <th>skin</th>\n",
              "      <td>0.109372</td>\n",
              "    </tr>\n",
              "    <tr>\n",
              "      <th>mass</th>\n",
              "      <td>-0.428982</td>\n",
              "    </tr>\n",
              "    <tr>\n",
              "      <th>pres</th>\n",
              "      <td>-1.843608</td>\n",
              "    </tr>\n",
              "  </tbody>\n",
              "</table>\n",
              "</div>"
            ],
            "text/plain": [
              "           Skew\n",
              "test   2.272251\n",
              "pedi   1.919911\n",
              "age    1.129597\n",
              "preg   0.901674\n",
              "class  0.635017\n",
              "plas   0.173754\n",
              "skin   0.109372\n",
              "mass  -0.428982\n",
              "pres  -1.843608"
            ]
          },
          "metadata": {
            "tags": []
          },
          "execution_count": 67
        }
      ]
    },
    {
      "cell_type": "markdown",
      "metadata": {
        "id": "T02H1KfPidtp",
        "colab_type": "text"
      },
      "source": [
        "### Square Root Transformation"
      ]
    },
    {
      "cell_type": "code",
      "metadata": {
        "id": "dMyLToZ3iIbJ",
        "colab_type": "code",
        "colab": {
          "base_uri": "https://localhost:8080/",
          "height": 591
        },
        "outputId": "63e13ffc-c367-45dd-b43e-e1c1a7c2a2c6"
      },
      "source": [
        "sqrt_pima = pima**(.5)\n",
        "sqrt_pima.plot(kind='density', subplots=True, layout=(3,3), sharex=False)\n",
        "sqrt_pima.head(10)"
      ],
      "execution_count": 69,
      "outputs": [
        {
          "output_type": "execute_result",
          "data": {
            "text/html": [
              "<div>\n",
              "<style scoped>\n",
              "    .dataframe tbody tr th:only-of-type {\n",
              "        vertical-align: middle;\n",
              "    }\n",
              "\n",
              "    .dataframe tbody tr th {\n",
              "        vertical-align: top;\n",
              "    }\n",
              "\n",
              "    .dataframe thead th {\n",
              "        text-align: right;\n",
              "    }\n",
              "</style>\n",
              "<table border=\"1\" class=\"dataframe\">\n",
              "  <thead>\n",
              "    <tr style=\"text-align: right;\">\n",
              "      <th></th>\n",
              "      <th>preg</th>\n",
              "      <th>plas</th>\n",
              "      <th>pres</th>\n",
              "      <th>skin</th>\n",
              "      <th>test</th>\n",
              "      <th>mass</th>\n",
              "      <th>pedi</th>\n",
              "      <th>age</th>\n",
              "      <th>class</th>\n",
              "    </tr>\n",
              "  </thead>\n",
              "  <tbody>\n",
              "    <tr>\n",
              "      <th>0</th>\n",
              "      <td>2.449490</td>\n",
              "      <td>12.165525</td>\n",
              "      <td>8.485281</td>\n",
              "      <td>5.916080</td>\n",
              "      <td>0.000000</td>\n",
              "      <td>5.796551</td>\n",
              "      <td>0.791833</td>\n",
              "      <td>7.071068</td>\n",
              "      <td>1.0</td>\n",
              "    </tr>\n",
              "    <tr>\n",
              "      <th>1</th>\n",
              "      <td>1.000000</td>\n",
              "      <td>9.219544</td>\n",
              "      <td>8.124038</td>\n",
              "      <td>5.385165</td>\n",
              "      <td>0.000000</td>\n",
              "      <td>5.157519</td>\n",
              "      <td>0.592453</td>\n",
              "      <td>5.567764</td>\n",
              "      <td>0.0</td>\n",
              "    </tr>\n",
              "    <tr>\n",
              "      <th>2</th>\n",
              "      <td>2.828427</td>\n",
              "      <td>13.527749</td>\n",
              "      <td>8.000000</td>\n",
              "      <td>0.000000</td>\n",
              "      <td>0.000000</td>\n",
              "      <td>4.827007</td>\n",
              "      <td>0.819756</td>\n",
              "      <td>5.656854</td>\n",
              "      <td>1.0</td>\n",
              "    </tr>\n",
              "    <tr>\n",
              "      <th>3</th>\n",
              "      <td>1.000000</td>\n",
              "      <td>9.433981</td>\n",
              "      <td>8.124038</td>\n",
              "      <td>4.795832</td>\n",
              "      <td>9.695360</td>\n",
              "      <td>5.300943</td>\n",
              "      <td>0.408656</td>\n",
              "      <td>4.582576</td>\n",
              "      <td>0.0</td>\n",
              "    </tr>\n",
              "    <tr>\n",
              "      <th>4</th>\n",
              "      <td>0.000000</td>\n",
              "      <td>11.704700</td>\n",
              "      <td>6.324555</td>\n",
              "      <td>5.916080</td>\n",
              "      <td>12.961481</td>\n",
              "      <td>6.565059</td>\n",
              "      <td>1.512614</td>\n",
              "      <td>5.744563</td>\n",
              "      <td>1.0</td>\n",
              "    </tr>\n",
              "    <tr>\n",
              "      <th>5</th>\n",
              "      <td>2.236068</td>\n",
              "      <td>10.770330</td>\n",
              "      <td>8.602325</td>\n",
              "      <td>0.000000</td>\n",
              "      <td>0.000000</td>\n",
              "      <td>5.059644</td>\n",
              "      <td>0.448330</td>\n",
              "      <td>5.477226</td>\n",
              "      <td>0.0</td>\n",
              "    </tr>\n",
              "    <tr>\n",
              "      <th>6</th>\n",
              "      <td>1.732051</td>\n",
              "      <td>8.831761</td>\n",
              "      <td>7.071068</td>\n",
              "      <td>5.656854</td>\n",
              "      <td>9.380832</td>\n",
              "      <td>5.567764</td>\n",
              "      <td>0.497996</td>\n",
              "      <td>5.099020</td>\n",
              "      <td>1.0</td>\n",
              "    </tr>\n",
              "    <tr>\n",
              "      <th>7</th>\n",
              "      <td>3.162278</td>\n",
              "      <td>10.723805</td>\n",
              "      <td>0.000000</td>\n",
              "      <td>0.000000</td>\n",
              "      <td>0.000000</td>\n",
              "      <td>5.941380</td>\n",
              "      <td>0.366060</td>\n",
              "      <td>5.385165</td>\n",
              "      <td>0.0</td>\n",
              "    </tr>\n",
              "    <tr>\n",
              "      <th>8</th>\n",
              "      <td>1.414214</td>\n",
              "      <td>14.035669</td>\n",
              "      <td>8.366600</td>\n",
              "      <td>6.708204</td>\n",
              "      <td>23.302360</td>\n",
              "      <td>5.522681</td>\n",
              "      <td>0.397492</td>\n",
              "      <td>7.280110</td>\n",
              "      <td>1.0</td>\n",
              "    </tr>\n",
              "    <tr>\n",
              "      <th>9</th>\n",
              "      <td>2.828427</td>\n",
              "      <td>11.180340</td>\n",
              "      <td>9.797959</td>\n",
              "      <td>0.000000</td>\n",
              "      <td>0.000000</td>\n",
              "      <td>0.000000</td>\n",
              "      <td>0.481664</td>\n",
              "      <td>7.348469</td>\n",
              "      <td>1.0</td>\n",
              "    </tr>\n",
              "  </tbody>\n",
              "</table>\n",
              "</div>"
            ],
            "text/plain": [
              "       preg       plas      pres      skin  ...      mass      pedi       age  class\n",
              "0  2.449490  12.165525  8.485281  5.916080  ...  5.796551  0.791833  7.071068    1.0\n",
              "1  1.000000   9.219544  8.124038  5.385165  ...  5.157519  0.592453  5.567764    0.0\n",
              "2  2.828427  13.527749  8.000000  0.000000  ...  4.827007  0.819756  5.656854    1.0\n",
              "3  1.000000   9.433981  8.124038  4.795832  ...  5.300943  0.408656  4.582576    0.0\n",
              "4  0.000000  11.704700  6.324555  5.916080  ...  6.565059  1.512614  5.744563    1.0\n",
              "5  2.236068  10.770330  8.602325  0.000000  ...  5.059644  0.448330  5.477226    0.0\n",
              "6  1.732051   8.831761  7.071068  5.656854  ...  5.567764  0.497996  5.099020    1.0\n",
              "7  3.162278  10.723805  0.000000  0.000000  ...  5.941380  0.366060  5.385165    0.0\n",
              "8  1.414214  14.035669  8.366600  6.708204  ...  5.522681  0.397492  7.280110    1.0\n",
              "9  2.828427  11.180340  9.797959  0.000000  ...  0.000000  0.481664  7.348469    1.0\n",
              "\n",
              "[10 rows x 9 columns]"
            ]
          },
          "metadata": {
            "tags": []
          },
          "execution_count": 69
        },
        {
          "output_type": "display_data",
          "data": {
            "image/png": "[encoded data removed]",
            "text/plain": [
              "<Figure size 432x288 with 9 Axes>"
            ]
          },
          "metadata": {
            "tags": []
          }
        }
      ]
    },
    {
      "cell_type": "markdown",
      "metadata": {
        "id": "_pxu6GvNik6W",
        "colab_type": "text"
      },
      "source": [
        "### Reciprocal Transformation\n",
        "\n",
        "Limitation: INVALID if data contains Zero or NaN"
      ]
    },
    {
      "cell_type": "code",
      "metadata": {
        "id": "qvwYbBrLixZ1",
        "colab_type": "code",
        "colab": {}
      },
      "source": [
        "# still not successful, because data still contains 0. Should be cleansed first (see 01_loaddata notebook)\n",
        "\n",
        "recip_pima = 1 / pima\n",
        "recip_pima.plot(kind='density', subplots=True, layout=(3,3), sharex=False)\n",
        "recip_pima.head(10)"
      ],
      "execution_count": 0,
      "outputs": []
    },
    {
      "cell_type": "markdown",
      "metadata": {
        "id": "pYCHeMYTj4NL",
        "colab_type": "text"
      },
      "source": [
        "### Power Transformation"
      ]
    },
    {
      "cell_type": "code",
      "metadata": {
        "id": "RKoA_Y99kG1p",
        "colab_type": "code",
        "colab": {
          "base_uri": "https://localhost:8080/",
          "height": 591
        },
        "outputId": "da2833d1-975d-4484-e438-fc80e2f6e09d"
      },
      "source": [
        "pow_pima = pima**2\n",
        "pow_pima.plot(kind='density', subplots=True, layout=(3,3), sharex=False)\n",
        "pow_pima.head(10)"
      ],
      "execution_count": 74,
      "outputs": [
        {
          "output_type": "execute_result",
          "data": {
            "text/html": [
              "<div>\n",
              "<style scoped>\n",
              "    .dataframe tbody tr th:only-of-type {\n",
              "        vertical-align: middle;\n",
              "    }\n",
              "\n",
              "    .dataframe tbody tr th {\n",
              "        vertical-align: top;\n",
              "    }\n",
              "\n",
              "    .dataframe thead th {\n",
              "        text-align: right;\n",
              "    }\n",
              "</style>\n",
              "<table border=\"1\" class=\"dataframe\">\n",
              "  <thead>\n",
              "    <tr style=\"text-align: right;\">\n",
              "      <th></th>\n",
              "      <th>preg</th>\n",
              "      <th>plas</th>\n",
              "      <th>pres</th>\n",
              "      <th>skin</th>\n",
              "      <th>test</th>\n",
              "      <th>mass</th>\n",
              "      <th>pedi</th>\n",
              "      <th>age</th>\n",
              "      <th>class</th>\n",
              "    </tr>\n",
              "  </thead>\n",
              "  <tbody>\n",
              "    <tr>\n",
              "      <th>0</th>\n",
              "      <td>36</td>\n",
              "      <td>21904</td>\n",
              "      <td>5184</td>\n",
              "      <td>1225</td>\n",
              "      <td>0</td>\n",
              "      <td>1128.96</td>\n",
              "      <td>0.393129</td>\n",
              "      <td>2500</td>\n",
              "      <td>1</td>\n",
              "    </tr>\n",
              "    <tr>\n",
              "      <th>1</th>\n",
              "      <td>1</td>\n",
              "      <td>7225</td>\n",
              "      <td>4356</td>\n",
              "      <td>841</td>\n",
              "      <td>0</td>\n",
              "      <td>707.56</td>\n",
              "      <td>0.123201</td>\n",
              "      <td>961</td>\n",
              "      <td>0</td>\n",
              "    </tr>\n",
              "    <tr>\n",
              "      <th>2</th>\n",
              "      <td>64</td>\n",
              "      <td>33489</td>\n",
              "      <td>4096</td>\n",
              "      <td>0</td>\n",
              "      <td>0</td>\n",
              "      <td>542.89</td>\n",
              "      <td>0.451584</td>\n",
              "      <td>1024</td>\n",
              "      <td>1</td>\n",
              "    </tr>\n",
              "    <tr>\n",
              "      <th>3</th>\n",
              "      <td>1</td>\n",
              "      <td>7921</td>\n",
              "      <td>4356</td>\n",
              "      <td>529</td>\n",
              "      <td>8836</td>\n",
              "      <td>789.61</td>\n",
              "      <td>0.027889</td>\n",
              "      <td>441</td>\n",
              "      <td>0</td>\n",
              "    </tr>\n",
              "    <tr>\n",
              "      <th>4</th>\n",
              "      <td>0</td>\n",
              "      <td>18769</td>\n",
              "      <td>1600</td>\n",
              "      <td>1225</td>\n",
              "      <td>28224</td>\n",
              "      <td>1857.61</td>\n",
              "      <td>5.234944</td>\n",
              "      <td>1089</td>\n",
              "      <td>1</td>\n",
              "    </tr>\n",
              "    <tr>\n",
              "      <th>5</th>\n",
              "      <td>25</td>\n",
              "      <td>13456</td>\n",
              "      <td>5476</td>\n",
              "      <td>0</td>\n",
              "      <td>0</td>\n",
              "      <td>655.36</td>\n",
              "      <td>0.040401</td>\n",
              "      <td>900</td>\n",
              "      <td>0</td>\n",
              "    </tr>\n",
              "    <tr>\n",
              "      <th>6</th>\n",
              "      <td>9</td>\n",
              "      <td>6084</td>\n",
              "      <td>2500</td>\n",
              "      <td>1024</td>\n",
              "      <td>7744</td>\n",
              "      <td>961.00</td>\n",
              "      <td>0.061504</td>\n",
              "      <td>676</td>\n",
              "      <td>1</td>\n",
              "    </tr>\n",
              "    <tr>\n",
              "      <th>7</th>\n",
              "      <td>100</td>\n",
              "      <td>13225</td>\n",
              "      <td>0</td>\n",
              "      <td>0</td>\n",
              "      <td>0</td>\n",
              "      <td>1246.09</td>\n",
              "      <td>0.017956</td>\n",
              "      <td>841</td>\n",
              "      <td>0</td>\n",
              "    </tr>\n",
              "    <tr>\n",
              "      <th>8</th>\n",
              "      <td>4</td>\n",
              "      <td>38809</td>\n",
              "      <td>4900</td>\n",
              "      <td>2025</td>\n",
              "      <td>294849</td>\n",
              "      <td>930.25</td>\n",
              "      <td>0.024964</td>\n",
              "      <td>2809</td>\n",
              "      <td>1</td>\n",
              "    </tr>\n",
              "    <tr>\n",
              "      <th>9</th>\n",
              "      <td>64</td>\n",
              "      <td>15625</td>\n",
              "      <td>9216</td>\n",
              "      <td>0</td>\n",
              "      <td>0</td>\n",
              "      <td>0.00</td>\n",
              "      <td>0.053824</td>\n",
              "      <td>2916</td>\n",
              "      <td>1</td>\n",
              "    </tr>\n",
              "  </tbody>\n",
              "</table>\n",
              "</div>"
            ],
            "text/plain": [
              "   preg   plas  pres  skin    test     mass      pedi   age  class\n",
              "0    36  21904  5184  1225       0  1128.96  0.393129  2500      1\n",
              "1     1   7225  4356   841       0   707.56  0.123201   961      0\n",
              "2    64  33489  4096     0       0   542.89  0.451584  1024      1\n",
              "3     1   7921  4356   529    8836   789.61  0.027889   441      0\n",
              "4     0  18769  1600  1225   28224  1857.61  5.234944  1089      1\n",
              "5    25  13456  5476     0       0   655.36  0.040401   900      0\n",
              "6     9   6084  2500  1024    7744   961.00  0.061504   676      1\n",
              "7   100  13225     0     0       0  1246.09  0.017956   841      0\n",
              "8     4  38809  4900  2025  294849   930.25  0.024964  2809      1\n",
              "9    64  15625  9216     0       0     0.00  0.053824  2916      1"
            ]
          },
          "metadata": {
            "tags": []
          },
          "execution_count": 74
        },
        {
          "output_type": "display_data",
          "data": {
            "image/png": "[encoded data removed]",
            "text/plain": [
              "<Figure size 432x288 with 9 Axes>"
            ]
          },
          "metadata": {
            "tags": []
          }
        }
      ]
    },
    {
      "cell_type": "markdown",
      "metadata": {
        "id": "NY3BWFSolfU4",
        "colab_type": "text"
      },
      "source": [
        "### Box-Cox Transformation\n",
        "\n",
        "\n"
      ]
    },
    {
      "cell_type": "markdown",
      "metadata": {
        "id": "KWgiwzkrkWUF",
        "colab_type": "text"
      },
      "source": [
        "# Question:\n",
        "1. Can data transformation more than twice?\n",
        "2. Will data transformation change the essential meaning of data?\n",
        "3. How to transform **binomial distributed** data?"
      ]
    }
  ]
}