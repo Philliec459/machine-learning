{
  "nbformat": 4,
  "nbformat_minor": 0,
  "metadata": {
    "colab": {
      "name": "DataCamp_02_UnsupervisedLearning.ipynb",
      "provenance": [],
      "collapsed_sections": [
        "npKGp9QB0Big",
        "VHyoUF9K9pP-"
      ],
      "authorship_tag": "ABX9TyNMZWSlhxly+JQaMGgyxVLr",
      "include_colab_link": true
    },
    "kernelspec": {
      "name": "python3",
      "display_name": "Python 3"
    },
    "language_info": {
      "name": "python"
    }
  },
  "cells": [
    {
      "cell_type": "markdown",
      "metadata": {
        "id": "view-in-github",
        "colab_type": "text"
      },
      "source": [
        "<a href=\"https://colab.research.google.com/github/yohanesnuwara/machine-learning/blob/master/datacamp_notebooks/DataCamp_02_UnsupervisedLearning.ipynb\" target=\"_parent\"><img src=\"https://colab.research.google.com/assets/colab-badge.svg\" alt=\"Open In Colab\"/></a>"
      ]
    },
    {
      "cell_type": "code",
      "metadata": {
        "id": "j_aJB3ID4_RS"
      },
      "source": [
        "import numpy as np\n",
        "import pandas as pd\n",
        "import matplotlib.pyplot as plt\n",
        "import seaborn as sns\n",
        "\n",
        "from scipy.cluster.hierarchy import linkage, dendrogram\n",
        "from scipy.cluster.vq import whiten\n",
        "from scipy.cluster.hierarchy import fcluster\n",
        "from scipy.stats import pearsonr\n",
        "\n",
        "from sklearn.datasets import load_iris\n",
        "from sklearn.cluster import KMeans\n",
        "from sklearn.preprocessing import StandardScaler, Normalizer, MaxAbsScaler\n",
        "from sklearn.pipeline import make_pipeline\n",
        "from sklearn.manifold import TSNE\n",
        "from sklearn.decomposition import PCA, TruncatedSVD, NMF\n",
        "from sklearn.feature_extraction.text import TfidfVectorizer"
      ],
      "execution_count": 46,
      "outputs": []
    },
    {
      "cell_type": "code",
      "metadata": {
        "colab": {
          "base_uri": "https://localhost:8080/"
        },
        "id": "1ww_H6i67_34",
        "outputId": "6b0dff45-dae6-47f3-ac6c-3d56df87694a"
      },
      "source": [
        "!git clone https://github.com/yohanesnuwara/datasets"
      ],
      "execution_count": 2,
      "outputs": [
        {
          "output_type": "stream",
          "text": [
            "Cloning into 'datasets'...\n",
            "remote: Enumerating objects: 454, done.\u001b[K\n",
            "remote: Counting objects: 100% (32/32), done.\u001b[K\n",
            "remote: Compressing objects: 100% (32/32), done.\u001b[K\n",
            "remote: Total 454 (delta 10), reused 0 (delta 0), pack-reused 422\u001b[K\n",
            "Receiving objects: 100% (454/454), 40.03 MiB | 19.24 MiB/s, done.\n",
            "Resolving deltas: 100% (147/147), done.\n"
          ],
          "name": "stdout"
        }
      ]
    },
    {
      "cell_type": "code",
      "metadata": {
        "id": "XMt0X-H4T1Z5"
      },
      "source": [
        "def get_stock_price_data():\n",
        "  path = \"https://assets.datacamp.com/production/repositories/655/datasets/1304e66b1f9799e1a5eac046ef75cf57bb1dd630/company-stock-movements-2010-2015-incl.csv\"\n",
        "  df = pd.read_csv(path)\n",
        "  return df\n",
        "\n",
        "def get_eurovision_data():\n",
        "  path = \"https://assets.datacamp.com/production/repositories/655/datasets/2a1f3ab7bcc76eef1b8e1eb29afbd54c4ebf86f2/eurovision-2016.csv\"\n",
        "  df = pd.read_csv(path)\n",
        "  \n",
        "  # Pivoting into televote rank \n",
        "  df = df.pivot(index='From country', columns='To country', values='Televote Rank')\n",
        "  \n",
        "  # fill NAs with 1\n",
        "  df.fillna(1, inplace=True)  \n",
        "  return df\n",
        "\n",
        "def get_digits_data():\n",
        "  path = \"https://assets.datacamp.com/production/repositories/655/datasets/effd1557b8146ab6e620a18d50c9ed82df990dce/lcd-digits.csv\"\n",
        "  data = np.loadtxt(path, delimiter=',')\n",
        "  return data"
      ],
      "execution_count": 3,
      "outputs": []
    },
    {
      "cell_type": "markdown",
      "metadata": {
        "id": "xUG8_9jK8j6X"
      },
      "source": [
        "## Chapter 1.\n",
        "\n",
        "* K-Means clustering\n",
        "* Plot the centroid of clusters\n",
        "* Clustering evaluation by cross-tabulation\n",
        "* Clustering evaluation by inertial measurements & selecting optimum number of clusters by Elbow plot\n",
        "* Normalization inside pipeline"
      ]
    },
    {
      "cell_type": "code",
      "metadata": {
        "colab": {
          "base_uri": "https://localhost:8080/"
        },
        "id": "C33svL1j8jJb",
        "outputId": "6780782d-d25c-4299-9bef-9fc7e528a5d0"
      },
      "source": [
        "# Load iris dataset\n",
        "samples = load_iris()\n",
        "samples = samples.data\n",
        "\n",
        "print(samples)"
      ],
      "execution_count": 4,
      "outputs": [
        {
          "output_type": "stream",
          "text": [
            "[[5.1 3.5 1.4 0.2]\n",
            " [4.9 3.  1.4 0.2]\n",
            " [4.7 3.2 1.3 0.2]\n",
            " [4.6 3.1 1.5 0.2]\n",
            " [5.  3.6 1.4 0.2]\n",
            " [5.4 3.9 1.7 0.4]\n",
            " [4.6 3.4 1.4 0.3]\n",
            " [5.  3.4 1.5 0.2]\n",
            " [4.4 2.9 1.4 0.2]\n",
            " [4.9 3.1 1.5 0.1]\n",
            " [5.4 3.7 1.5 0.2]\n",
            " [4.8 3.4 1.6 0.2]\n",
            " [4.8 3.  1.4 0.1]\n",
            " [4.3 3.  1.1 0.1]\n",
            " [5.8 4.  1.2 0.2]\n",
            " [5.7 4.4 1.5 0.4]\n",
            " [5.4 3.9 1.3 0.4]\n",
            " [5.1 3.5 1.4 0.3]\n",
            " [5.7 3.8 1.7 0.3]\n",
            " [5.1 3.8 1.5 0.3]\n",
            " [5.4 3.4 1.7 0.2]\n",
            " [5.1 3.7 1.5 0.4]\n",
            " [4.6 3.6 1.  0.2]\n",
            " [5.1 3.3 1.7 0.5]\n",
            " [4.8 3.4 1.9 0.2]\n",
            " [5.  3.  1.6 0.2]\n",
            " [5.  3.4 1.6 0.4]\n",
            " [5.2 3.5 1.5 0.2]\n",
            " [5.2 3.4 1.4 0.2]\n",
            " [4.7 3.2 1.6 0.2]\n",
            " [4.8 3.1 1.6 0.2]\n",
            " [5.4 3.4 1.5 0.4]\n",
            " [5.2 4.1 1.5 0.1]\n",
            " [5.5 4.2 1.4 0.2]\n",
            " [4.9 3.1 1.5 0.2]\n",
            " [5.  3.2 1.2 0.2]\n",
            " [5.5 3.5 1.3 0.2]\n",
            " [4.9 3.6 1.4 0.1]\n",
            " [4.4 3.  1.3 0.2]\n",
            " [5.1 3.4 1.5 0.2]\n",
            " [5.  3.5 1.3 0.3]\n",
            " [4.5 2.3 1.3 0.3]\n",
            " [4.4 3.2 1.3 0.2]\n",
            " [5.  3.5 1.6 0.6]\n",
            " [5.1 3.8 1.9 0.4]\n",
            " [4.8 3.  1.4 0.3]\n",
            " [5.1 3.8 1.6 0.2]\n",
            " [4.6 3.2 1.4 0.2]\n",
            " [5.3 3.7 1.5 0.2]\n",
            " [5.  3.3 1.4 0.2]\n",
            " [7.  3.2 4.7 1.4]\n",
            " [6.4 3.2 4.5 1.5]\n",
            " [6.9 3.1 4.9 1.5]\n",
            " [5.5 2.3 4.  1.3]\n",
            " [6.5 2.8 4.6 1.5]\n",
            " [5.7 2.8 4.5 1.3]\n",
            " [6.3 3.3 4.7 1.6]\n",
            " [4.9 2.4 3.3 1. ]\n",
            " [6.6 2.9 4.6 1.3]\n",
            " [5.2 2.7 3.9 1.4]\n",
            " [5.  2.  3.5 1. ]\n",
            " [5.9 3.  4.2 1.5]\n",
            " [6.  2.2 4.  1. ]\n",
            " [6.1 2.9 4.7 1.4]\n",
            " [5.6 2.9 3.6 1.3]\n",
            " [6.7 3.1 4.4 1.4]\n",
            " [5.6 3.  4.5 1.5]\n",
            " [5.8 2.7 4.1 1. ]\n",
            " [6.2 2.2 4.5 1.5]\n",
            " [5.6 2.5 3.9 1.1]\n",
            " [5.9 3.2 4.8 1.8]\n",
            " [6.1 2.8 4.  1.3]\n",
            " [6.3 2.5 4.9 1.5]\n",
            " [6.1 2.8 4.7 1.2]\n",
            " [6.4 2.9 4.3 1.3]\n",
            " [6.6 3.  4.4 1.4]\n",
            " [6.8 2.8 4.8 1.4]\n",
            " [6.7 3.  5.  1.7]\n",
            " [6.  2.9 4.5 1.5]\n",
            " [5.7 2.6 3.5 1. ]\n",
            " [5.5 2.4 3.8 1.1]\n",
            " [5.5 2.4 3.7 1. ]\n",
            " [5.8 2.7 3.9 1.2]\n",
            " [6.  2.7 5.1 1.6]\n",
            " [5.4 3.  4.5 1.5]\n",
            " [6.  3.4 4.5 1.6]\n",
            " [6.7 3.1 4.7 1.5]\n",
            " [6.3 2.3 4.4 1.3]\n",
            " [5.6 3.  4.1 1.3]\n",
            " [5.5 2.5 4.  1.3]\n",
            " [5.5 2.6 4.4 1.2]\n",
            " [6.1 3.  4.6 1.4]\n",
            " [5.8 2.6 4.  1.2]\n",
            " [5.  2.3 3.3 1. ]\n",
            " [5.6 2.7 4.2 1.3]\n",
            " [5.7 3.  4.2 1.2]\n",
            " [5.7 2.9 4.2 1.3]\n",
            " [6.2 2.9 4.3 1.3]\n",
            " [5.1 2.5 3.  1.1]\n",
            " [5.7 2.8 4.1 1.3]\n",
            " [6.3 3.3 6.  2.5]\n",
            " [5.8 2.7 5.1 1.9]\n",
            " [7.1 3.  5.9 2.1]\n",
            " [6.3 2.9 5.6 1.8]\n",
            " [6.5 3.  5.8 2.2]\n",
            " [7.6 3.  6.6 2.1]\n",
            " [4.9 2.5 4.5 1.7]\n",
            " [7.3 2.9 6.3 1.8]\n",
            " [6.7 2.5 5.8 1.8]\n",
            " [7.2 3.6 6.1 2.5]\n",
            " [6.5 3.2 5.1 2. ]\n",
            " [6.4 2.7 5.3 1.9]\n",
            " [6.8 3.  5.5 2.1]\n",
            " [5.7 2.5 5.  2. ]\n",
            " [5.8 2.8 5.1 2.4]\n",
            " [6.4 3.2 5.3 2.3]\n",
            " [6.5 3.  5.5 1.8]\n",
            " [7.7 3.8 6.7 2.2]\n",
            " [7.7 2.6 6.9 2.3]\n",
            " [6.  2.2 5.  1.5]\n",
            " [6.9 3.2 5.7 2.3]\n",
            " [5.6 2.8 4.9 2. ]\n",
            " [7.7 2.8 6.7 2. ]\n",
            " [6.3 2.7 4.9 1.8]\n",
            " [6.7 3.3 5.7 2.1]\n",
            " [7.2 3.2 6.  1.8]\n",
            " [6.2 2.8 4.8 1.8]\n",
            " [6.1 3.  4.9 1.8]\n",
            " [6.4 2.8 5.6 2.1]\n",
            " [7.2 3.  5.8 1.6]\n",
            " [7.4 2.8 6.1 1.9]\n",
            " [7.9 3.8 6.4 2. ]\n",
            " [6.4 2.8 5.6 2.2]\n",
            " [6.3 2.8 5.1 1.5]\n",
            " [6.1 2.6 5.6 1.4]\n",
            " [7.7 3.  6.1 2.3]\n",
            " [6.3 3.4 5.6 2.4]\n",
            " [6.4 3.1 5.5 1.8]\n",
            " [6.  3.  4.8 1.8]\n",
            " [6.9 3.1 5.4 2.1]\n",
            " [6.7 3.1 5.6 2.4]\n",
            " [6.9 3.1 5.1 2.3]\n",
            " [5.8 2.7 5.1 1.9]\n",
            " [6.8 3.2 5.9 2.3]\n",
            " [6.7 3.3 5.7 2.5]\n",
            " [6.7 3.  5.2 2.3]\n",
            " [6.3 2.5 5.  1.9]\n",
            " [6.5 3.  5.2 2. ]\n",
            " [6.2 3.4 5.4 2.3]\n",
            " [5.9 3.  5.1 1.8]]\n"
          ],
          "name": "stdout"
        }
      ]
    },
    {
      "cell_type": "markdown",
      "metadata": {
        "id": "ofO7AtZGED9e"
      },
      "source": [
        "K-Means Clustering."
      ]
    },
    {
      "cell_type": "code",
      "metadata": {
        "colab": {
          "base_uri": "https://localhost:8080/"
        },
        "id": "D-h2rlb-8tQo",
        "outputId": "ab4cc449-7089-402c-863d-2e96598b5042"
      },
      "source": [
        "# Define KMeans model\n",
        "model = KMeans(n_clusters=3)\n",
        "\n",
        "# Fit\n",
        "model.fit(samples)\n",
        "\n",
        "# Predict\n",
        "labels = model.predict(samples)\n",
        "\n",
        "print(labels)"
      ],
      "execution_count": 5,
      "outputs": [
        {
          "output_type": "stream",
          "text": [
            "[0 0 0 0 0 0 0 0 0 0 0 0 0 0 0 0 0 0 0 0 0 0 0 0 0 0 0 0 0 0 0 0 0 0 0 0 0\n",
            " 0 0 0 0 0 0 0 0 0 0 0 0 0 1 1 2 1 1 1 1 1 1 1 1 1 1 1 1 1 1 1 1 1 1 1 1 1\n",
            " 1 1 1 2 1 1 1 1 1 1 1 1 1 1 1 1 1 1 1 1 1 1 1 1 1 1 2 1 2 2 2 2 1 2 2 2 2\n",
            " 2 2 1 1 2 2 2 2 1 2 1 2 1 2 2 1 1 2 2 2 2 2 1 2 2 2 2 1 2 2 2 1 2 2 2 1 2\n",
            " 2 1]\n"
          ],
          "name": "stdout"
        }
      ]
    },
    {
      "cell_type": "markdown",
      "metadata": {
        "id": "_HiePSuhEXa2"
      },
      "source": [
        "Predict on new samples."
      ]
    },
    {
      "cell_type": "code",
      "metadata": {
        "colab": {
          "base_uri": "https://localhost:8080/"
        },
        "id": "IKDaUJngB8TC",
        "outputId": "904c7adb-03ee-40cb-a1e3-3efc7fde4c90"
      },
      "source": [
        "# We have new samples\n",
        "new_samples = [[ 5.7, 4.4, 1.5, 0.4], \n",
        "              [ 6.5, 3., 5.5, 1.8], \n",
        "              [ 5.8, 2.7, 5.1, 1.9]]\n",
        "\n",
        "# Predict on new samples\n",
        "new_labels = model.predict(new_samples)\n",
        "\n",
        "print(new_labels)"
      ],
      "execution_count": 6,
      "outputs": [
        {
          "output_type": "stream",
          "text": [
            "[0 2 1]\n"
          ],
          "name": "stdout"
        }
      ]
    },
    {
      "cell_type": "markdown",
      "metadata": {
        "id": "yoZB4f7GGj27"
      },
      "source": [
        "Scatter plot of clusters and centroids."
      ]
    },
    {
      "cell_type": "code",
      "metadata": {
        "colab": {
          "base_uri": "https://localhost:8080/",
          "height": 386
        },
        "id": "6SvB0xsXCgl-",
        "outputId": "81e2651c-0bf5-49a6-883d-8ef256d7fded"
      },
      "source": [
        "features = load_iris().feature_names\n",
        "print(features)\n",
        "\n",
        "# Centroid of clusters\n",
        "centro = model.cluster_centers_\n",
        "\n",
        "# Scatter plot\n",
        "plt.figure(figsize=(9,5))\n",
        "\n",
        "plt.subplot(1,2,1)\n",
        "xs, ys = samples[:,0], samples[:,2]\n",
        "plt.scatter(xs, ys, c=labels)\n",
        "\n",
        "centrox, centroy = centro[:,0], centro[:,2] # centroid\n",
        "plt.scatter(centrox, centroy, c='red')\n",
        "plt.xlabel(features[0]); plt.ylabel(features[2])\n",
        "\n",
        "plt.subplot(1,2,2)\n",
        "xs, ys = samples[:,2], samples[:,3]\n",
        "plt.scatter(xs, ys, c=labels)\n",
        "\n",
        "centrox, centroy = centro[:,2], centro[:,3] # centroid\n",
        "plt.scatter(centrox, centroy, c='red')\n",
        "plt.xlabel(features[2]); plt.ylabel(features[3])\n",
        "\n",
        "plt.tight_layout(1.1)\n",
        "plt.show()"
      ],
      "execution_count": 7,
      "outputs": [
        {
          "output_type": "stream",
          "text": [
            "['sepal length (cm)', 'sepal width (cm)', 'petal length (cm)', 'petal width (cm)']\n"
          ],
          "name": "stdout"
        },
        {
          "output_type": "display_data",
          "data": {
            "image/png": "[encoded data removed]",
            "text/plain": [
              "<Figure size 648x360 with 2 Axes>"
            ]
          },
          "metadata": {
            "tags": [],
            "needs_background": "light"
          }
        }
      ]
    },
    {
      "cell_type": "markdown",
      "metadata": {
        "id": "6iybpV1ZHvPn"
      },
      "source": [
        "Clustering evaluation by cross-tabulation."
      ]
    },
    {
      "cell_type": "code",
      "metadata": {
        "colab": {
          "base_uri": "https://localhost:8080/"
        },
        "id": "E5oCKK84INEQ",
        "outputId": "019b325f-7a77-4827-eea4-4f3d2043a452"
      },
      "source": [
        "target = load_iris().target\n",
        "\n",
        "def assign_names(label):\n",
        "  if label==0:\n",
        "    label = 'setosa'\n",
        "  if label==1:\n",
        "    label = 'versicolor'\n",
        "  if label==2:\n",
        "    label = 'virginica'\n",
        "  return label\n",
        "\n",
        "varieties = [assign_names(i) for i in target]\n",
        "\n",
        "print(varieties)"
      ],
      "execution_count": 8,
      "outputs": [
        {
          "output_type": "stream",
          "text": [
            "['setosa', 'setosa', 'setosa', 'setosa', 'setosa', 'setosa', 'setosa', 'setosa', 'setosa', 'setosa', 'setosa', 'setosa', 'setosa', 'setosa', 'setosa', 'setosa', 'setosa', 'setosa', 'setosa', 'setosa', 'setosa', 'setosa', 'setosa', 'setosa', 'setosa', 'setosa', 'setosa', 'setosa', 'setosa', 'setosa', 'setosa', 'setosa', 'setosa', 'setosa', 'setosa', 'setosa', 'setosa', 'setosa', 'setosa', 'setosa', 'setosa', 'setosa', 'setosa', 'setosa', 'setosa', 'setosa', 'setosa', 'setosa', 'setosa', 'setosa', 'versicolor', 'versicolor', 'versicolor', 'versicolor', 'versicolor', 'versicolor', 'versicolor', 'versicolor', 'versicolor', 'versicolor', 'versicolor', 'versicolor', 'versicolor', 'versicolor', 'versicolor', 'versicolor', 'versicolor', 'versicolor', 'versicolor', 'versicolor', 'versicolor', 'versicolor', 'versicolor', 'versicolor', 'versicolor', 'versicolor', 'versicolor', 'versicolor', 'versicolor', 'versicolor', 'versicolor', 'versicolor', 'versicolor', 'versicolor', 'versicolor', 'versicolor', 'versicolor', 'versicolor', 'versicolor', 'versicolor', 'versicolor', 'versicolor', 'versicolor', 'versicolor', 'versicolor', 'versicolor', 'versicolor', 'versicolor', 'versicolor', 'versicolor', 'virginica', 'virginica', 'virginica', 'virginica', 'virginica', 'virginica', 'virginica', 'virginica', 'virginica', 'virginica', 'virginica', 'virginica', 'virginica', 'virginica', 'virginica', 'virginica', 'virginica', 'virginica', 'virginica', 'virginica', 'virginica', 'virginica', 'virginica', 'virginica', 'virginica', 'virginica', 'virginica', 'virginica', 'virginica', 'virginica', 'virginica', 'virginica', 'virginica', 'virginica', 'virginica', 'virginica', 'virginica', 'virginica', 'virginica', 'virginica', 'virginica', 'virginica', 'virginica', 'virginica', 'virginica', 'virginica', 'virginica', 'virginica', 'virginica', 'virginica']\n"
          ],
          "name": "stdout"
        }
      ]
    },
    {
      "cell_type": "code",
      "metadata": {
        "colab": {
          "base_uri": "https://localhost:8080/",
          "height": 408
        },
        "id": "zILDw_9aIvth",
        "outputId": "647839de-8e96-4591-97b9-3ac0cf1d8174"
      },
      "source": [
        "df = pd.DataFrame({'labels': labels, 'varieties': varieties})\n",
        "\n",
        "df"
      ],
      "execution_count": 9,
      "outputs": [
        {
          "output_type": "execute_result",
          "data": {
            "text/html": [
              "<div>\n",
              "<style scoped>\n",
              "    .dataframe tbody tr th:only-of-type {\n",
              "        vertical-align: middle;\n",
              "    }\n",
              "\n",
              "    .dataframe tbody tr th {\n",
              "        vertical-align: top;\n",
              "    }\n",
              "\n",
              "    .dataframe thead th {\n",
              "        text-align: right;\n",
              "    }\n",
              "</style>\n",
              "<table border=\"1\" class=\"dataframe\">\n",
              "  <thead>\n",
              "    <tr style=\"text-align: right;\">\n",
              "      <th></th>\n",
              "      <th>labels</th>\n",
              "      <th>varieties</th>\n",
              "    </tr>\n",
              "  </thead>\n",
              "  <tbody>\n",
              "    <tr>\n",
              "      <th>0</th>\n",
              "      <td>0</td>\n",
              "      <td>setosa</td>\n",
              "    </tr>\n",
              "    <tr>\n",
              "      <th>1</th>\n",
              "      <td>0</td>\n",
              "      <td>setosa</td>\n",
              "    </tr>\n",
              "    <tr>\n",
              "      <th>2</th>\n",
              "      <td>0</td>\n",
              "      <td>setosa</td>\n",
              "    </tr>\n",
              "    <tr>\n",
              "      <th>3</th>\n",
              "      <td>0</td>\n",
              "      <td>setosa</td>\n",
              "    </tr>\n",
              "    <tr>\n",
              "      <th>4</th>\n",
              "      <td>0</td>\n",
              "      <td>setosa</td>\n",
              "    </tr>\n",
              "    <tr>\n",
              "      <th>...</th>\n",
              "      <td>...</td>\n",
              "      <td>...</td>\n",
              "    </tr>\n",
              "    <tr>\n",
              "      <th>145</th>\n",
              "      <td>2</td>\n",
              "      <td>virginica</td>\n",
              "    </tr>\n",
              "    <tr>\n",
              "      <th>146</th>\n",
              "      <td>1</td>\n",
              "      <td>virginica</td>\n",
              "    </tr>\n",
              "    <tr>\n",
              "      <th>147</th>\n",
              "      <td>2</td>\n",
              "      <td>virginica</td>\n",
              "    </tr>\n",
              "    <tr>\n",
              "      <th>148</th>\n",
              "      <td>2</td>\n",
              "      <td>virginica</td>\n",
              "    </tr>\n",
              "    <tr>\n",
              "      <th>149</th>\n",
              "      <td>1</td>\n",
              "      <td>virginica</td>\n",
              "    </tr>\n",
              "  </tbody>\n",
              "</table>\n",
              "<p>150 rows × 2 columns</p>\n",
              "</div>"
            ],
            "text/plain": [
              "     labels  varieties\n",
              "0         0     setosa\n",
              "1         0     setosa\n",
              "2         0     setosa\n",
              "3         0     setosa\n",
              "4         0     setosa\n",
              "..      ...        ...\n",
              "145       2  virginica\n",
              "146       1  virginica\n",
              "147       2  virginica\n",
              "148       2  virginica\n",
              "149       1  virginica\n",
              "\n",
              "[150 rows x 2 columns]"
            ]
          },
          "metadata": {
            "tags": []
          },
          "execution_count": 9
        }
      ]
    },
    {
      "cell_type": "code",
      "metadata": {
        "colab": {
          "base_uri": "https://localhost:8080/"
        },
        "id": "USs5r1FpI5mJ",
        "outputId": "93564fef-58b2-4a2c-b3e9-efd72f8eb009"
      },
      "source": [
        "# Create crosstab: ct\n",
        "ct = pd.crosstab(df['labels'], df['varieties'])\n",
        "\n",
        "# Display ct\n",
        "print(ct)"
      ],
      "execution_count": 10,
      "outputs": [
        {
          "output_type": "stream",
          "text": [
            "varieties  setosa  versicolor  virginica\n",
            "labels                                  \n",
            "0              50           0          0\n",
            "1               0          48         14\n",
            "2               0           2         36\n"
          ],
          "name": "stdout"
        }
      ]
    },
    {
      "cell_type": "markdown",
      "metadata": {
        "id": "YeQM8IFjJpQo"
      },
      "source": [
        "As we see, the label 1 is all Setosa. However, the variety Virginica is assigned to label 0 and label 2. It seems that the cluster do not represent the variety too much. "
      ]
    },
    {
      "cell_type": "markdown",
      "metadata": {
        "id": "b5bxpqw6PzRZ"
      },
      "source": [
        "Clustering evaluation by inertia measurements & Elbow method."
      ]
    },
    {
      "cell_type": "code",
      "metadata": {
        "colab": {
          "base_uri": "https://localhost:8080/",
          "height": 279
        },
        "id": "vJEftbnxQ_JD",
        "outputId": "44c08995-5fe4-48a9-9b16-c254a130e725"
      },
      "source": [
        "ks = range(1,6)\n",
        "inertias = []\n",
        "\n",
        "for k in ks:\n",
        "    # Create a KMeans instance with k clusters: model\n",
        "    model = KMeans(n_clusters=k)\n",
        "    \n",
        "    # Fit model to samples\n",
        "    model.fit(samples)\n",
        "    \n",
        "    # Append the inertia to the list of inertias\n",
        "    inertias.append(model.inertia_)\n",
        "    \n",
        "# Plot ks vs inertias\n",
        "plt.plot(ks, inertias, '-o')\n",
        "plt.xlabel('number of clusters, k')\n",
        "plt.ylabel('inertia')\n",
        "plt.xticks(ks)\n",
        "plt.show()"
      ],
      "execution_count": 11,
      "outputs": [
        {
          "output_type": "display_data",
          "data": {
            "image/png": "[encoded data removed]",
            "text/plain": [
              "<Figure size 432x288 with 1 Axes>"
            ]
          },
          "metadata": {
            "tags": [],
            "needs_background": "light"
          }
        }
      ]
    },
    {
      "cell_type": "markdown",
      "metadata": {
        "id": "aUAYFJHxRZdI"
      },
      "source": [
        "The elbow shows that cluster=3 with inertia around 70 is the most optimum number of clusters."
      ]
    },
    {
      "cell_type": "markdown",
      "metadata": {
        "id": "l4Bl43MUuBiN"
      },
      "source": [
        "Normalizing data inside pipeline & comparing with not normalized data"
      ]
    },
    {
      "cell_type": "code",
      "metadata": {
        "colab": {
          "base_uri": "https://localhost:8080/"
        },
        "id": "BT6hQAMDuGOJ",
        "outputId": "75a212bd-e94e-460f-84d9-b00bd9a24162"
      },
      "source": [
        "scaler = StandardScaler()\n",
        "kmeans = KMeans(n_clusters=3)\n",
        "\n",
        "# Without normalization\n",
        "kmeans.fit(samples)\n",
        "labels0 = kmeans.predict(samples)\n",
        "\n",
        "# Crosstab of no normalization\n",
        "df0 = pd.DataFrame({'labels': labels0, 'varieties': varieties})\n",
        "ct0 = pd.crosstab(df0['labels'], df0['varieties'])\n",
        "print(ct0)\n",
        "\n",
        "# With normalization in pipeline\n",
        "pipeline = make_pipeline(scaler, kmeans)\n",
        "pipeline.fit(samples)\n",
        "labels1 = pipeline.predict(samples)\n",
        "\n",
        "# Crosstab of no normalization\n",
        "df1 = pd.DataFrame({'labels': labels1, 'varieties': varieties})\n",
        "ct1 = pd.crosstab(df1['labels'], df1['varieties'])\n",
        "print(ct1)"
      ],
      "execution_count": 12,
      "outputs": [
        {
          "output_type": "stream",
          "text": [
            "varieties  setosa  versicolor  virginica\n",
            "labels                                  \n",
            "0               0          48         14\n",
            "1              50           0          0\n",
            "2               0           2         36\n",
            "varieties  setosa  versicolor  virginica\n",
            "labels                                  \n",
            "0               0          11         36\n",
            "1              50           0          0\n",
            "2               0          39         14\n"
          ],
          "name": "stdout"
        }
      ]
    },
    {
      "cell_type": "markdown",
      "metadata": {
        "id": "9xABK_0JQkcy"
      },
      "source": [
        "Normalizing data inside pipeline."
      ]
    },
    {
      "cell_type": "code",
      "metadata": {
        "colab": {
          "base_uri": "https://localhost:8080/",
          "height": 198
        },
        "id": "B-v0JhVF1NCP",
        "outputId": "54145401-10bc-4a62-8a4a-5b03a9398808"
      },
      "source": [
        "# Get fish catch data\n",
        "df = pd.read_csv('/content/datasets/fishcatch.csv')\n",
        "\n",
        "df.head()"
      ],
      "execution_count": 13,
      "outputs": [
        {
          "output_type": "execute_result",
          "data": {
            "text/html": [
              "<div>\n",
              "<style scoped>\n",
              "    .dataframe tbody tr th:only-of-type {\n",
              "        vertical-align: middle;\n",
              "    }\n",
              "\n",
              "    .dataframe tbody tr th {\n",
              "        vertical-align: top;\n",
              "    }\n",
              "\n",
              "    .dataframe thead th {\n",
              "        text-align: right;\n",
              "    }\n",
              "</style>\n",
              "<table border=\"1\" class=\"dataframe\">\n",
              "  <thead>\n",
              "    <tr style=\"text-align: right;\">\n",
              "      <th></th>\n",
              "      <th>Weight</th>\n",
              "      <th>Length1</th>\n",
              "      <th>Length2</th>\n",
              "      <th>Length3</th>\n",
              "      <th>Height%</th>\n",
              "      <th>Width%</th>\n",
              "      <th>species</th>\n",
              "    </tr>\n",
              "  </thead>\n",
              "  <tbody>\n",
              "    <tr>\n",
              "      <th>0</th>\n",
              "      <td>242.0</td>\n",
              "      <td>23.2</td>\n",
              "      <td>25.4</td>\n",
              "      <td>30.0</td>\n",
              "      <td>38.4</td>\n",
              "      <td>13.4</td>\n",
              "      <td>Bream</td>\n",
              "    </tr>\n",
              "    <tr>\n",
              "      <th>1</th>\n",
              "      <td>290.0</td>\n",
              "      <td>24.0</td>\n",
              "      <td>26.3</td>\n",
              "      <td>31.2</td>\n",
              "      <td>40.0</td>\n",
              "      <td>13.8</td>\n",
              "      <td>Bream</td>\n",
              "    </tr>\n",
              "    <tr>\n",
              "      <th>2</th>\n",
              "      <td>340.0</td>\n",
              "      <td>23.9</td>\n",
              "      <td>26.5</td>\n",
              "      <td>31.1</td>\n",
              "      <td>39.8</td>\n",
              "      <td>15.1</td>\n",
              "      <td>Bream</td>\n",
              "    </tr>\n",
              "    <tr>\n",
              "      <th>3</th>\n",
              "      <td>363.0</td>\n",
              "      <td>26.3</td>\n",
              "      <td>29.0</td>\n",
              "      <td>33.5</td>\n",
              "      <td>38.0</td>\n",
              "      <td>13.3</td>\n",
              "      <td>Bream</td>\n",
              "    </tr>\n",
              "    <tr>\n",
              "      <th>4</th>\n",
              "      <td>430.0</td>\n",
              "      <td>26.5</td>\n",
              "      <td>29.0</td>\n",
              "      <td>34.0</td>\n",
              "      <td>36.6</td>\n",
              "      <td>15.1</td>\n",
              "      <td>Bream</td>\n",
              "    </tr>\n",
              "  </tbody>\n",
              "</table>\n",
              "</div>"
            ],
            "text/plain": [
              "   Weight  Length1  Length2  Length3  Height%  Width% species\n",
              "0   242.0     23.2     25.4     30.0     38.4    13.4   Bream\n",
              "1   290.0     24.0     26.3     31.2     40.0    13.8   Bream\n",
              "2   340.0     23.9     26.5     31.1     39.8    15.1   Bream\n",
              "3   363.0     26.3     29.0     33.5     38.0    13.3   Bream\n",
              "4   430.0     26.5     29.0     34.0     36.6    15.1   Bream"
            ]
          },
          "metadata": {
            "tags": []
          },
          "execution_count": 13
        }
      ]
    },
    {
      "cell_type": "code",
      "metadata": {
        "colab": {
          "base_uri": "https://localhost:8080/"
        },
        "id": "LxYwUX1I1YsH",
        "outputId": "c29776bf-1cee-4509-d564-d33d74bf4982"
      },
      "source": [
        "# Define samples and true species\n",
        "samples = df.iloc[:,:-1].values\n",
        "species = df.iloc[:,-1].values\n",
        "\n",
        "scaler = StandardScaler()\n",
        "kmeans = KMeans(n_clusters=3)\n",
        "\n",
        "# With normalization in pipeline\n",
        "pipeline = make_pipeline(scaler, kmeans)\n",
        "pipeline.fit(samples)\n",
        "labels = pipeline.predict(samples)\n",
        "\n",
        "# Crosstabulation\n",
        "df = pd.DataFrame({'labels': labels, 'species': species})\n",
        "ct = pd.crosstab(df['labels'], df['species'])\n",
        "print(ct)"
      ],
      "execution_count": 14,
      "outputs": [
        {
          "output_type": "stream",
          "text": [
            "species  Bream  Pike  Roach  Smelt\n",
            "labels                            \n",
            "0            0     0     17     14\n",
            "1           34     0      3      0\n",
            "2            0    17      0      0\n"
          ],
          "name": "stdout"
        }
      ]
    },
    {
      "cell_type": "code",
      "metadata": {
        "colab": {
          "base_uri": "https://localhost:8080/",
          "height": 282
        },
        "id": "cHKrFuAHT_iL",
        "outputId": "70876a27-5977-4c9d-f895-0c1dd8ec5959"
      },
      "source": [
        "## Clustering which stock movements cluster together\n",
        "\n",
        "# Get stock price data\n",
        "df = get_stock_price_data()\n",
        "\n",
        "df.head()"
      ],
      "execution_count": 15,
      "outputs": [
        {
          "output_type": "execute_result",
          "data": {
            "text/html": [
              "<div>\n",
              "<style scoped>\n",
              "    .dataframe tbody tr th:only-of-type {\n",
              "        vertical-align: middle;\n",
              "    }\n",
              "\n",
              "    .dataframe tbody tr th {\n",
              "        vertical-align: top;\n",
              "    }\n",
              "\n",
              "    .dataframe thead th {\n",
              "        text-align: right;\n",
              "    }\n",
              "</style>\n",
              "<table border=\"1\" class=\"dataframe\">\n",
              "  <thead>\n",
              "    <tr style=\"text-align: right;\">\n",
              "      <th></th>\n",
              "      <th>Unnamed: 0</th>\n",
              "      <th>2010-01-04</th>\n",
              "      <th>2010-01-05</th>\n",
              "      <th>2010-01-06</th>\n",
              "      <th>2010-01-07</th>\n",
              "      <th>2010-01-08</th>\n",
              "      <th>2010-01-11</th>\n",
              "      <th>2010-01-12</th>\n",
              "      <th>2010-01-13</th>\n",
              "      <th>2010-01-14</th>\n",
              "      <th>2010-01-15</th>\n",
              "      <th>2010-01-19</th>\n",
              "      <th>2010-01-20</th>\n",
              "      <th>2010-01-21</th>\n",
              "      <th>2010-01-22</th>\n",
              "      <th>2010-01-25</th>\n",
              "      <th>2010-01-26</th>\n",
              "      <th>2010-01-27</th>\n",
              "      <th>2010-01-28</th>\n",
              "      <th>2010-01-29</th>\n",
              "      <th>2010-02-01</th>\n",
              "      <th>2010-02-02</th>\n",
              "      <th>2010-02-03</th>\n",
              "      <th>2010-02-04</th>\n",
              "      <th>2010-02-05</th>\n",
              "      <th>2010-02-08</th>\n",
              "      <th>2010-02-09</th>\n",
              "      <th>2010-02-10</th>\n",
              "      <th>2010-02-11</th>\n",
              "      <th>2010-02-12</th>\n",
              "      <th>2010-02-16</th>\n",
              "      <th>2010-02-17</th>\n",
              "      <th>2010-02-18</th>\n",
              "      <th>2010-02-19</th>\n",
              "      <th>2010-02-22</th>\n",
              "      <th>2010-02-23</th>\n",
              "      <th>2010-02-24</th>\n",
              "      <th>2010-02-25</th>\n",
              "      <th>2010-02-26</th>\n",
              "      <th>2010-03-01</th>\n",
              "      <th>...</th>\n",
              "      <th>2013-09-04</th>\n",
              "      <th>2013-09-05</th>\n",
              "      <th>2013-09-06</th>\n",
              "      <th>2013-09-09</th>\n",
              "      <th>2013-09-10</th>\n",
              "      <th>2013-09-11</th>\n",
              "      <th>2013-09-12</th>\n",
              "      <th>2013-09-13</th>\n",
              "      <th>2013-09-16</th>\n",
              "      <th>2013-09-17</th>\n",
              "      <th>2013-09-18</th>\n",
              "      <th>2013-09-19</th>\n",
              "      <th>2013-09-20</th>\n",
              "      <th>2013-09-23</th>\n",
              "      <th>2013-09-24</th>\n",
              "      <th>2013-09-25</th>\n",
              "      <th>2013-09-26</th>\n",
              "      <th>2013-09-27</th>\n",
              "      <th>2013-09-30</th>\n",
              "      <th>2013-10-01</th>\n",
              "      <th>2013-10-02</th>\n",
              "      <th>2013-10-03</th>\n",
              "      <th>2013-10-04</th>\n",
              "      <th>2013-10-07</th>\n",
              "      <th>2013-10-08</th>\n",
              "      <th>2013-10-09</th>\n",
              "      <th>2013-10-10</th>\n",
              "      <th>2013-10-11</th>\n",
              "      <th>2013-10-14</th>\n",
              "      <th>2013-10-15</th>\n",
              "      <th>2013-10-16</th>\n",
              "      <th>2013-10-17</th>\n",
              "      <th>2013-10-18</th>\n",
              "      <th>2013-10-21</th>\n",
              "      <th>2013-10-22</th>\n",
              "      <th>2013-10-23</th>\n",
              "      <th>2013-10-24</th>\n",
              "      <th>2013-10-25</th>\n",
              "      <th>2013-10-28</th>\n",
              "      <th>2013-10-29</th>\n",
              "    </tr>\n",
              "  </thead>\n",
              "  <tbody>\n",
              "    <tr>\n",
              "      <th>0</th>\n",
              "      <td>Apple</td>\n",
              "      <td>0.580000</td>\n",
              "      <td>-0.220005</td>\n",
              "      <td>-3.409998</td>\n",
              "      <td>-1.170000</td>\n",
              "      <td>1.680011</td>\n",
              "      <td>-2.689994</td>\n",
              "      <td>-1.469994</td>\n",
              "      <td>2.779997</td>\n",
              "      <td>-0.680003</td>\n",
              "      <td>-4.999995</td>\n",
              "      <td>6.709993</td>\n",
              "      <td>-3.180006</td>\n",
              "      <td>-4.009998</td>\n",
              "      <td>-9.030006</td>\n",
              "      <td>0.560000</td>\n",
              "      <td>-0.010000</td>\n",
              "      <td>1.030010</td>\n",
              "      <td>-5.640009</td>\n",
              "      <td>-9.019993</td>\n",
              "      <td>2.360001</td>\n",
              "      <td>-0.050001</td>\n",
              "      <td>4.060000</td>\n",
              "      <td>-4.680000</td>\n",
              "      <td>2.829998</td>\n",
              "      <td>-1.570009</td>\n",
              "      <td>-0.229992</td>\n",
              "      <td>-0.769990</td>\n",
              "      <td>3.789993</td>\n",
              "      <td>2.269998</td>\n",
              "      <td>1.459994</td>\n",
              "      <td>-1.639998</td>\n",
              "      <td>1.300003</td>\n",
              "      <td>-0.190005</td>\n",
              "      <td>-1.920004</td>\n",
              "      <td>-2.940000</td>\n",
              "      <td>2.430002</td>\n",
              "      <td>4.619999</td>\n",
              "      <td>2.239998</td>\n",
              "      <td>3.240008</td>\n",
              "      <td>...</td>\n",
              "      <td>-0.869980</td>\n",
              "      <td>-4.980034</td>\n",
              "      <td>-0.219979</td>\n",
              "      <td>1.169960</td>\n",
              "      <td>-11.559998</td>\n",
              "      <td>0.699989</td>\n",
              "      <td>4.190003</td>\n",
              "      <td>-4.439995</td>\n",
              "      <td>-10.879982</td>\n",
              "      <td>7.360008</td>\n",
              "      <td>1.500008</td>\n",
              "      <td>1.599983</td>\n",
              "      <td>-10.589988</td>\n",
              "      <td>-5.459991</td>\n",
              "      <td>-5.779999</td>\n",
              "      <td>-7.669976</td>\n",
              "      <td>0.219979</td>\n",
              "      <td>-1.029983</td>\n",
              "      <td>-0.500038</td>\n",
              "      <td>9.510018</td>\n",
              "      <td>3.929970</td>\n",
              "      <td>-7.100029</td>\n",
              "      <td>-0.829979</td>\n",
              "      <td>1.190040</td>\n",
              "      <td>-9.000045</td>\n",
              "      <td>1.950005</td>\n",
              "      <td>-1.679985</td>\n",
              "      <td>5.820000</td>\n",
              "      <td>6.209969</td>\n",
              "      <td>1.169960</td>\n",
              "      <td>0.320008</td>\n",
              "      <td>4.519997</td>\n",
              "      <td>2.899987</td>\n",
              "      <td>9.590019</td>\n",
              "      <td>-6.540016</td>\n",
              "      <td>5.959976</td>\n",
              "      <td>6.910011</td>\n",
              "      <td>-5.359962</td>\n",
              "      <td>0.840019</td>\n",
              "      <td>-19.589981</td>\n",
              "    </tr>\n",
              "    <tr>\n",
              "      <th>1</th>\n",
              "      <td>AIG</td>\n",
              "      <td>-0.640002</td>\n",
              "      <td>-0.650000</td>\n",
              "      <td>-0.210001</td>\n",
              "      <td>-0.420000</td>\n",
              "      <td>0.710001</td>\n",
              "      <td>-0.200001</td>\n",
              "      <td>-1.130001</td>\n",
              "      <td>0.069999</td>\n",
              "      <td>-0.119999</td>\n",
              "      <td>-0.500000</td>\n",
              "      <td>0.200001</td>\n",
              "      <td>-0.100000</td>\n",
              "      <td>-0.460001</td>\n",
              "      <td>-1.190001</td>\n",
              "      <td>-0.650000</td>\n",
              "      <td>-1.300001</td>\n",
              "      <td>0.430000</td>\n",
              "      <td>-1.690000</td>\n",
              "      <td>-0.300001</td>\n",
              "      <td>-0.420000</td>\n",
              "      <td>-0.020001</td>\n",
              "      <td>-0.099998</td>\n",
              "      <td>-0.940001</td>\n",
              "      <td>-0.090000</td>\n",
              "      <td>-0.250000</td>\n",
              "      <td>0.760000</td>\n",
              "      <td>3.710001</td>\n",
              "      <td>-0.200001</td>\n",
              "      <td>1.000000</td>\n",
              "      <td>0.000000</td>\n",
              "      <td>-0.630001</td>\n",
              "      <td>0.299999</td>\n",
              "      <td>-0.010000</td>\n",
              "      <td>1.540001</td>\n",
              "      <td>-1.459999</td>\n",
              "      <td>0.830000</td>\n",
              "      <td>0.069999</td>\n",
              "      <td>-0.900000</td>\n",
              "      <td>-2.179998</td>\n",
              "      <td>...</td>\n",
              "      <td>0.680000</td>\n",
              "      <td>0.229999</td>\n",
              "      <td>-0.720002</td>\n",
              "      <td>0.829998</td>\n",
              "      <td>-0.130001</td>\n",
              "      <td>0.340000</td>\n",
              "      <td>-0.620003</td>\n",
              "      <td>0.320000</td>\n",
              "      <td>-0.470001</td>\n",
              "      <td>0.790001</td>\n",
              "      <td>0.279999</td>\n",
              "      <td>-0.930000</td>\n",
              "      <td>-0.020000</td>\n",
              "      <td>-0.439998</td>\n",
              "      <td>0.100003</td>\n",
              "      <td>0.190003</td>\n",
              "      <td>-0.239998</td>\n",
              "      <td>-0.029998</td>\n",
              "      <td>0.020000</td>\n",
              "      <td>0.579998</td>\n",
              "      <td>0.350002</td>\n",
              "      <td>-0.210003</td>\n",
              "      <td>0.660000</td>\n",
              "      <td>-0.310001</td>\n",
              "      <td>-1.099998</td>\n",
              "      <td>0.050000</td>\n",
              "      <td>1.290001</td>\n",
              "      <td>0.330002</td>\n",
              "      <td>0.599999</td>\n",
              "      <td>-0.160000</td>\n",
              "      <td>0.919998</td>\n",
              "      <td>0.709999</td>\n",
              "      <td>0.119999</td>\n",
              "      <td>-0.480000</td>\n",
              "      <td>0.010002</td>\n",
              "      <td>-0.279998</td>\n",
              "      <td>-0.190003</td>\n",
              "      <td>-0.040001</td>\n",
              "      <td>-0.400002</td>\n",
              "      <td>0.660000</td>\n",
              "    </tr>\n",
              "    <tr>\n",
              "      <th>2</th>\n",
              "      <td>Amazon</td>\n",
              "      <td>-2.350006</td>\n",
              "      <td>1.260009</td>\n",
              "      <td>-2.350006</td>\n",
              "      <td>-2.009995</td>\n",
              "      <td>2.960006</td>\n",
              "      <td>-2.309997</td>\n",
              "      <td>-1.640007</td>\n",
              "      <td>1.209999</td>\n",
              "      <td>-1.790001</td>\n",
              "      <td>-2.039994</td>\n",
              "      <td>1.300003</td>\n",
              "      <td>-1.349998</td>\n",
              "      <td>-0.639999</td>\n",
              "      <td>-4.169998</td>\n",
              "      <td>-1.790000</td>\n",
              "      <td>-1.079995</td>\n",
              "      <td>1.720001</td>\n",
              "      <td>1.599999</td>\n",
              "      <td>-4.360000</td>\n",
              "      <td>-4.309997</td>\n",
              "      <td>-0.669998</td>\n",
              "      <td>1.979995</td>\n",
              "      <td>-2.699997</td>\n",
              "      <td>1.510002</td>\n",
              "      <td>-2.549995</td>\n",
              "      <td>-0.169998</td>\n",
              "      <td>-0.639999</td>\n",
              "      <td>2.879997</td>\n",
              "      <td>0.670006</td>\n",
              "      <td>-2.529999</td>\n",
              "      <td>-0.760002</td>\n",
              "      <td>2.240006</td>\n",
              "      <td>-0.390007</td>\n",
              "      <td>0.639999</td>\n",
              "      <td>-0.770004</td>\n",
              "      <td>1.760002</td>\n",
              "      <td>0.029999</td>\n",
              "      <td>0.520005</td>\n",
              "      <td>5.840004</td>\n",
              "      <td>...</td>\n",
              "      <td>5.310028</td>\n",
              "      <td>0.470001</td>\n",
              "      <td>0.529998</td>\n",
              "      <td>2.489990</td>\n",
              "      <td>-0.190003</td>\n",
              "      <td>0.730011</td>\n",
              "      <td>-0.530030</td>\n",
              "      <td>-2.220002</td>\n",
              "      <td>-3.760009</td>\n",
              "      <td>6.540008</td>\n",
              "      <td>7.970001</td>\n",
              "      <td>-1.709991</td>\n",
              "      <td>3.799987</td>\n",
              "      <td>-2.520020</td>\n",
              "      <td>1.700012</td>\n",
              "      <td>-1.880005</td>\n",
              "      <td>4.220001</td>\n",
              "      <td>-0.910003</td>\n",
              "      <td>-0.769989</td>\n",
              "      <td>6.730011</td>\n",
              "      <td>2.470001</td>\n",
              "      <td>-5.630005</td>\n",
              "      <td>3.910004</td>\n",
              "      <td>-5.209991</td>\n",
              "      <td>-8.269989</td>\n",
              "      <td>-5.190002</td>\n",
              "      <td>0.540008</td>\n",
              "      <td>6.120026</td>\n",
              "      <td>1.480011</td>\n",
              "      <td>-3.470001</td>\n",
              "      <td>2.109985</td>\n",
              "      <td>3.699982</td>\n",
              "      <td>9.570008</td>\n",
              "      <td>-3.450013</td>\n",
              "      <td>4.820008</td>\n",
              "      <td>-4.079986</td>\n",
              "      <td>2.579986</td>\n",
              "      <td>4.790009</td>\n",
              "      <td>-1.760009</td>\n",
              "      <td>3.740021</td>\n",
              "    </tr>\n",
              "    <tr>\n",
              "      <th>3</th>\n",
              "      <td>American express</td>\n",
              "      <td>0.109997</td>\n",
              "      <td>0.000000</td>\n",
              "      <td>0.260002</td>\n",
              "      <td>0.720002</td>\n",
              "      <td>0.190003</td>\n",
              "      <td>-0.270001</td>\n",
              "      <td>0.750000</td>\n",
              "      <td>0.300004</td>\n",
              "      <td>0.639999</td>\n",
              "      <td>-0.130001</td>\n",
              "      <td>0.719997</td>\n",
              "      <td>0.050000</td>\n",
              "      <td>-0.830002</td>\n",
              "      <td>-2.770001</td>\n",
              "      <td>-1.309997</td>\n",
              "      <td>0.559997</td>\n",
              "      <td>0.709999</td>\n",
              "      <td>-1.239998</td>\n",
              "      <td>0.060002</td>\n",
              "      <td>0.369999</td>\n",
              "      <td>0.340000</td>\n",
              "      <td>-0.579998</td>\n",
              "      <td>-0.500000</td>\n",
              "      <td>0.189998</td>\n",
              "      <td>-0.969997</td>\n",
              "      <td>0.270001</td>\n",
              "      <td>0.169998</td>\n",
              "      <td>0.480000</td>\n",
              "      <td>0.629997</td>\n",
              "      <td>0.809998</td>\n",
              "      <td>-0.480000</td>\n",
              "      <td>0.080002</td>\n",
              "      <td>0.170002</td>\n",
              "      <td>-0.169998</td>\n",
              "      <td>-0.810002</td>\n",
              "      <td>0.310002</td>\n",
              "      <td>0.370003</td>\n",
              "      <td>0.039997</td>\n",
              "      <td>-0.070000</td>\n",
              "      <td>...</td>\n",
              "      <td>0.620002</td>\n",
              "      <td>0.639999</td>\n",
              "      <td>-0.570000</td>\n",
              "      <td>0.070008</td>\n",
              "      <td>0.379997</td>\n",
              "      <td>0.480003</td>\n",
              "      <td>0.000000</td>\n",
              "      <td>-0.279999</td>\n",
              "      <td>-0.739998</td>\n",
              "      <td>1.320000</td>\n",
              "      <td>0.650001</td>\n",
              "      <td>-0.239998</td>\n",
              "      <td>-0.300003</td>\n",
              "      <td>-0.849999</td>\n",
              "      <td>-0.319999</td>\n",
              "      <td>-0.139999</td>\n",
              "      <td>0.320000</td>\n",
              "      <td>-0.169999</td>\n",
              "      <td>0.549996</td>\n",
              "      <td>0.290001</td>\n",
              "      <td>-0.549995</td>\n",
              "      <td>-0.090004</td>\n",
              "      <td>0.430001</td>\n",
              "      <td>-0.559998</td>\n",
              "      <td>-0.809998</td>\n",
              "      <td>-0.159996</td>\n",
              "      <td>1.470002</td>\n",
              "      <td>0.730004</td>\n",
              "      <td>0.739998</td>\n",
              "      <td>-0.379997</td>\n",
              "      <td>0.680001</td>\n",
              "      <td>2.290001</td>\n",
              "      <td>0.409996</td>\n",
              "      <td>-0.069999</td>\n",
              "      <td>0.100006</td>\n",
              "      <td>0.069999</td>\n",
              "      <td>0.130005</td>\n",
              "      <td>1.849999</td>\n",
              "      <td>0.040001</td>\n",
              "      <td>0.540001</td>\n",
              "    </tr>\n",
              "    <tr>\n",
              "      <th>4</th>\n",
              "      <td>Boeing</td>\n",
              "      <td>0.459999</td>\n",
              "      <td>1.770000</td>\n",
              "      <td>1.549999</td>\n",
              "      <td>2.690003</td>\n",
              "      <td>0.059997</td>\n",
              "      <td>-1.080002</td>\n",
              "      <td>0.360000</td>\n",
              "      <td>0.549999</td>\n",
              "      <td>0.530002</td>\n",
              "      <td>-0.709999</td>\n",
              "      <td>0.050004</td>\n",
              "      <td>-0.130001</td>\n",
              "      <td>-1.099998</td>\n",
              "      <td>-0.849999</td>\n",
              "      <td>-0.569999</td>\n",
              "      <td>0.169998</td>\n",
              "      <td>3.090000</td>\n",
              "      <td>0.409999</td>\n",
              "      <td>-2.200001</td>\n",
              "      <td>0.959999</td>\n",
              "      <td>0.649998</td>\n",
              "      <td>-0.060001</td>\n",
              "      <td>-1.630001</td>\n",
              "      <td>-0.809997</td>\n",
              "      <td>-0.440003</td>\n",
              "      <td>1.120003</td>\n",
              "      <td>-0.169998</td>\n",
              "      <td>0.840000</td>\n",
              "      <td>-0.219997</td>\n",
              "      <td>0.840000</td>\n",
              "      <td>0.430001</td>\n",
              "      <td>1.110000</td>\n",
              "      <td>0.939998</td>\n",
              "      <td>0.389999</td>\n",
              "      <td>-1.040001</td>\n",
              "      <td>0.480000</td>\n",
              "      <td>0.149998</td>\n",
              "      <td>0.070000</td>\n",
              "      <td>0.950001</td>\n",
              "      <td>...</td>\n",
              "      <td>1.320000</td>\n",
              "      <td>0.489998</td>\n",
              "      <td>-0.930000</td>\n",
              "      <td>0.610000</td>\n",
              "      <td>0.529999</td>\n",
              "      <td>0.980003</td>\n",
              "      <td>0.610001</td>\n",
              "      <td>1.400002</td>\n",
              "      <td>1.939995</td>\n",
              "      <td>1.330002</td>\n",
              "      <td>1.120003</td>\n",
              "      <td>-0.180000</td>\n",
              "      <td>-2.520005</td>\n",
              "      <td>0.360000</td>\n",
              "      <td>1.809998</td>\n",
              "      <td>-0.809998</td>\n",
              "      <td>0.669998</td>\n",
              "      <td>0.229996</td>\n",
              "      <td>0.150002</td>\n",
              "      <td>-0.220001</td>\n",
              "      <td>0.459999</td>\n",
              "      <td>-2.110000</td>\n",
              "      <td>1.930000</td>\n",
              "      <td>1.180000</td>\n",
              "      <td>-1.229996</td>\n",
              "      <td>-0.930001</td>\n",
              "      <td>2.800004</td>\n",
              "      <td>-0.619995</td>\n",
              "      <td>2.040001</td>\n",
              "      <td>-1.239998</td>\n",
              "      <td>1.559997</td>\n",
              "      <td>2.480003</td>\n",
              "      <td>0.019997</td>\n",
              "      <td>-1.220001</td>\n",
              "      <td>0.480003</td>\n",
              "      <td>3.020004</td>\n",
              "      <td>-0.029999</td>\n",
              "      <td>1.940002</td>\n",
              "      <td>1.130005</td>\n",
              "      <td>0.309998</td>\n",
              "    </tr>\n",
              "  </tbody>\n",
              "</table>\n",
              "<p>5 rows × 964 columns</p>\n",
              "</div>"
            ],
            "text/plain": [
              "         Unnamed: 0  2010-01-04  2010-01-05  ...  2013-10-25  2013-10-28  2013-10-29\n",
              "0             Apple    0.580000   -0.220005  ...   -5.359962    0.840019  -19.589981\n",
              "1               AIG   -0.640002   -0.650000  ...   -0.040001   -0.400002    0.660000\n",
              "2            Amazon   -2.350006    1.260009  ...    4.790009   -1.760009    3.740021\n",
              "3  American express    0.109997    0.000000  ...    1.849999    0.040001    0.540001\n",
              "4            Boeing    0.459999    1.770000  ...    1.940002    1.130005    0.309998\n",
              "\n",
              "[5 rows x 964 columns]"
            ]
          },
          "metadata": {
            "tags": []
          },
          "execution_count": 15
        }
      ]
    },
    {
      "cell_type": "code",
      "metadata": {
        "colab": {
          "base_uri": "https://localhost:8080/"
        },
        "id": "JtOPvntWXdzY",
        "outputId": "d1151494-e249-4192-b64d-f927a0397afd"
      },
      "source": [
        "# Stock movement\n",
        "movements = df.iloc[:,1:].values\n",
        "\n",
        "scaler = StandardScaler()\n",
        "kmeans = KMeans(n_clusters=3)\n",
        "\n",
        "# With normalization in pipeline\n",
        "pipeline = make_pipeline(scaler, kmeans)\n",
        "pipeline.fit(movements)\n",
        "labels = pipeline.predict(movements)\n",
        "\n",
        "print(labels)"
      ],
      "execution_count": 16,
      "outputs": [
        {
          "output_type": "stream",
          "text": [
            "[0 2 0 2 2 2 2 2 2 2 2 2 2 2 2 2 2 1 2 2 2 2 2 2 2 2 2 2 2 2 0 2 2 2 2 2 2\n",
            " 2 2 2 2 2 2 2 2 2 2 2 2 2 2 2 2 2 2 2 2 2 2 2]\n"
          ],
          "name": "stdout"
        }
      ]
    },
    {
      "cell_type": "markdown",
      "metadata": {
        "id": "npKGp9QB0Big"
      },
      "source": [
        "## Chapter 2.\n",
        "\n",
        "* Hierarchial clustering with complete and single method\n",
        "* Extract labels from clusters\n",
        "* t-SNE "
      ]
    },
    {
      "cell_type": "markdown",
      "metadata": {
        "id": "VcB2W5GR7Cwv"
      },
      "source": [
        "Hierarchial clustering with Eurovision data."
      ]
    },
    {
      "cell_type": "code",
      "metadata": {
        "colab": {
          "base_uri": "https://localhost:8080/",
          "height": 0
        },
        "id": "alWhiE5Q0FCc",
        "outputId": "601b06aa-542a-4a92-ad9e-196f0845b348"
      },
      "source": [
        "df = get_eurovision_data()\n",
        "\n",
        "df.head()"
      ],
      "execution_count": 17,
      "outputs": [
        {
          "output_type": "execute_result",
          "data": {
            "text/html": [
              "<div>\n",
              "<style scoped>\n",
              "    .dataframe tbody tr th:only-of-type {\n",
              "        vertical-align: middle;\n",
              "    }\n",
              "\n",
              "    .dataframe tbody tr th {\n",
              "        vertical-align: top;\n",
              "    }\n",
              "\n",
              "    .dataframe thead th {\n",
              "        text-align: right;\n",
              "    }\n",
              "</style>\n",
              "<table border=\"1\" class=\"dataframe\">\n",
              "  <thead>\n",
              "    <tr style=\"text-align: right;\">\n",
              "      <th>To country</th>\n",
              "      <th>Armenia</th>\n",
              "      <th>Australia</th>\n",
              "      <th>Austria</th>\n",
              "      <th>Azerbaijan</th>\n",
              "      <th>Belgium</th>\n",
              "      <th>Bulgaria</th>\n",
              "      <th>Croatia</th>\n",
              "      <th>Cyprus</th>\n",
              "      <th>Czech Republic</th>\n",
              "      <th>France</th>\n",
              "      <th>Georgia</th>\n",
              "      <th>Germany</th>\n",
              "      <th>Hungary</th>\n",
              "      <th>Israel</th>\n",
              "      <th>Italy</th>\n",
              "      <th>Latvia</th>\n",
              "      <th>Lithuania</th>\n",
              "      <th>Malta</th>\n",
              "      <th>Poland</th>\n",
              "      <th>Russia</th>\n",
              "      <th>Serbia</th>\n",
              "      <th>Spain</th>\n",
              "      <th>Sweden</th>\n",
              "      <th>The Netherlands</th>\n",
              "      <th>Ukraine</th>\n",
              "      <th>United Kingdom</th>\n",
              "    </tr>\n",
              "    <tr>\n",
              "      <th>From country</th>\n",
              "      <th></th>\n",
              "      <th></th>\n",
              "      <th></th>\n",
              "      <th></th>\n",
              "      <th></th>\n",
              "      <th></th>\n",
              "      <th></th>\n",
              "      <th></th>\n",
              "      <th></th>\n",
              "      <th></th>\n",
              "      <th></th>\n",
              "      <th></th>\n",
              "      <th></th>\n",
              "      <th></th>\n",
              "      <th></th>\n",
              "      <th></th>\n",
              "      <th></th>\n",
              "      <th></th>\n",
              "      <th></th>\n",
              "      <th></th>\n",
              "      <th></th>\n",
              "      <th></th>\n",
              "      <th></th>\n",
              "      <th></th>\n",
              "      <th></th>\n",
              "      <th></th>\n",
              "    </tr>\n",
              "  </thead>\n",
              "  <tbody>\n",
              "    <tr>\n",
              "      <th>Albania</th>\n",
              "      <td>9.0</td>\n",
              "      <td>1.0</td>\n",
              "      <td>13.0</td>\n",
              "      <td>19.0</td>\n",
              "      <td>14.0</td>\n",
              "      <td>3.0</td>\n",
              "      <td>20.0</td>\n",
              "      <td>12.0</td>\n",
              "      <td>22.0</td>\n",
              "      <td>11.0</td>\n",
              "      <td>25.0</td>\n",
              "      <td>15.0</td>\n",
              "      <td>10.0</td>\n",
              "      <td>17.0</td>\n",
              "      <td>2.0</td>\n",
              "      <td>21.0</td>\n",
              "      <td>7.0</td>\n",
              "      <td>16.0</td>\n",
              "      <td>6.0</td>\n",
              "      <td>4.0</td>\n",
              "      <td>26.0</td>\n",
              "      <td>23.0</td>\n",
              "      <td>8.0</td>\n",
              "      <td>24.0</td>\n",
              "      <td>5.0</td>\n",
              "      <td>18.0</td>\n",
              "    </tr>\n",
              "    <tr>\n",
              "      <th>Armenia</th>\n",
              "      <td>1.0</td>\n",
              "      <td>12.0</td>\n",
              "      <td>7.0</td>\n",
              "      <td>25.0</td>\n",
              "      <td>17.0</td>\n",
              "      <td>15.0</td>\n",
              "      <td>22.0</td>\n",
              "      <td>5.0</td>\n",
              "      <td>18.0</td>\n",
              "      <td>4.0</td>\n",
              "      <td>3.0</td>\n",
              "      <td>19.0</td>\n",
              "      <td>8.0</td>\n",
              "      <td>24.0</td>\n",
              "      <td>14.0</td>\n",
              "      <td>16.0</td>\n",
              "      <td>21.0</td>\n",
              "      <td>6.0</td>\n",
              "      <td>10.0</td>\n",
              "      <td>1.0</td>\n",
              "      <td>23.0</td>\n",
              "      <td>13.0</td>\n",
              "      <td>9.0</td>\n",
              "      <td>11.0</td>\n",
              "      <td>2.0</td>\n",
              "      <td>20.0</td>\n",
              "    </tr>\n",
              "    <tr>\n",
              "      <th>Australia</th>\n",
              "      <td>12.0</td>\n",
              "      <td>1.0</td>\n",
              "      <td>8.0</td>\n",
              "      <td>22.0</td>\n",
              "      <td>1.0</td>\n",
              "      <td>2.0</td>\n",
              "      <td>18.0</td>\n",
              "      <td>13.0</td>\n",
              "      <td>25.0</td>\n",
              "      <td>4.0</td>\n",
              "      <td>24.0</td>\n",
              "      <td>21.0</td>\n",
              "      <td>19.0</td>\n",
              "      <td>14.0</td>\n",
              "      <td>23.0</td>\n",
              "      <td>11.0</td>\n",
              "      <td>10.0</td>\n",
              "      <td>5.0</td>\n",
              "      <td>15.0</td>\n",
              "      <td>6.0</td>\n",
              "      <td>17.0</td>\n",
              "      <td>9.0</td>\n",
              "      <td>20.0</td>\n",
              "      <td>16.0</td>\n",
              "      <td>3.0</td>\n",
              "      <td>7.0</td>\n",
              "    </tr>\n",
              "    <tr>\n",
              "      <th>Austria</th>\n",
              "      <td>12.0</td>\n",
              "      <td>8.0</td>\n",
              "      <td>1.0</td>\n",
              "      <td>24.0</td>\n",
              "      <td>14.0</td>\n",
              "      <td>6.0</td>\n",
              "      <td>19.0</td>\n",
              "      <td>16.0</td>\n",
              "      <td>23.0</td>\n",
              "      <td>10.0</td>\n",
              "      <td>21.0</td>\n",
              "      <td>9.0</td>\n",
              "      <td>11.0</td>\n",
              "      <td>17.0</td>\n",
              "      <td>13.0</td>\n",
              "      <td>18.0</td>\n",
              "      <td>20.0</td>\n",
              "      <td>25.0</td>\n",
              "      <td>1.0</td>\n",
              "      <td>3.0</td>\n",
              "      <td>7.0</td>\n",
              "      <td>15.0</td>\n",
              "      <td>4.0</td>\n",
              "      <td>5.0</td>\n",
              "      <td>2.0</td>\n",
              "      <td>22.0</td>\n",
              "    </tr>\n",
              "    <tr>\n",
              "      <th>Azerbaijan</th>\n",
              "      <td>25.0</td>\n",
              "      <td>9.0</td>\n",
              "      <td>11.0</td>\n",
              "      <td>1.0</td>\n",
              "      <td>16.0</td>\n",
              "      <td>3.0</td>\n",
              "      <td>21.0</td>\n",
              "      <td>17.0</td>\n",
              "      <td>20.0</td>\n",
              "      <td>7.0</td>\n",
              "      <td>10.0</td>\n",
              "      <td>22.0</td>\n",
              "      <td>4.0</td>\n",
              "      <td>5.0</td>\n",
              "      <td>13.0</td>\n",
              "      <td>14.0</td>\n",
              "      <td>18.0</td>\n",
              "      <td>6.0</td>\n",
              "      <td>8.0</td>\n",
              "      <td>1.0</td>\n",
              "      <td>24.0</td>\n",
              "      <td>15.0</td>\n",
              "      <td>12.0</td>\n",
              "      <td>19.0</td>\n",
              "      <td>2.0</td>\n",
              "      <td>23.0</td>\n",
              "    </tr>\n",
              "  </tbody>\n",
              "</table>\n",
              "</div>"
            ],
            "text/plain": [
              "To country    Armenia  Australia  ...  Ukraine  United Kingdom\n",
              "From country                      ...                         \n",
              "Albania           9.0        1.0  ...      5.0            18.0\n",
              "Armenia           1.0       12.0  ...      2.0            20.0\n",
              "Australia        12.0        1.0  ...      3.0             7.0\n",
              "Austria          12.0        8.0  ...      2.0            22.0\n",
              "Azerbaijan       25.0        9.0  ...      2.0            23.0\n",
              "\n",
              "[5 rows x 26 columns]"
            ]
          },
          "metadata": {
            "tags": []
          },
          "execution_count": 17
        }
      ]
    },
    {
      "cell_type": "code",
      "metadata": {
        "colab": {
          "base_uri": "https://localhost:8080/",
          "height": 0
        },
        "id": "bV6tOmLb6KfK",
        "outputId": "8c4cd555-4126-407a-fd57-9fbb3f110e9b"
      },
      "source": [
        "# Features\n",
        "samples = df.iloc[:,1:].values\n",
        "\n",
        "# Normalize the features by dividing it by its standard deviation \n",
        "# to give it unit variance.\n",
        "samples = whiten(samples)\n",
        "\n",
        "# Calculate the linkage: mergings\n",
        "mergings = linkage(samples, method='complete')\n",
        "\n",
        "# Plot the dendrogram, using varieties as labels\n",
        "plt.figure(figsize=(20,12))# Plot the dendrogram\n",
        "dn = dendrogram(mergings,\n",
        "                labels=np.array(df.index),\n",
        "                leaf_rotation=90,\n",
        "                leaf_font_size=14)\n",
        "plt.show()"
      ],
      "execution_count": 18,
      "outputs": [
        {
          "output_type": "display_data",
          "data": {
            "image/png": "[encoded data removed]",
            "text/plain": [
              "<Figure size 1440x864 with 1 Axes>"
            ]
          },
          "metadata": {
            "tags": [],
            "needs_background": "light"
          }
        }
      ]
    },
    {
      "cell_type": "markdown",
      "metadata": {
        "id": "5fgp9cyOAy4J"
      },
      "source": [
        "Hierarchial clustering with Grains data."
      ]
    },
    {
      "cell_type": "code",
      "metadata": {
        "colab": {
          "base_uri": "https://localhost:8080/",
          "height": 0
        },
        "id": "fZe0vSIcAXl0",
        "outputId": "d7be659a-6808-4d7a-ab61-cc62b2daa92e"
      },
      "source": [
        "df = pd.read_csv(\"/content/datasets/Grains.csv\")\n",
        "\n",
        "df.head()"
      ],
      "execution_count": 19,
      "outputs": [
        {
          "output_type": "execute_result",
          "data": {
            "text/html": [
              "<div>\n",
              "<style scoped>\n",
              "    .dataframe tbody tr th:only-of-type {\n",
              "        vertical-align: middle;\n",
              "    }\n",
              "\n",
              "    .dataframe tbody tr th {\n",
              "        vertical-align: top;\n",
              "    }\n",
              "\n",
              "    .dataframe thead th {\n",
              "        text-align: right;\n",
              "    }\n",
              "</style>\n",
              "<table border=\"1\" class=\"dataframe\">\n",
              "  <thead>\n",
              "    <tr style=\"text-align: right;\">\n",
              "      <th></th>\n",
              "      <th>area</th>\n",
              "      <th>perimeter</th>\n",
              "      <th>compactness</th>\n",
              "      <th>length</th>\n",
              "      <th>width</th>\n",
              "      <th>asymmetry_coefficient</th>\n",
              "      <th>groove_length</th>\n",
              "      <th>grain_variety</th>\n",
              "    </tr>\n",
              "  </thead>\n",
              "  <tbody>\n",
              "    <tr>\n",
              "      <th>0</th>\n",
              "      <td>14.88</td>\n",
              "      <td>14.57</td>\n",
              "      <td>0.8811</td>\n",
              "      <td>5.554</td>\n",
              "      <td>3.333</td>\n",
              "      <td>1.018</td>\n",
              "      <td>4.956</td>\n",
              "      <td>Kama wheat</td>\n",
              "    </tr>\n",
              "    <tr>\n",
              "      <th>1</th>\n",
              "      <td>14.69</td>\n",
              "      <td>14.49</td>\n",
              "      <td>0.8799</td>\n",
              "      <td>5.563</td>\n",
              "      <td>3.259</td>\n",
              "      <td>3.586</td>\n",
              "      <td>5.219</td>\n",
              "      <td>Kama wheat</td>\n",
              "    </tr>\n",
              "    <tr>\n",
              "      <th>2</th>\n",
              "      <td>14.03</td>\n",
              "      <td>14.16</td>\n",
              "      <td>0.8796</td>\n",
              "      <td>5.438</td>\n",
              "      <td>3.201</td>\n",
              "      <td>1.717</td>\n",
              "      <td>5.001</td>\n",
              "      <td>Kama wheat</td>\n",
              "    </tr>\n",
              "    <tr>\n",
              "      <th>3</th>\n",
              "      <td>13.99</td>\n",
              "      <td>13.83</td>\n",
              "      <td>0.9183</td>\n",
              "      <td>5.119</td>\n",
              "      <td>3.383</td>\n",
              "      <td>5.234</td>\n",
              "      <td>4.781</td>\n",
              "      <td>Kama wheat</td>\n",
              "    </tr>\n",
              "    <tr>\n",
              "      <th>4</th>\n",
              "      <td>14.11</td>\n",
              "      <td>14.26</td>\n",
              "      <td>0.8722</td>\n",
              "      <td>5.520</td>\n",
              "      <td>3.168</td>\n",
              "      <td>2.688</td>\n",
              "      <td>5.219</td>\n",
              "      <td>Kama wheat</td>\n",
              "    </tr>\n",
              "  </tbody>\n",
              "</table>\n",
              "</div>"
            ],
            "text/plain": [
              "    area  perimeter  ...  groove_length  grain_variety\n",
              "0  14.88      14.57  ...          4.956     Kama wheat\n",
              "1  14.69      14.49  ...          5.219     Kama wheat\n",
              "2  14.03      14.16  ...          5.001     Kama wheat\n",
              "3  13.99      13.83  ...          4.781     Kama wheat\n",
              "4  14.11      14.26  ...          5.219     Kama wheat\n",
              "\n",
              "[5 rows x 8 columns]"
            ]
          },
          "metadata": {
            "tags": []
          },
          "execution_count": 19
        }
      ]
    },
    {
      "cell_type": "code",
      "metadata": {
        "colab": {
          "base_uri": "https://localhost:8080/",
          "height": 0
        },
        "id": "4TGLfF0JA4bH",
        "outputId": "baa52b3b-13e2-4035-c53c-a2f9b7e94de7"
      },
      "source": [
        "# remove the grain species from the DataFrame, save for later\n",
        "varieties = list(df.pop('grain_variety'))\n",
        "\n",
        "# extract the measurements as a NumPy array\n",
        "samples = df.values\n",
        "\n",
        "# Calculate the linkage: mergings\n",
        "mergings = linkage(samples, method='complete')\n",
        "\n",
        "# Plot the dendrogram, using varieties as labels\n",
        "plt.figure(figsize=(20,12))# Plot the dendrogram\n",
        "dendrogram(mergings,\n",
        "           labels=varieties,\n",
        "           leaf_rotation=90,\n",
        "           leaf_font_size=15,\n",
        ")\n",
        "plt.show()"
      ],
      "execution_count": 20,
      "outputs": [
        {
          "output_type": "display_data",
          "data": {
            "image/png": "[encoded data removed]",
            "text/plain": [
              "<Figure size 1440x864 with 1 Axes>"
            ]
          },
          "metadata": {
            "tags": [],
            "needs_background": "light"
          }
        }
      ]
    },
    {
      "cell_type": "markdown",
      "metadata": {
        "id": "LgVqg3j9d0PS"
      },
      "source": [
        "Extract labels from hierarchial clusters and cross-tabulation."
      ]
    },
    {
      "cell_type": "code",
      "metadata": {
        "colab": {
          "base_uri": "https://localhost:8080/"
        },
        "id": "NVKe8Pj-NA88",
        "outputId": "0b638f0e-713c-4d99-8a8b-bbaef3fdedc0"
      },
      "source": [
        "# Use fcluster with maximum height 6, to extract labels: labels\n",
        "labels = fcluster(mergings, 6, criterion='distance')\n",
        "print(labels)\n",
        "\n",
        "# Create a DataFrame with labels and varieties as columns: df\n",
        "df = pd.DataFrame({'labels': labels, 'varieties': varieties})\n",
        "\n",
        "# Create crosstab: ct\n",
        "ct = pd.crosstab(df['labels'], df['varieties'])\n",
        "\n",
        "# Display ct\n",
        "print(ct)"
      ],
      "execution_count": 21,
      "outputs": [
        {
          "output_type": "stream",
          "text": [
            "[3 3 3 3 3 1 3 3 1 3 3 3 1 3 2 2 2 2 2 2 2 2 2 2 2 2 2 2 1 1 1 1 1 1 1 1 1\n",
            " 1 1 1 1 1]\n",
            "varieties  Canadian wheat  Kama wheat  Rosa wheat\n",
            "labels                                           \n",
            "1                      14           3           0\n",
            "2                       0           0          14\n",
            "3                       0          11           0\n"
          ],
          "name": "stdout"
        }
      ]
    },
    {
      "cell_type": "markdown",
      "metadata": {
        "id": "bKo1LeSQ4VpE"
      },
      "source": [
        "2D t-SNE plot."
      ]
    },
    {
      "cell_type": "code",
      "metadata": {
        "id": "kmOMBkKs1WHJ"
      },
      "source": [
        "# Load iris data\n",
        "iris = load_iris()\n",
        "\n",
        "samples = iris.data\n",
        "target = iris.target\n",
        "species = iris.target_names\n",
        "\n",
        "# Map species codes to colors, i.e. 0 to blue, 1 to red, 2 to orange (for plotting)\n",
        "def list_color(varieties):\n",
        "  if varieties==0:\n",
        "    c = 'blue'\n",
        "  if varieties==1:\n",
        "    c = 'red'\n",
        "  if varieties==2:\n",
        "    c = 'orange'\n",
        "  return c\n",
        "\n",
        "colors = [list_color(i) for i in target]"
      ],
      "execution_count": 22,
      "outputs": []
    },
    {
      "cell_type": "code",
      "metadata": {
        "colab": {
          "base_uri": "https://localhost:8080/",
          "height": 0
        },
        "id": "YW9EA-nG3Bhy",
        "outputId": "f3050f29-204b-4d18-beae-ce68cde199f2"
      },
      "source": [
        "# Create TSNE, n_components=2 for 2D \n",
        "model = TSNE(learning_rate=100, n_components=2)\n",
        "\n",
        "# Apply fit_transform to samples: tsne_features\n",
        "tsne_features = model.fit_transform(samples)\n",
        "\n",
        "# Scatter plot, coloring by variety_numbers\n",
        "plt.scatter(x=tsne_features[:,0],\n",
        "            y=tsne_features[:,1],\n",
        "            c=colors)\n",
        "plt.title('T-SNE', size=20)\n",
        "plt.xlabel('1st eigenvector', size=12)\n",
        "plt.ylabel('2nd eigenvector', size=12)\n",
        "plt.show()"
      ],
      "execution_count": 23,
      "outputs": [
        {
          "output_type": "display_data",
          "data": {
            "image/png": "[encoded data removed]",
            "text/plain": [
              "<Figure size 432x288 with 1 Axes>"
            ]
          },
          "metadata": {
            "tags": [],
            "needs_background": "light"
          }
        }
      ]
    },
    {
      "cell_type": "markdown",
      "metadata": {
        "id": "gWhZQgPO5h6p"
      },
      "source": [
        "3D t-SNE plot."
      ]
    },
    {
      "cell_type": "code",
      "metadata": {
        "colab": {
          "base_uri": "https://localhost:8080/",
          "height": 0
        },
        "id": "z9eMQTWj5jXt",
        "outputId": "999a6077-ecf0-4ce7-b952-ca70ee5f73b4"
      },
      "source": [
        "# Create TSNE, n_components=3 for 3D \n",
        "model = TSNE(learning_rate=100, n_components=3)\n",
        "\n",
        "# Apply fit_transform to samples: tsne_features\n",
        "tsne_features = model.fit_transform(samples)\n",
        "\n",
        "# Scatter plot, coloring by variety_numbers\n",
        "fig = plt.figure()\n",
        "ax = fig.add_subplot(projection='3d')\n",
        "ax.scatter(xs=tsne_features[:,0],\n",
        "           ys=tsne_features[:,1],\n",
        "           zs=tsne_features[:,2],\n",
        "           c=colors)\n",
        "plt.title('T-SNE', size=20)\n",
        "plt.xlabel('1st eigenvector', size=12)\n",
        "plt.ylabel('2nd eigenvector', size=12)\n",
        "plt.ylabel('3rd eigenvector', size=12)\n",
        "plt.show()"
      ],
      "execution_count": 24,
      "outputs": [
        {
          "output_type": "display_data",
          "data": {
            "image/png": "[encoded data removed]",
            "text/plain": [
              "<Figure size 432x288 with 1 Axes>"
            ]
          },
          "metadata": {
            "tags": [],
            "needs_background": "light"
          }
        }
      ]
    },
    {
      "cell_type": "markdown",
      "metadata": {
        "id": "VHyoUF9K9pP-"
      },
      "source": [
        "## Chapter 3\n",
        "\n",
        "* PCA and decorrelation\n",
        "* Truncated SVD"
      ]
    },
    {
      "cell_type": "markdown",
      "metadata": {
        "id": "4kFxZMUdUKCu"
      },
      "source": [
        "PCA of 2 components (or 2D) and decorrelation."
      ]
    },
    {
      "cell_type": "code",
      "metadata": {
        "id": "DdtdUUau9gGY"
      },
      "source": [
        "# Load iris data\n",
        "iris = load_iris()\n",
        "\n",
        "samples = iris.data\n",
        "target = iris.target\n",
        "species = iris.target_names\n",
        "feature = iris.feature_names\n",
        "\n",
        "# Map species codes to colors, i.e. 0 to blue, 1 to red, 2 to orange (for plotting)\n",
        "def list_color(varieties):\n",
        "  if varieties==0:\n",
        "    c = 'blue'\n",
        "  if varieties==1:\n",
        "    c = 'red'\n",
        "  if varieties==2:\n",
        "    c = 'orange'\n",
        "  return c\n",
        "\n",
        "colors = [list_color(i) for i in target]"
      ],
      "execution_count": 25,
      "outputs": []
    },
    {
      "cell_type": "code",
      "metadata": {
        "colab": {
          "base_uri": "https://localhost:8080/",
          "height": 0
        },
        "id": "OQMxJ3haTTfS",
        "outputId": "89e9555b-5fe2-4ec6-b9b0-c14cd7575790"
      },
      "source": [
        "# Define PCA (n_components=2 for 2D plot)\n",
        "model = PCA(n_components=2)\n",
        "\n",
        "# Fit model to points\n",
        "model.fit(samples)\n",
        "\n",
        "# Transform data\n",
        "transformed = model.transform(samples)\n",
        "\n",
        "# Assign 0th column of pca_features: xs\n",
        "xs = transformed[:,0]\n",
        "\n",
        "# Assign 1st column of pca_features: ys\n",
        "ys = transformed[:,1]\n",
        "\n",
        "# Scatter plot xs vs ys\n",
        "plt.scatter(xs, ys)\n",
        "plt.axis('equal')\n",
        "plt.show()\n",
        "\n",
        "# Calculate the Pearson correlation of xs and ys\n",
        "correlation, pvalue = pearsonr(xs, ys)\n",
        "\n",
        "# Display the correlation\n",
        "print('Pearson coefficient after decorrelation with PCA:', correlation)"
      ],
      "execution_count": 26,
      "outputs": [
        {
          "output_type": "display_data",
          "data": {
            "image/png": "[encoded data removed]",
            "text/plain": [
              "<Figure size 432x288 with 1 Axes>"
            ]
          },
          "metadata": {
            "tags": [],
            "needs_background": "light"
          }
        },
        {
          "output_type": "stream",
          "text": [
            "Pearson coefficient after decorrelation with PCA: 1.1382082484214173e-15\n"
          ],
          "name": "stdout"
        }
      ]
    },
    {
      "cell_type": "markdown",
      "metadata": {
        "id": "SuD2xjrw_hyW"
      },
      "source": [
        "2D PCA (with biplot; principal component direction arrows).\n",
        "\n",
        "Biplot source: https://github.com/ostwalprasad/ostwalprasad.github.io/blob/master/jupyterbooks/2019-01-20-PCA%20using%20python.ipynb"
      ]
    },
    {
      "cell_type": "code",
      "metadata": {
        "colab": {
          "base_uri": "https://localhost:8080/",
          "height": 0
        },
        "id": "ofaNWczR_zA_",
        "outputId": "50059e61-59cc-4227-c5d8-dd8ae619fe8b"
      },
      "source": [
        "# Define PCA (n_components=2 for 2D plot)\n",
        "model = PCA(n_components=2)\n",
        "\n",
        "# Fit model to points\n",
        "model.fit(samples)\n",
        "\n",
        "# Get the mean of samples\n",
        "mean = model.mean_\n",
        "print('Mean:')\n",
        "print(mean)\n",
        "\n",
        "# Get the principal components: first_pc\n",
        "pc = model.components_\n",
        "print('Principal components:')\n",
        "print(pc)\n",
        "\n",
        "# Transform data\n",
        "transformed = model.transform(samples)\n",
        "\n",
        "score = transformed[:,0:2]\n",
        "coeff = np.transpose(pc[0:2,:])\n",
        "\n",
        "def biplot(score,coeff,labels=None):\n",
        "    xs = score[:,0]\n",
        "    ys = score[:,1]\n",
        "    n = coeff.shape[0]\n",
        "    scalex = 1.0/(xs.max() - xs.min())\n",
        "    scaley = 1.0/(ys.max() - ys.min())\n",
        "    plt.scatter(xs * scalex,ys * scaley,s=5)\n",
        "    for i in range(n):\n",
        "        plt.arrow(0, 0, coeff[i,0], coeff[i,1],color = 'r',alpha = 0.5)\n",
        "        if labels is None:\n",
        "            plt.text(coeff[i,0]* 1, coeff[i,1] * 1, \"Var\"+str(i+1), color = 'green', ha = 'center', va = 'center')\n",
        "        else:\n",
        "            plt.text(coeff[i,0]* 1, coeff[i,1] * 1, labels[i], color = 'g', ha = 'center', va = 'center')\n",
        " \n",
        "    plt.xlabel(\"PC{}\".format(1))\n",
        "    plt.ylabel(\"PC{}\".format(2))\n",
        "    plt.grid()\n",
        "\n",
        "biplot(score, coeff, feature)\n",
        "plt.show()"
      ],
      "execution_count": 27,
      "outputs": [
        {
          "output_type": "stream",
          "text": [
            "Mean:\n",
            "[5.84333333 3.05733333 3.758      1.19933333]\n",
            "Principal components:\n",
            "[[ 0.36138659 -0.08452251  0.85667061  0.3582892 ]\n",
            " [ 0.65658877  0.73016143 -0.17337266 -0.07548102]]\n"
          ],
          "name": "stdout"
        },
        {
          "output_type": "display_data",
          "data": {
            "image/png": "[encoded data removed]",
            "text/plain": [
              "<Figure size 432x288 with 1 Axes>"
            ]
          },
          "metadata": {
            "tags": [],
            "needs_background": "light"
          }
        }
      ]
    },
    {
      "cell_type": "markdown",
      "metadata": {
        "id": "R5JtkA7qUteN"
      },
      "source": [
        "Intrinsic dimension of PCA."
      ]
    },
    {
      "cell_type": "code",
      "metadata": {
        "colab": {
          "base_uri": "https://localhost:8080/",
          "height": 0
        },
        "id": "UNI0aG9oUwI-",
        "outputId": "5d465f69-fa59-473a-c429-d38daf5dbf23"
      },
      "source": [
        "# Create scaler: scaler\n",
        "scaler = StandardScaler()\n",
        "\n",
        "# Create a PCA instance: pca\n",
        "pca = PCA()\n",
        "\n",
        "# Create pipeline: pipeline\n",
        "pipeline = make_pipeline(scaler, pca)\n",
        "\n",
        "# Fit the pipeline to 'samples'\n",
        "pipeline.fit(samples)\n",
        "\n",
        "# Plot the explained variances\n",
        "features = range(pca.n_components_)\n",
        "plt.bar(features, pca.explained_variance_)\n",
        "plt.xlabel('PCA feature')\n",
        "plt.ylabel('variance')\n",
        "plt.xticks(features)\n",
        "plt.show()"
      ],
      "execution_count": 28,
      "outputs": [
        {
          "output_type": "display_data",
          "data": {
            "image/png": "[encoded data removed]",
            "text/plain": [
              "<Figure size 432x288 with 1 Axes>"
            ]
          },
          "metadata": {
            "tags": [],
            "needs_background": "light"
          }
        }
      ]
    },
    {
      "cell_type": "markdown",
      "metadata": {
        "id": "RLWiYfeCWxIJ"
      },
      "source": [
        "Intrinsic dimension = 2, because they're the highest."
      ]
    },
    {
      "cell_type": "markdown",
      "metadata": {
        "id": "P57bmWyevLgI"
      },
      "source": [
        "Truncated Single Value Decomposition (SVD)"
      ]
    },
    {
      "cell_type": "code",
      "metadata": {
        "colab": {
          "base_uri": "https://localhost:8080/",
          "height": 0
        },
        "id": "RqZ6ev6kWwiH",
        "outputId": "9d55236b-283a-429d-dcfc-78675dccb20b"
      },
      "source": [
        "# Get Wikipedia article dataset\n",
        "df = pd.read_csv(\"/content/datasets/wikipedia-vectors.csv\")\n",
        "\n",
        "df.head(10)"
      ],
      "execution_count": 29,
      "outputs": [
        {
          "output_type": "execute_result",
          "data": {
            "text/html": [
              "<div>\n",
              "<style scoped>\n",
              "    .dataframe tbody tr th:only-of-type {\n",
              "        vertical-align: middle;\n",
              "    }\n",
              "\n",
              "    .dataframe tbody tr th {\n",
              "        vertical-align: top;\n",
              "    }\n",
              "\n",
              "    .dataframe thead th {\n",
              "        text-align: right;\n",
              "    }\n",
              "</style>\n",
              "<table border=\"1\" class=\"dataframe\">\n",
              "  <thead>\n",
              "    <tr style=\"text-align: right;\">\n",
              "      <th></th>\n",
              "      <th>Unnamed: 0</th>\n",
              "      <th>HTTP 404</th>\n",
              "      <th>Alexa Internet</th>\n",
              "      <th>Internet Explorer</th>\n",
              "      <th>HTTP cookie</th>\n",
              "      <th>Google Search</th>\n",
              "      <th>Tumblr</th>\n",
              "      <th>Hypertext Transfer Protocol</th>\n",
              "      <th>Social search</th>\n",
              "      <th>Firefox</th>\n",
              "      <th>LinkedIn</th>\n",
              "      <th>Global warming</th>\n",
              "      <th>Nationally Appropriate Mitigation Action</th>\n",
              "      <th>Nigel Lawson</th>\n",
              "      <th>Connie Hedegaard</th>\n",
              "      <th>Climate change</th>\n",
              "      <th>Kyoto Protocol</th>\n",
              "      <th>350.org</th>\n",
              "      <th>Greenhouse gas emissions by the United States</th>\n",
              "      <th>2010 United Nations Climate Change Conference</th>\n",
              "      <th>2007 United Nations Climate Change Conference</th>\n",
              "      <th>Angelina Jolie</th>\n",
              "      <th>Michael Fassbender</th>\n",
              "      <th>Denzel Washington</th>\n",
              "      <th>Catherine Zeta-Jones</th>\n",
              "      <th>Jessica Biel</th>\n",
              "      <th>Russell Crowe</th>\n",
              "      <th>Mila Kunis</th>\n",
              "      <th>Dakota Fanning</th>\n",
              "      <th>Anne Hathaway</th>\n",
              "      <th>Jennifer Aniston</th>\n",
              "      <th>France national football team</th>\n",
              "      <th>Cristiano Ronaldo</th>\n",
              "      <th>Arsenal F.C.</th>\n",
              "      <th>Radamel Falcao</th>\n",
              "      <th>Zlatan Ibrahimović</th>\n",
              "      <th>Colombia national football team</th>\n",
              "      <th>2014 FIFA World Cup qualification</th>\n",
              "      <th>Football</th>\n",
              "      <th>Neymar</th>\n",
              "      <th>Franck Ribéry</th>\n",
              "      <th>Tonsillitis</th>\n",
              "      <th>Hepatitis B</th>\n",
              "      <th>Doxycycline</th>\n",
              "      <th>Leukemia</th>\n",
              "      <th>Gout</th>\n",
              "      <th>Hepatitis C</th>\n",
              "      <th>Prednisone</th>\n",
              "      <th>Fever</th>\n",
              "      <th>Gabapentin</th>\n",
              "      <th>Lymphoma</th>\n",
              "      <th>Chad Kroeger</th>\n",
              "      <th>Nate Ruess</th>\n",
              "      <th>The Wanted</th>\n",
              "      <th>Stevie Nicks</th>\n",
              "      <th>Arctic Monkeys</th>\n",
              "      <th>Black Sabbath</th>\n",
              "      <th>Skrillex</th>\n",
              "      <th>Red Hot Chili Peppers</th>\n",
              "      <th>Sepsis</th>\n",
              "      <th>Adam Levine</th>\n",
              "    </tr>\n",
              "  </thead>\n",
              "  <tbody>\n",
              "    <tr>\n",
              "      <th>0</th>\n",
              "      <td>0</td>\n",
              "      <td>0.0</td>\n",
              "      <td>0.000000</td>\n",
              "      <td>0.000000</td>\n",
              "      <td>0.0</td>\n",
              "      <td>0.0</td>\n",
              "      <td>0.0</td>\n",
              "      <td>0.0</td>\n",
              "      <td>0.0</td>\n",
              "      <td>0.000000</td>\n",
              "      <td>0.0</td>\n",
              "      <td>0.0</td>\n",
              "      <td>0.0</td>\n",
              "      <td>0.000000</td>\n",
              "      <td>0.0</td>\n",
              "      <td>0.0</td>\n",
              "      <td>0.000000</td>\n",
              "      <td>0.0</td>\n",
              "      <td>0.0</td>\n",
              "      <td>0.0</td>\n",
              "      <td>0.0</td>\n",
              "      <td>0.000000</td>\n",
              "      <td>0.0</td>\n",
              "      <td>0.0</td>\n",
              "      <td>0.020076</td>\n",
              "      <td>0.0</td>\n",
              "      <td>0.000000</td>\n",
              "      <td>0.0</td>\n",
              "      <td>0.0</td>\n",
              "      <td>0.0</td>\n",
              "      <td>0.000000</td>\n",
              "      <td>0.0</td>\n",
              "      <td>0.0</td>\n",
              "      <td>0.0</td>\n",
              "      <td>0.000000</td>\n",
              "      <td>0.000000</td>\n",
              "      <td>0.0</td>\n",
              "      <td>0.000000</td>\n",
              "      <td>0.000000</td>\n",
              "      <td>0.0</td>\n",
              "      <td>0.0</td>\n",
              "      <td>0.0</td>\n",
              "      <td>0.0</td>\n",
              "      <td>0.0</td>\n",
              "      <td>0.0</td>\n",
              "      <td>0.0</td>\n",
              "      <td>0.0</td>\n",
              "      <td>0.0</td>\n",
              "      <td>0.0</td>\n",
              "      <td>0.0</td>\n",
              "      <td>0.000000</td>\n",
              "      <td>0.0</td>\n",
              "      <td>0.0</td>\n",
              "      <td>0.0</td>\n",
              "      <td>0.008878</td>\n",
              "      <td>0.0</td>\n",
              "      <td>0.000000</td>\n",
              "      <td>0.049502</td>\n",
              "      <td>0.000000</td>\n",
              "      <td>0.00000</td>\n",
              "      <td>0.0</td>\n",
              "    </tr>\n",
              "    <tr>\n",
              "      <th>1</th>\n",
              "      <td>1</td>\n",
              "      <td>0.0</td>\n",
              "      <td>0.000000</td>\n",
              "      <td>0.000000</td>\n",
              "      <td>0.0</td>\n",
              "      <td>0.0</td>\n",
              "      <td>0.0</td>\n",
              "      <td>0.0</td>\n",
              "      <td>0.0</td>\n",
              "      <td>0.000000</td>\n",
              "      <td>0.0</td>\n",
              "      <td>0.0</td>\n",
              "      <td>0.0</td>\n",
              "      <td>0.000000</td>\n",
              "      <td>0.0</td>\n",
              "      <td>0.0</td>\n",
              "      <td>0.000000</td>\n",
              "      <td>0.0</td>\n",
              "      <td>0.0</td>\n",
              "      <td>0.0</td>\n",
              "      <td>0.0</td>\n",
              "      <td>0.000000</td>\n",
              "      <td>0.0</td>\n",
              "      <td>0.0</td>\n",
              "      <td>0.000000</td>\n",
              "      <td>0.0</td>\n",
              "      <td>0.000000</td>\n",
              "      <td>0.0</td>\n",
              "      <td>0.0</td>\n",
              "      <td>0.0</td>\n",
              "      <td>0.000000</td>\n",
              "      <td>0.0</td>\n",
              "      <td>0.0</td>\n",
              "      <td>0.0</td>\n",
              "      <td>0.000000</td>\n",
              "      <td>0.000000</td>\n",
              "      <td>0.0</td>\n",
              "      <td>0.000000</td>\n",
              "      <td>0.000000</td>\n",
              "      <td>0.0</td>\n",
              "      <td>0.0</td>\n",
              "      <td>0.0</td>\n",
              "      <td>0.0</td>\n",
              "      <td>0.0</td>\n",
              "      <td>0.0</td>\n",
              "      <td>0.0</td>\n",
              "      <td>0.0</td>\n",
              "      <td>0.0</td>\n",
              "      <td>0.0</td>\n",
              "      <td>0.0</td>\n",
              "      <td>0.000000</td>\n",
              "      <td>0.0</td>\n",
              "      <td>0.0</td>\n",
              "      <td>0.0</td>\n",
              "      <td>0.000000</td>\n",
              "      <td>0.0</td>\n",
              "      <td>0.000000</td>\n",
              "      <td>0.000000</td>\n",
              "      <td>0.000000</td>\n",
              "      <td>0.00611</td>\n",
              "      <td>0.0</td>\n",
              "    </tr>\n",
              "    <tr>\n",
              "      <th>2</th>\n",
              "      <td>2</td>\n",
              "      <td>0.0</td>\n",
              "      <td>0.029607</td>\n",
              "      <td>0.000000</td>\n",
              "      <td>0.0</td>\n",
              "      <td>0.0</td>\n",
              "      <td>0.0</td>\n",
              "      <td>0.0</td>\n",
              "      <td>0.0</td>\n",
              "      <td>0.000000</td>\n",
              "      <td>0.0</td>\n",
              "      <td>0.0</td>\n",
              "      <td>0.0</td>\n",
              "      <td>0.000000</td>\n",
              "      <td>0.0</td>\n",
              "      <td>0.0</td>\n",
              "      <td>0.000000</td>\n",
              "      <td>0.0</td>\n",
              "      <td>0.0</td>\n",
              "      <td>0.0</td>\n",
              "      <td>0.0</td>\n",
              "      <td>0.017294</td>\n",
              "      <td>0.0</td>\n",
              "      <td>0.0</td>\n",
              "      <td>0.000000</td>\n",
              "      <td>0.0</td>\n",
              "      <td>0.000000</td>\n",
              "      <td>0.0</td>\n",
              "      <td>0.0</td>\n",
              "      <td>0.0</td>\n",
              "      <td>0.000000</td>\n",
              "      <td>0.0</td>\n",
              "      <td>0.0</td>\n",
              "      <td>0.0</td>\n",
              "      <td>0.007054</td>\n",
              "      <td>0.006915</td>\n",
              "      <td>0.0</td>\n",
              "      <td>0.014745</td>\n",
              "      <td>0.000000</td>\n",
              "      <td>0.0</td>\n",
              "      <td>0.0</td>\n",
              "      <td>0.0</td>\n",
              "      <td>0.0</td>\n",
              "      <td>0.0</td>\n",
              "      <td>0.0</td>\n",
              "      <td>0.0</td>\n",
              "      <td>0.0</td>\n",
              "      <td>0.0</td>\n",
              "      <td>0.0</td>\n",
              "      <td>0.0</td>\n",
              "      <td>0.020774</td>\n",
              "      <td>0.0</td>\n",
              "      <td>0.0</td>\n",
              "      <td>0.0</td>\n",
              "      <td>0.000000</td>\n",
              "      <td>0.0</td>\n",
              "      <td>0.000000</td>\n",
              "      <td>0.000000</td>\n",
              "      <td>0.000000</td>\n",
              "      <td>0.00000</td>\n",
              "      <td>0.0</td>\n",
              "    </tr>\n",
              "    <tr>\n",
              "      <th>3</th>\n",
              "      <td>3</td>\n",
              "      <td>0.0</td>\n",
              "      <td>0.000000</td>\n",
              "      <td>0.000000</td>\n",
              "      <td>0.0</td>\n",
              "      <td>0.0</td>\n",
              "      <td>0.0</td>\n",
              "      <td>0.0</td>\n",
              "      <td>0.0</td>\n",
              "      <td>0.000000</td>\n",
              "      <td>0.0</td>\n",
              "      <td>0.0</td>\n",
              "      <td>0.0</td>\n",
              "      <td>0.000000</td>\n",
              "      <td>0.0</td>\n",
              "      <td>0.0</td>\n",
              "      <td>0.000000</td>\n",
              "      <td>0.0</td>\n",
              "      <td>0.0</td>\n",
              "      <td>0.0</td>\n",
              "      <td>0.0</td>\n",
              "      <td>0.000000</td>\n",
              "      <td>0.0</td>\n",
              "      <td>0.0</td>\n",
              "      <td>0.000000</td>\n",
              "      <td>0.0</td>\n",
              "      <td>0.000000</td>\n",
              "      <td>0.0</td>\n",
              "      <td>0.0</td>\n",
              "      <td>0.0</td>\n",
              "      <td>0.000000</td>\n",
              "      <td>0.0</td>\n",
              "      <td>0.0</td>\n",
              "      <td>0.0</td>\n",
              "      <td>0.000000</td>\n",
              "      <td>0.000000</td>\n",
              "      <td>0.0</td>\n",
              "      <td>0.000000</td>\n",
              "      <td>0.000000</td>\n",
              "      <td>0.0</td>\n",
              "      <td>0.0</td>\n",
              "      <td>0.0</td>\n",
              "      <td>0.0</td>\n",
              "      <td>0.0</td>\n",
              "      <td>0.0</td>\n",
              "      <td>0.0</td>\n",
              "      <td>0.0</td>\n",
              "      <td>0.0</td>\n",
              "      <td>0.0</td>\n",
              "      <td>0.0</td>\n",
              "      <td>0.000000</td>\n",
              "      <td>0.0</td>\n",
              "      <td>0.0</td>\n",
              "      <td>0.0</td>\n",
              "      <td>0.000000</td>\n",
              "      <td>0.0</td>\n",
              "      <td>0.000000</td>\n",
              "      <td>0.000000</td>\n",
              "      <td>0.005646</td>\n",
              "      <td>0.00000</td>\n",
              "      <td>0.0</td>\n",
              "    </tr>\n",
              "    <tr>\n",
              "      <th>4</th>\n",
              "      <td>4</td>\n",
              "      <td>0.0</td>\n",
              "      <td>0.000000</td>\n",
              "      <td>0.000000</td>\n",
              "      <td>0.0</td>\n",
              "      <td>0.0</td>\n",
              "      <td>0.0</td>\n",
              "      <td>0.0</td>\n",
              "      <td>0.0</td>\n",
              "      <td>0.000000</td>\n",
              "      <td>0.0</td>\n",
              "      <td>0.0</td>\n",
              "      <td>0.0</td>\n",
              "      <td>0.029339</td>\n",
              "      <td>0.0</td>\n",
              "      <td>0.0</td>\n",
              "      <td>0.000000</td>\n",
              "      <td>0.0</td>\n",
              "      <td>0.0</td>\n",
              "      <td>0.0</td>\n",
              "      <td>0.0</td>\n",
              "      <td>0.000000</td>\n",
              "      <td>0.0</td>\n",
              "      <td>0.0</td>\n",
              "      <td>0.000000</td>\n",
              "      <td>0.0</td>\n",
              "      <td>0.000000</td>\n",
              "      <td>0.0</td>\n",
              "      <td>0.0</td>\n",
              "      <td>0.0</td>\n",
              "      <td>0.000000</td>\n",
              "      <td>0.0</td>\n",
              "      <td>0.0</td>\n",
              "      <td>0.0</td>\n",
              "      <td>0.000000</td>\n",
              "      <td>0.000000</td>\n",
              "      <td>0.0</td>\n",
              "      <td>0.000000</td>\n",
              "      <td>0.000000</td>\n",
              "      <td>0.0</td>\n",
              "      <td>0.0</td>\n",
              "      <td>0.0</td>\n",
              "      <td>0.0</td>\n",
              "      <td>0.0</td>\n",
              "      <td>0.0</td>\n",
              "      <td>0.0</td>\n",
              "      <td>0.0</td>\n",
              "      <td>0.0</td>\n",
              "      <td>0.0</td>\n",
              "      <td>0.0</td>\n",
              "      <td>0.000000</td>\n",
              "      <td>0.0</td>\n",
              "      <td>0.0</td>\n",
              "      <td>0.0</td>\n",
              "      <td>0.000000</td>\n",
              "      <td>0.0</td>\n",
              "      <td>0.000000</td>\n",
              "      <td>0.000000</td>\n",
              "      <td>0.000000</td>\n",
              "      <td>0.00000</td>\n",
              "      <td>0.0</td>\n",
              "    </tr>\n",
              "    <tr>\n",
              "      <th>5</th>\n",
              "      <td>5</td>\n",
              "      <td>0.0</td>\n",
              "      <td>0.000000</td>\n",
              "      <td>0.000000</td>\n",
              "      <td>0.0</td>\n",
              "      <td>0.0</td>\n",
              "      <td>0.0</td>\n",
              "      <td>0.0</td>\n",
              "      <td>0.0</td>\n",
              "      <td>0.000000</td>\n",
              "      <td>0.0</td>\n",
              "      <td>0.0</td>\n",
              "      <td>0.0</td>\n",
              "      <td>0.000000</td>\n",
              "      <td>0.0</td>\n",
              "      <td>0.0</td>\n",
              "      <td>0.000000</td>\n",
              "      <td>0.0</td>\n",
              "      <td>0.0</td>\n",
              "      <td>0.0</td>\n",
              "      <td>0.0</td>\n",
              "      <td>0.000000</td>\n",
              "      <td>0.0</td>\n",
              "      <td>0.0</td>\n",
              "      <td>0.000000</td>\n",
              "      <td>0.0</td>\n",
              "      <td>0.000000</td>\n",
              "      <td>0.0</td>\n",
              "      <td>0.0</td>\n",
              "      <td>0.0</td>\n",
              "      <td>0.000000</td>\n",
              "      <td>0.0</td>\n",
              "      <td>0.0</td>\n",
              "      <td>0.0</td>\n",
              "      <td>0.000000</td>\n",
              "      <td>0.000000</td>\n",
              "      <td>0.0</td>\n",
              "      <td>0.000000</td>\n",
              "      <td>0.000000</td>\n",
              "      <td>0.0</td>\n",
              "      <td>0.0</td>\n",
              "      <td>0.0</td>\n",
              "      <td>0.0</td>\n",
              "      <td>0.0</td>\n",
              "      <td>0.0</td>\n",
              "      <td>0.0</td>\n",
              "      <td>0.0</td>\n",
              "      <td>0.0</td>\n",
              "      <td>0.0</td>\n",
              "      <td>0.0</td>\n",
              "      <td>0.000000</td>\n",
              "      <td>0.0</td>\n",
              "      <td>0.0</td>\n",
              "      <td>0.0</td>\n",
              "      <td>0.000000</td>\n",
              "      <td>0.0</td>\n",
              "      <td>0.000000</td>\n",
              "      <td>0.000000</td>\n",
              "      <td>0.000000</td>\n",
              "      <td>0.00000</td>\n",
              "      <td>0.0</td>\n",
              "    </tr>\n",
              "    <tr>\n",
              "      <th>6</th>\n",
              "      <td>6</td>\n",
              "      <td>0.0</td>\n",
              "      <td>0.000000</td>\n",
              "      <td>0.000000</td>\n",
              "      <td>0.0</td>\n",
              "      <td>0.0</td>\n",
              "      <td>0.0</td>\n",
              "      <td>0.0</td>\n",
              "      <td>0.0</td>\n",
              "      <td>0.000000</td>\n",
              "      <td>0.0</td>\n",
              "      <td>0.0</td>\n",
              "      <td>0.0</td>\n",
              "      <td>0.000000</td>\n",
              "      <td>0.0</td>\n",
              "      <td>0.0</td>\n",
              "      <td>0.000000</td>\n",
              "      <td>0.0</td>\n",
              "      <td>0.0</td>\n",
              "      <td>0.0</td>\n",
              "      <td>0.0</td>\n",
              "      <td>0.000000</td>\n",
              "      <td>0.0</td>\n",
              "      <td>0.0</td>\n",
              "      <td>0.000000</td>\n",
              "      <td>0.0</td>\n",
              "      <td>0.000000</td>\n",
              "      <td>0.0</td>\n",
              "      <td>0.0</td>\n",
              "      <td>0.0</td>\n",
              "      <td>0.000000</td>\n",
              "      <td>0.0</td>\n",
              "      <td>0.0</td>\n",
              "      <td>0.0</td>\n",
              "      <td>0.000000</td>\n",
              "      <td>0.000000</td>\n",
              "      <td>0.0</td>\n",
              "      <td>0.000000</td>\n",
              "      <td>0.000000</td>\n",
              "      <td>0.0</td>\n",
              "      <td>0.0</td>\n",
              "      <td>0.0</td>\n",
              "      <td>0.0</td>\n",
              "      <td>0.0</td>\n",
              "      <td>0.0</td>\n",
              "      <td>0.0</td>\n",
              "      <td>0.0</td>\n",
              "      <td>0.0</td>\n",
              "      <td>0.0</td>\n",
              "      <td>0.0</td>\n",
              "      <td>0.000000</td>\n",
              "      <td>0.0</td>\n",
              "      <td>0.0</td>\n",
              "      <td>0.0</td>\n",
              "      <td>0.000000</td>\n",
              "      <td>0.0</td>\n",
              "      <td>0.000000</td>\n",
              "      <td>0.000000</td>\n",
              "      <td>0.000000</td>\n",
              "      <td>0.00000</td>\n",
              "      <td>0.0</td>\n",
              "    </tr>\n",
              "    <tr>\n",
              "      <th>7</th>\n",
              "      <td>7</td>\n",
              "      <td>0.0</td>\n",
              "      <td>0.000000</td>\n",
              "      <td>0.003772</td>\n",
              "      <td>0.0</td>\n",
              "      <td>0.0</td>\n",
              "      <td>0.0</td>\n",
              "      <td>0.0</td>\n",
              "      <td>0.0</td>\n",
              "      <td>0.031222</td>\n",
              "      <td>0.0</td>\n",
              "      <td>0.0</td>\n",
              "      <td>0.0</td>\n",
              "      <td>0.000000</td>\n",
              "      <td>0.0</td>\n",
              "      <td>0.0</td>\n",
              "      <td>0.003673</td>\n",
              "      <td>0.0</td>\n",
              "      <td>0.0</td>\n",
              "      <td>0.0</td>\n",
              "      <td>0.0</td>\n",
              "      <td>0.000000</td>\n",
              "      <td>0.0</td>\n",
              "      <td>0.0</td>\n",
              "      <td>0.000000</td>\n",
              "      <td>0.0</td>\n",
              "      <td>0.016657</td>\n",
              "      <td>0.0</td>\n",
              "      <td>0.0</td>\n",
              "      <td>0.0</td>\n",
              "      <td>0.000000</td>\n",
              "      <td>0.0</td>\n",
              "      <td>0.0</td>\n",
              "      <td>0.0</td>\n",
              "      <td>0.000000</td>\n",
              "      <td>0.000000</td>\n",
              "      <td>0.0</td>\n",
              "      <td>0.000000</td>\n",
              "      <td>0.000000</td>\n",
              "      <td>0.0</td>\n",
              "      <td>0.0</td>\n",
              "      <td>0.0</td>\n",
              "      <td>0.0</td>\n",
              "      <td>0.0</td>\n",
              "      <td>0.0</td>\n",
              "      <td>0.0</td>\n",
              "      <td>0.0</td>\n",
              "      <td>0.0</td>\n",
              "      <td>0.0</td>\n",
              "      <td>0.0</td>\n",
              "      <td>0.000000</td>\n",
              "      <td>0.0</td>\n",
              "      <td>0.0</td>\n",
              "      <td>0.0</td>\n",
              "      <td>0.000000</td>\n",
              "      <td>0.0</td>\n",
              "      <td>0.000000</td>\n",
              "      <td>0.000000</td>\n",
              "      <td>0.004690</td>\n",
              "      <td>0.00000</td>\n",
              "      <td>0.0</td>\n",
              "    </tr>\n",
              "    <tr>\n",
              "      <th>8</th>\n",
              "      <td>8</td>\n",
              "      <td>0.0</td>\n",
              "      <td>0.000000</td>\n",
              "      <td>0.000000</td>\n",
              "      <td>0.0</td>\n",
              "      <td>0.0</td>\n",
              "      <td>0.0</td>\n",
              "      <td>0.0</td>\n",
              "      <td>0.0</td>\n",
              "      <td>0.000000</td>\n",
              "      <td>0.0</td>\n",
              "      <td>0.0</td>\n",
              "      <td>0.0</td>\n",
              "      <td>0.000000</td>\n",
              "      <td>0.0</td>\n",
              "      <td>0.0</td>\n",
              "      <td>0.000000</td>\n",
              "      <td>0.0</td>\n",
              "      <td>0.0</td>\n",
              "      <td>0.0</td>\n",
              "      <td>0.0</td>\n",
              "      <td>0.000000</td>\n",
              "      <td>0.0</td>\n",
              "      <td>0.0</td>\n",
              "      <td>0.000000</td>\n",
              "      <td>0.0</td>\n",
              "      <td>0.000000</td>\n",
              "      <td>0.0</td>\n",
              "      <td>0.0</td>\n",
              "      <td>0.0</td>\n",
              "      <td>0.000000</td>\n",
              "      <td>0.0</td>\n",
              "      <td>0.0</td>\n",
              "      <td>0.0</td>\n",
              "      <td>0.000000</td>\n",
              "      <td>0.000000</td>\n",
              "      <td>0.0</td>\n",
              "      <td>0.000000</td>\n",
              "      <td>0.005429</td>\n",
              "      <td>0.0</td>\n",
              "      <td>0.0</td>\n",
              "      <td>0.0</td>\n",
              "      <td>0.0</td>\n",
              "      <td>0.0</td>\n",
              "      <td>0.0</td>\n",
              "      <td>0.0</td>\n",
              "      <td>0.0</td>\n",
              "      <td>0.0</td>\n",
              "      <td>0.0</td>\n",
              "      <td>0.0</td>\n",
              "      <td>0.000000</td>\n",
              "      <td>0.0</td>\n",
              "      <td>0.0</td>\n",
              "      <td>0.0</td>\n",
              "      <td>0.000000</td>\n",
              "      <td>0.0</td>\n",
              "      <td>0.000000</td>\n",
              "      <td>0.000000</td>\n",
              "      <td>0.000000</td>\n",
              "      <td>0.00000</td>\n",
              "      <td>0.0</td>\n",
              "    </tr>\n",
              "    <tr>\n",
              "      <th>9</th>\n",
              "      <td>9</td>\n",
              "      <td>0.0</td>\n",
              "      <td>0.000000</td>\n",
              "      <td>0.000000</td>\n",
              "      <td>0.0</td>\n",
              "      <td>0.0</td>\n",
              "      <td>0.0</td>\n",
              "      <td>0.0</td>\n",
              "      <td>0.0</td>\n",
              "      <td>0.000000</td>\n",
              "      <td>0.0</td>\n",
              "      <td>0.0</td>\n",
              "      <td>0.0</td>\n",
              "      <td>0.000000</td>\n",
              "      <td>0.0</td>\n",
              "      <td>0.0</td>\n",
              "      <td>0.000000</td>\n",
              "      <td>0.0</td>\n",
              "      <td>0.0</td>\n",
              "      <td>0.0</td>\n",
              "      <td>0.0</td>\n",
              "      <td>0.000000</td>\n",
              "      <td>0.0</td>\n",
              "      <td>0.0</td>\n",
              "      <td>0.000000</td>\n",
              "      <td>0.0</td>\n",
              "      <td>0.000000</td>\n",
              "      <td>0.0</td>\n",
              "      <td>0.0</td>\n",
              "      <td>0.0</td>\n",
              "      <td>0.018894</td>\n",
              "      <td>0.0</td>\n",
              "      <td>0.0</td>\n",
              "      <td>0.0</td>\n",
              "      <td>0.000000</td>\n",
              "      <td>0.000000</td>\n",
              "      <td>0.0</td>\n",
              "      <td>0.000000</td>\n",
              "      <td>0.000000</td>\n",
              "      <td>0.0</td>\n",
              "      <td>0.0</td>\n",
              "      <td>0.0</td>\n",
              "      <td>0.0</td>\n",
              "      <td>0.0</td>\n",
              "      <td>0.0</td>\n",
              "      <td>0.0</td>\n",
              "      <td>0.0</td>\n",
              "      <td>0.0</td>\n",
              "      <td>0.0</td>\n",
              "      <td>0.0</td>\n",
              "      <td>0.000000</td>\n",
              "      <td>0.0</td>\n",
              "      <td>0.0</td>\n",
              "      <td>0.0</td>\n",
              "      <td>0.000000</td>\n",
              "      <td>0.0</td>\n",
              "      <td>0.003638</td>\n",
              "      <td>0.000000</td>\n",
              "      <td>0.000000</td>\n",
              "      <td>0.00000</td>\n",
              "      <td>0.0</td>\n",
              "    </tr>\n",
              "  </tbody>\n",
              "</table>\n",
              "</div>"
            ],
            "text/plain": [
              "   Unnamed: 0  HTTP 404  ...   Sepsis  Adam Levine\n",
              "0           0       0.0  ...  0.00000          0.0\n",
              "1           1       0.0  ...  0.00611          0.0\n",
              "2           2       0.0  ...  0.00000          0.0\n",
              "3           3       0.0  ...  0.00000          0.0\n",
              "4           4       0.0  ...  0.00000          0.0\n",
              "5           5       0.0  ...  0.00000          0.0\n",
              "6           6       0.0  ...  0.00000          0.0\n",
              "7           7       0.0  ...  0.00000          0.0\n",
              "8           8       0.0  ...  0.00000          0.0\n",
              "9           9       0.0  ...  0.00000          0.0\n",
              "\n",
              "[10 rows x 61 columns]"
            ]
          },
          "metadata": {
            "tags": []
          },
          "execution_count": 29
        }
      ]
    },
    {
      "cell_type": "code",
      "metadata": {
        "colab": {
          "base_uri": "https://localhost:8080/",
          "height": 0
        },
        "id": "STWX45iNxwO4",
        "outputId": "c8381b62-e65d-48a6-96db-ae535f137fab"
      },
      "source": [
        "articles = df.iloc[:,1:].values\n",
        "titles = df.iloc[:,0].values\n",
        "\n",
        "# Create a TruncatedSVD instance: svd\n",
        "svd = TruncatedSVD(n_components=50)\n",
        "\n",
        "# Create a KMeans instance: kmeans\n",
        "kmeans = KMeans(n_clusters=6)\n",
        "\n",
        "# Create a pipeline: pipeline\n",
        "pipeline = make_pipeline(svd, kmeans)\n",
        "\n",
        "# Fit the pipeline to articles\n",
        "pipeline.fit(articles)\n",
        "\n",
        "# Calculate the cluster labels: labels\n",
        "labels = pipeline.predict(articles)\n",
        "\n",
        "# Create a DataFrame aligning labels and titles: df\n",
        "df = pd.DataFrame({'label': labels, 'article': titles})\n",
        "\n",
        "# Display df sorted by cluster label\n",
        "df.sort_values('label')"
      ],
      "execution_count": 30,
      "outputs": [
        {
          "output_type": "execute_result",
          "data": {
            "text/html": [
              "<div>\n",
              "<style scoped>\n",
              "    .dataframe tbody tr th:only-of-type {\n",
              "        vertical-align: middle;\n",
              "    }\n",
              "\n",
              "    .dataframe tbody tr th {\n",
              "        vertical-align: top;\n",
              "    }\n",
              "\n",
              "    .dataframe thead th {\n",
              "        text-align: right;\n",
              "    }\n",
              "</style>\n",
              "<table border=\"1\" class=\"dataframe\">\n",
              "  <thead>\n",
              "    <tr style=\"text-align: right;\">\n",
              "      <th></th>\n",
              "      <th>label</th>\n",
              "      <th>article</th>\n",
              "    </tr>\n",
              "  </thead>\n",
              "  <tbody>\n",
              "    <tr>\n",
              "      <th>0</th>\n",
              "      <td>0</td>\n",
              "      <td>0</td>\n",
              "    </tr>\n",
              "    <tr>\n",
              "      <th>8671</th>\n",
              "      <td>0</td>\n",
              "      <td>8671</td>\n",
              "    </tr>\n",
              "    <tr>\n",
              "      <th>8672</th>\n",
              "      <td>0</td>\n",
              "      <td>8672</td>\n",
              "    </tr>\n",
              "    <tr>\n",
              "      <th>8673</th>\n",
              "      <td>0</td>\n",
              "      <td>8673</td>\n",
              "    </tr>\n",
              "    <tr>\n",
              "      <th>8674</th>\n",
              "      <td>0</td>\n",
              "      <td>8674</td>\n",
              "    </tr>\n",
              "    <tr>\n",
              "      <th>...</th>\n",
              "      <td>...</td>\n",
              "      <td>...</td>\n",
              "    </tr>\n",
              "    <tr>\n",
              "      <th>5198</th>\n",
              "      <td>5</td>\n",
              "      <td>5198</td>\n",
              "    </tr>\n",
              "    <tr>\n",
              "      <th>9225</th>\n",
              "      <td>5</td>\n",
              "      <td>9225</td>\n",
              "    </tr>\n",
              "    <tr>\n",
              "      <th>7755</th>\n",
              "      <td>5</td>\n",
              "      <td>7755</td>\n",
              "    </tr>\n",
              "    <tr>\n",
              "      <th>9318</th>\n",
              "      <td>5</td>\n",
              "      <td>9318</td>\n",
              "    </tr>\n",
              "    <tr>\n",
              "      <th>4077</th>\n",
              "      <td>5</td>\n",
              "      <td>4077</td>\n",
              "    </tr>\n",
              "  </tbody>\n",
              "</table>\n",
              "<p>13125 rows × 2 columns</p>\n",
              "</div>"
            ],
            "text/plain": [
              "      label  article\n",
              "0         0        0\n",
              "8671      0     8671\n",
              "8672      0     8672\n",
              "8673      0     8673\n",
              "8674      0     8674\n",
              "...     ...      ...\n",
              "5198      5     5198\n",
              "9225      5     9225\n",
              "7755      5     7755\n",
              "9318      5     9318\n",
              "4077      5     4077\n",
              "\n",
              "[13125 rows x 2 columns]"
            ]
          },
          "metadata": {
            "tags": []
          },
          "execution_count": 30
        }
      ]
    },
    {
      "cell_type": "markdown",
      "metadata": {
        "id": "QbfJAGI13Cm9"
      },
      "source": [
        "## Chapter 4. \n",
        "\n",
        "* Non-negative Matrix Factorization (NMF)"
      ]
    },
    {
      "cell_type": "markdown",
      "metadata": {
        "id": "hC4rCrqQ4Jc7"
      },
      "source": [
        "Topic modeling with NMF."
      ]
    },
    {
      "cell_type": "code",
      "metadata": {
        "colab": {
          "base_uri": "https://localhost:8080/"
        },
        "id": "Xd_ZA0g03EI6",
        "outputId": "2a61c6df-0e9e-4f24-9e1f-1c59c4d92c80"
      },
      "source": [
        "# Get Wikipedia article dataset\n",
        "df = pd.read_csv(\"/content/datasets/wikipedia-vectors.csv\")\n",
        "\n",
        "articles = df.iloc[:,1:].values\n",
        "titles = df.iloc[:,0].values\n",
        "words = words = df.columns[1:]\n",
        "\n",
        "# Create an NMF instance: model\n",
        "n_components = 6\n",
        "model = NMF(n_components=n_components)\n",
        "\n",
        "# Fit the model to articles\n",
        "model.fit(articles)\n",
        "\n",
        "# Transform the articles: nmf_features\n",
        "nmf_features = model.transform(articles)\n",
        "\n",
        "# Print the NMF features\n",
        "print(nmf_features)\n",
        "\n",
        "# Create a pandas DataFrame: df\n",
        "df = pd.DataFrame(nmf_features, index=titles)\n",
        "\n",
        "# Print the row for 'Anne Hathaway'\n",
        "# print(df.loc['Anne Hathaway'])\n",
        "\n",
        "# Print the row for 'Denzel Washington'\n",
        "# print(df.loc['Denzel Washington'])"
      ],
      "execution_count": 31,
      "outputs": [
        {
          "output_type": "stream",
          "text": [
            "[[7.70000817e-03 0.00000000e+00 0.00000000e+00 5.16316767e-03\n",
            "  0.00000000e+00 1.55636750e-04]\n",
            " [8.18905601e-04 1.09532273e-05 8.49231557e-06 0.00000000e+00\n",
            "  6.02577608e-04 0.00000000e+00]\n",
            " [0.00000000e+00 6.47424539e-03 0.00000000e+00 3.80341919e-03\n",
            "  5.21365624e-03 9.82241549e-03]\n",
            " ...\n",
            " [0.00000000e+00 3.21560096e-03 0.00000000e+00 2.16796869e-03\n",
            "  2.03147825e-04 2.69560499e-03]\n",
            " [2.86800162e-04 3.39605868e-04 1.46331500e-04 8.36325547e-03\n",
            "  1.43268786e-03 1.88848478e-03]\n",
            " [0.00000000e+00 0.00000000e+00 0.00000000e+00 0.00000000e+00\n",
            "  0.00000000e+00 0.00000000e+00]]\n"
          ],
          "name": "stdout"
        }
      ]
    },
    {
      "cell_type": "markdown",
      "metadata": {
        "id": "_iQiT-zlInwp"
      },
      "source": [
        "Cannot find for \"Anne Hathaway\" and \"Denzel Washington\" because the dataset doesn't have names of the articles. But the principle of doing NMF has been explained well here."
      ]
    },
    {
      "cell_type": "code",
      "metadata": {
        "colab": {
          "base_uri": "https://localhost:8080/"
        },
        "id": "DEQxsKfGJ3FG",
        "outputId": "2ad29c02-80f6-4e98-c7dc-6179576c7c4d"
      },
      "source": [
        "# Create a DataFrame: components_df\n",
        "components_df = pd.DataFrame(model.components_, columns=words)\n",
        "print(components_df)\n",
        "\n",
        "# Print top words of each NMF components\n",
        "for i in range(n_components): \n",
        "  component = components_df.iloc[i]\n",
        "  print('Top words of NMF component {}'.format(i+1))   \n",
        "  print(component.nlargest())\n",
        "  print('\\n')"
      ],
      "execution_count": 32,
      "outputs": [
        {
          "output_type": "stream",
          "text": [
            "   HTTP 404  Alexa Internet  ...    Sepsis  Adam Levine\n",
            "0  0.000000        0.000000  ...  0.432467     0.558816\n",
            "1  0.000000        0.000000  ...  0.011692     0.012595\n",
            "2  0.000000        0.000000  ...  0.011179     0.000000\n",
            "3  0.000000        0.000000  ...  0.008454     0.079165\n",
            "4  0.000000        0.000000  ...  0.177051     0.012819\n",
            "5  0.392302        0.504646  ...  0.008230     0.000000\n",
            "\n",
            "[6 rows x 60 columns]\n",
            "Top words of NMF component 1\n",
            "Black Sabbath            0.676433\n",
            "Red Hot Chili Peppers    0.657690\n",
            "Arctic Monkeys           0.647104\n",
            "The Wanted               0.587888\n",
            "Adam Levine              0.558816\n",
            "Name: 0, dtype: float64\n",
            "\n",
            "\n",
            "Top words of NMF component 2\n",
            "Radamel Falcao        0.564138\n",
            "Franck Ribéry         0.562305\n",
            "Zlatan Ibrahimović    0.532639\n",
            "Cristiano Ronaldo     0.531998\n",
            "Neymar                0.409027\n",
            "Name: 1, dtype: float64\n",
            "\n",
            "\n",
            "Top words of NMF component 3\n",
            "2010 United Nations Climate Change Conference    0.539066\n",
            "Global warming                                   0.519216\n",
            "Kyoto Protocol                                   0.472815\n",
            "Greenhouse gas emissions by the United States    0.470491\n",
            "2007 United Nations Climate Change Conference    0.455871\n",
            "Name: 2, dtype: float64\n",
            "\n",
            "\n",
            "Top words of NMF component 4\n",
            "Anne Hathaway         0.462572\n",
            "Mila Kunis            0.459726\n",
            "Jennifer Aniston      0.424195\n",
            "Angelina Jolie        0.416015\n",
            "Michael Fassbender    0.410155\n",
            "Name: 3, dtype: float64\n",
            "\n",
            "\n",
            "Top words of NMF component 5\n",
            "Leukemia       0.511486\n",
            "Hepatitis C    0.482385\n",
            "Hepatitis B    0.466221\n",
            "Tonsillitis    0.450023\n",
            "Gout           0.400237\n",
            "Name: 4, dtype: float64\n",
            "\n",
            "\n",
            "Top words of NMF component 6\n",
            "Alexa Internet    0.504646\n",
            "Social search     0.437287\n",
            "Google Search     0.432424\n",
            "Firefox           0.428203\n",
            "HTTP 404          0.392302\n",
            "Name: 5, dtype: float64\n",
            "\n",
            "\n"
          ],
          "name": "stdout"
        }
      ]
    },
    {
      "cell_type": "markdown",
      "metadata": {
        "id": "XOtv_rrjRQEb"
      },
      "source": [
        "Seen from above lists, NMF 1 associates with topic \"music\", NMF 2 is \"soccer player\", NMF 3 is \"climate change\", NMF 4 is \"celebrity\", NMF 5 is \"disease\", and NMF 6 is \"internet\"."
      ]
    },
    {
      "cell_type": "code",
      "metadata": {
        "colab": {
          "base_uri": "https://localhost:8080/",
          "height": 157
        },
        "id": "UwrjUBQ5P7U4",
        "outputId": "368f1672-1a95-405d-e92e-2f86d24890c8"
      },
      "source": [
        "# Imshow plot\n",
        "ko = components_df.values\n",
        "\n",
        "plt.figure(figsize=(17,3))\n",
        "plt.imshow(ko, cmap='plasma')\n",
        "plt.xlabel(\"Word\"); plt.ylabel(\"NMF Component\")\n",
        "plt.show()"
      ],
      "execution_count": 33,
      "outputs": [
        {
          "output_type": "display_data",
          "data": {
            "image/png": "[encoded data removed]",
            "text/plain": [
              "<Figure size 1224x216 with 1 Axes>"
            ]
          },
          "metadata": {
            "tags": [],
            "needs_background": "light"
          }
        }
      ]
    },
    {
      "cell_type": "markdown",
      "metadata": {
        "id": "4ypVhYMYJmsu"
      },
      "source": [
        "LED digits differentiation with NMF"
      ]
    },
    {
      "cell_type": "code",
      "metadata": {
        "colab": {
          "base_uri": "https://localhost:8080/"
        },
        "id": "qtIT4Iv6SuTR",
        "outputId": "f23ce21a-acda-45ba-da63-5039059fed68"
      },
      "source": [
        "# Get digits data\n",
        "samples = get_digits_data()\n",
        "\n",
        "samples"
      ],
      "execution_count": 34,
      "outputs": [
        {
          "output_type": "execute_result",
          "data": {
            "text/plain": [
              "array([[0., 0., 0., ..., 0., 0., 0.],\n",
              "       [0., 0., 0., ..., 0., 0., 0.],\n",
              "       [0., 0., 0., ..., 0., 0., 0.],\n",
              "       ...,\n",
              "       [0., 0., 0., ..., 0., 0., 0.],\n",
              "       [0., 0., 0., ..., 0., 0., 0.],\n",
              "       [0., 0., 0., ..., 0., 0., 0.]])"
            ]
          },
          "metadata": {
            "tags": []
          },
          "execution_count": 34
        }
      ]
    },
    {
      "cell_type": "code",
      "metadata": {
        "colab": {
          "base_uri": "https://localhost:8080/",
          "height": 580
        },
        "id": "-vAN5ufKTuCk",
        "outputId": "b3bf49f5-6cdd-4e8f-9953-8aee398681b4"
      },
      "source": [
        "# Select the 0th row: digit\n",
        "digit = samples[0,:]\n",
        "\n",
        "# Print digit\n",
        "print(digit)\n",
        "\n",
        "# Reshape digit to a 13x8 array: bitmap\n",
        "bitmap = digit.reshape(13,8)\n",
        "\n",
        "# Print bitmap\n",
        "print(bitmap)\n",
        "\n",
        "# Use plt.imshow to display bitmap\n",
        "plt.imshow(bitmap, cmap='gray', interpolation='nearest')\n",
        "plt.colorbar()\n",
        "plt.show()"
      ],
      "execution_count": 35,
      "outputs": [
        {
          "output_type": "stream",
          "text": [
            "[0. 0. 0. 0. 0. 0. 0. 0. 0. 0. 1. 1. 1. 1. 0. 0. 0. 0. 0. 0. 0. 0. 1. 0.\n",
            " 0. 0. 0. 0. 0. 0. 1. 0. 0. 0. 0. 0. 0. 0. 1. 0. 0. 0. 0. 0. 0. 0. 1. 0.\n",
            " 0. 0. 0. 0. 0. 0. 0. 0. 0. 0. 0. 0. 0. 0. 1. 0. 0. 0. 0. 0. 0. 0. 1. 0.\n",
            " 0. 0. 0. 0. 0. 0. 1. 0. 0. 0. 0. 0. 0. 0. 1. 0. 0. 0. 0. 0. 0. 0. 0. 0.\n",
            " 0. 0. 0. 0. 0. 0. 0. 0.]\n",
            "[[0. 0. 0. 0. 0. 0. 0. 0.]\n",
            " [0. 0. 1. 1. 1. 1. 0. 0.]\n",
            " [0. 0. 0. 0. 0. 0. 1. 0.]\n",
            " [0. 0. 0. 0. 0. 0. 1. 0.]\n",
            " [0. 0. 0. 0. 0. 0. 1. 0.]\n",
            " [0. 0. 0. 0. 0. 0. 1. 0.]\n",
            " [0. 0. 0. 0. 0. 0. 0. 0.]\n",
            " [0. 0. 0. 0. 0. 0. 1. 0.]\n",
            " [0. 0. 0. 0. 0. 0. 1. 0.]\n",
            " [0. 0. 0. 0. 0. 0. 1. 0.]\n",
            " [0. 0. 0. 0. 0. 0. 1. 0.]\n",
            " [0. 0. 0. 0. 0. 0. 0. 0.]\n",
            " [0. 0. 0. 0. 0. 0. 0. 0.]]\n"
          ],
          "name": "stdout"
        },
        {
          "output_type": "display_data",
          "data": {
            "image/png": "[encoded data removed]",
            "text/plain": [
              "<Figure size 432x288 with 2 Axes>"
            ]
          },
          "metadata": {
            "tags": [],
            "needs_background": "light"
          }
        }
      ]
    },
    {
      "cell_type": "code",
      "metadata": {
        "colab": {
          "base_uri": "https://localhost:8080/",
          "height": 1000
        },
        "id": "7-AIPY2BUr7P",
        "outputId": "22b64e27-fad4-4850-bd77-b0cccfb3a7de"
      },
      "source": [
        "def show_as_image(sample):\n",
        "    bitmap = sample.reshape((13, 8))\n",
        "    plt.figure()\n",
        "    plt.imshow(bitmap, cmap='gray', interpolation='nearest')\n",
        "    plt.colorbar()\n",
        "    plt.show()\n",
        "\n",
        "# Create an NMF model: model\n",
        "model = NMF(n_components=7)\n",
        "\n",
        "# Apply fit_transform to samples: features\n",
        "features = model.fit_transform(samples)\n",
        "\n",
        "# Call show_as_image on each component\n",
        "for component in model.components_:\n",
        "    show_as_image(component)\n",
        "\n",
        "# Assign the 0th row of features: digit_features\n",
        "digit_features = features[0,:]\n",
        "\n",
        "# Print digit_features\n",
        "print(digit_features)"
      ],
      "execution_count": 36,
      "outputs": [
        {
          "output_type": "display_data",
          "data": {
            "image/png": "[encoded data removed]",
            "text/plain": [
              "<Figure size 432x288 with 2 Axes>"
            ]
          },
          "metadata": {
            "tags": [],
            "needs_background": "light"
          }
        },
        {
          "output_type": "display_data",
          "data": {
            "image/png": "[encoded data removed]",
            "text/plain": [
              "<Figure size 432x288 with 2 Axes>"
            ]
          },
          "metadata": {
            "tags": [],
            "needs_background": "light"
          }
        },
        {
          "output_type": "display_data",
          "data": {
            "image/png": "[encoded data removed]",
            "text/plain": [
              "<Figure size 432x288 with 2 Axes>"
            ]
          },
          "metadata": {
            "tags": [],
            "needs_background": "light"
          }
        },
        {
          "output_type": "display_data",
          "data": {
            "image/png": "[encoded data removed]",
            "text/plain": [
              "<Figure size 432x288 with 2 Axes>"
            ]
          },
          "metadata": {
            "tags": [],
            "needs_background": "light"
          }
        },
        {
          "output_type": "display_data",
          "data": {
            "image/png": "[encoded data removed]",
            "text/plain": [
              "<Figure size 432x288 with 2 Axes>"
            ]
          },
          "metadata": {
            "tags": [],
            "needs_background": "light"
          }
        },
        {
          "output_type": "display_data",
          "data": {
            "image/png": "[encoded data removed]",
            "text/plain": [
              "<Figure size 432x288 with 2 Axes>"
            ]
          },
          "metadata": {
            "tags": [],
            "needs_background": "light"
          }
        },
        {
          "output_type": "display_data",
          "data": {
            "image/png": "[encoded data removed]",
            "text/plain": [
              "<Figure size 432x288 with 2 Axes>"
            ]
          },
          "metadata": {
            "tags": [],
            "needs_background": "light"
          }
        },
        {
          "output_type": "stream",
          "text": [
            "[4.76823559e-01 0.00000000e+00 0.00000000e+00 5.90605054e-01\n",
            " 4.81559442e-01 0.00000000e+00 7.37551667e-16]\n"
          ],
          "name": "stdout"
        }
      ]
    },
    {
      "cell_type": "markdown",
      "metadata": {
        "id": "WtdbVxvUeBvq"
      },
      "source": [
        "Music recommender system with NMF."
      ]
    },
    {
      "cell_type": "code",
      "metadata": {
        "id": "kQ9dXiOneD_o"
      },
      "source": [
        "# # Load musical artist dataset\n",
        "# path = \"/content/datasets/musical_artist.csv\"\n",
        "\n",
        "# df = pd.read_csv(path)\n",
        "\n",
        "# df.head()"
      ],
      "execution_count": 56,
      "outputs": []
    },
    {
      "cell_type": "code",
      "metadata": {
        "id": "RibeF6c3YoGH"
      },
      "source": [
        "# # Artist names\n",
        "# names = np.array(\n",
        "#     ['Massive Attack', 'Sublime', 'Beastie Boys', 'Neil Young',\n",
        "#     'Dead Kennedys', 'Orbital', 'Miles Davis', 'Leonard Cohen',\n",
        "#     'Van Morrison', 'NOFX', 'Rancid', 'Lamb', 'Korn',\n",
        "#     'Dropkick Murphys', 'Bob Dylan', 'Eminem', 'Nirvana', 'Van Halen',\n",
        "#     'Damien Rice', 'Elvis Costello', 'Everclear', 'Jimi Hendrix',\n",
        "#     'PJ Harvey', 'Red Hot Chili Peppers', 'Ryan Adams', 'Soundgarden',\n",
        "#     'The White Stripes', 'Madonna', 'Eric Clapton', 'Bob Marley',\n",
        "#     'Dr. Dre', 'The Flaming Lips', 'Tom Waits', 'Moby', 'Cypress Hill',\n",
        "#     'Garbage', 'Fear Factory', '50 Cent', 'Ani DiFranco',\n",
        "#     'Matchbox Twenty', 'The Police', 'Eagles', 'Phish',\n",
        "#     'Stone Temple Pilots', 'Black Sabbath', 'Britney Spears',\n",
        "#     'Fatboy Slim', 'System of a Down', 'Simon & Garfunkel',\n",
        "#     'Snoop Dogg', 'Aimee Mann', 'Less Than Jake', 'Rammstein',\n",
        "#     'Reel Big Fish', 'The Prodigy', 'Pantera', 'Foo Fighters',\n",
        "#     'The Beatles', 'Incubus', 'Audioslave', 'Bright Eyes',\n",
        "#     'Machine Head', 'AC/DC', 'Dire Straits', 'Motörhead', 'Ramones',\n",
        "#     'Slipknot', 'Me First and the Gimme Gimmes', 'Bruce Springsteen',\n",
        "#     'Queens of the Stone Age', 'The Chemical Brothers', 'Bon Jovi',\n",
        "#     'Goo Goo Dolls', 'Alice in Chains', 'Howard Shore',\n",
        "#     'Barenaked Ladies', 'Anti-Flag', 'Nick Cave and the Bad Seeds',\n",
        "#     'Static-X', 'Misfits', '2Pac', 'Sparta', 'Interpol',\n",
        "#     'The Crystal Method', 'The Beach Boys', 'Goldfrapp',\n",
        "#     'Bob Marley & the Wailers', 'Kylie Minogue', 'The Blood Brothers',\n",
        "#     'Mirah', 'Ludacris', 'Snow Patrol', 'The Mars Volta',\n",
        "#     'Yeah Yeah Yeahs', 'Iced Earth', 'Fiona Apple', 'Rilo Kiley',\n",
        "#     'Rufus Wainwright', 'Flogging Molly', 'Hot Hot Heat', 'Dredg',\n",
        "#     'Switchfoot', 'Tegan and Sara', 'Rage Against the Machine',\n",
        "#     'Keane', 'Jet', 'Franz Ferdinand', 'The Postal Service',\n",
        "#     'The Dresden Dolls', 'The Killers', 'Death From Above 1979'])"
      ],
      "execution_count": 55,
      "outputs": []
    },
    {
      "cell_type": "code",
      "metadata": {
        "id": "L8_2-jJieWPt"
      },
      "source": [
        "# # Features\n",
        "# artists = df.values\n",
        "\n",
        "# # Create a MaxAbsScaler: scaler\n",
        "# scaler = MaxAbsScaler()\n",
        "\n",
        "# # Create an NMF model: nmf\n",
        "# nmf = NMF(n_components=20)\n",
        "\n",
        "# # Create a Normalizer: normalizer\n",
        "# normalizer = Normalizer()\n",
        "\n",
        "# # Create a pipeline: pipeline\n",
        "# pipeline = make_pipeline(scaler, nmf, normalizer)\n",
        "\n",
        "# # Apply fit_transform to artists: norm_features\n",
        "# norm_features = pipeline.fit_transform(artists)\n",
        "\n",
        "# # Create a DataFrame: df\n",
        "# df = pd.DataFrame(norm_features, index=names)\n",
        "\n",
        "# # Select row of 'Bruce Springsteen': artist\n",
        "# artist = df.loc['Bruce Springsteen']\n",
        "\n",
        "# # Compute cosine similarities: similarities\n",
        "# similarities = df.dot(artist)\n",
        "\n",
        "# # Display those with highest cosine similarity\n",
        "# print(similarities.nlargest())"
      ],
      "execution_count": 54,
      "outputs": []
    }
  ]
}