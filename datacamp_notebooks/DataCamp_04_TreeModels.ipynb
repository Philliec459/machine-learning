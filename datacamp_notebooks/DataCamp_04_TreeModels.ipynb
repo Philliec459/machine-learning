{
  "nbformat": 4,
  "nbformat_minor": 0,
  "metadata": {
    "colab": {
      "name": "DataCamp_04_TreeModels.ipynb",
      "provenance": [],
      "collapsed_sections": [],
      "toc_visible": true,
      "authorship_tag": "ABX9TyMNaRxm+EkwCxkYoo6kfTqc",
      "include_colab_link": true
    },
    "kernelspec": {
      "name": "python3",
      "display_name": "Python 3"
    },
    "language_info": {
      "name": "python"
    }
  },
  "cells": [
    {
      "cell_type": "markdown",
      "metadata": {
        "id": "view-in-github",
        "colab_type": "text"
      },
      "source": [
        "<a href=\"https://colab.research.google.com/github/yohanesnuwara/machine-learning/blob/master/datacamp_notebooks/DataCamp_04_TreeModels.ipynb\" target=\"_parent\"><img src=\"https://colab.research.google.com/assets/colab-badge.svg\" alt=\"Open In Colab\"/></a>"
      ]
    },
    {
      "cell_type": "markdown",
      "metadata": {
        "id": "4sD1welL9D8S"
      },
      "source": [
        "# 04. Tree-based Machine Learning"
      ]
    },
    {
      "cell_type": "markdown",
      "metadata": {
        "id": "N8OV1Nm_H49Y"
      },
      "source": [
        "## Set up."
      ]
    },
    {
      "cell_type": "code",
      "metadata": {
        "id": "vxsN9JTZj9re"
      },
      "source": [
        "import numpy as np\n",
        "import pandas as pd\n",
        "import matplotlib.pyplot as plt\n",
        "\n",
        "from sklearn.model_selection import train_test_split, cross_val_score, GridSearchCV\n",
        "from sklearn.tree import DecisionTreeClassifier, DecisionTreeRegressor\n",
        "from sklearn.linear_model import LogisticRegression\n",
        "from sklearn.neighbors import KNeighborsClassifier\n",
        "\n",
        "from sklearn.metrics import mean_squared_error, accuracy_score, roc_auc_score, \\\n",
        "r2_score\n",
        "\n",
        "from sklearn.ensemble import VotingClassifier, BaggingClassifier, RandomForestRegressor, \\\n",
        "AdaBoostClassifier, GradientBoostingRegressor, RandomForestClassifier"
      ],
      "execution_count": null,
      "outputs": []
    },
    {
      "cell_type": "code",
      "metadata": {
        "colab": {
          "base_uri": "https://localhost:8080/"
        },
        "id": "UUDRVGOxHzhb",
        "outputId": "de217536-0747-4c50-c418-a924b3bb0fb2"
      },
      "source": [
        "!git clone https://github.com/yohanesnuwara/datasets"
      ],
      "execution_count": null,
      "outputs": [
        {
          "output_type": "stream",
          "text": [
            "Cloning into 'datasets'...\n",
            "remote: Enumerating objects: 437, done.\u001b[K\n",
            "remote: Counting objects: 100% (15/15), done.\u001b[K\n",
            "remote: Compressing objects: 100% (15/15), done.\u001b[K\n",
            "remote: Total 437 (delta 4), reused 0 (delta 0), pack-reused 422\u001b[K\n",
            "Receiving objects: 100% (437/437), 39.60 MiB | 20.48 MiB/s, done.\n",
            "Resolving deltas: 100% (141/141), done.\n"
          ],
          "name": "stdout"
        }
      ]
    },
    {
      "cell_type": "code",
      "metadata": {
        "id": "a3ZHSWiVQ-Cd"
      },
      "source": [
        "# Preprocessed datasets\n",
        "def get_breast_cancer_data():\n",
        "  df = pd.read_csv(\"/content/datasets/Wisconsin Breast Cancer.csv\")\n",
        "\n",
        "  # Encode diagnosis\n",
        "  df.loc[df.diagnosis==\"M\", \"diagnosis\"] = 1\n",
        "  df.loc[df.diagnosis==\"B\", \"diagnosis\"] = 0\n",
        "  return df\n",
        "\n",
        "def get_auto_data():\n",
        "  df = pd.read_csv(\"/content/datasets/Automobile miles per gallon.csv\") \n",
        "  df = pd.get_dummies(df)\n",
        "  return df "
      ],
      "execution_count": null,
      "outputs": []
    },
    {
      "cell_type": "markdown",
      "metadata": {
        "id": "lC-JzR0sJPXU"
      },
      "source": [
        "## Chapter 1.\n",
        "\n",
        "* Decision tree for classification and regression (with \"gini\" and \"entropy\" criteria)"
      ]
    },
    {
      "cell_type": "markdown",
      "metadata": {
        "id": "bST-tA0dU_MT"
      },
      "source": [
        "Decision tree for classification."
      ]
    },
    {
      "cell_type": "code",
      "metadata": {
        "colab": {
          "base_uri": "https://localhost:8080/",
          "height": 236
        },
        "id": "FSGlfDNySGJA",
        "outputId": "69bffb30-7874-4427-9149-4f4a8bcaf258"
      },
      "source": [
        "df = get_breast_cancer_data()\n",
        "\n",
        "df.head()"
      ],
      "execution_count": null,
      "outputs": [
        {
          "output_type": "execute_result",
          "data": {
            "text/html": [
              "<div>\n",
              "<style scoped>\n",
              "    .dataframe tbody tr th:only-of-type {\n",
              "        vertical-align: middle;\n",
              "    }\n",
              "\n",
              "    .dataframe tbody tr th {\n",
              "        vertical-align: top;\n",
              "    }\n",
              "\n",
              "    .dataframe thead th {\n",
              "        text-align: right;\n",
              "    }\n",
              "</style>\n",
              "<table border=\"1\" class=\"dataframe\">\n",
              "  <thead>\n",
              "    <tr style=\"text-align: right;\">\n",
              "      <th></th>\n",
              "      <th>id</th>\n",
              "      <th>diagnosis</th>\n",
              "      <th>radius_mean</th>\n",
              "      <th>texture_mean</th>\n",
              "      <th>perimeter_mean</th>\n",
              "      <th>area_mean</th>\n",
              "      <th>smoothness_mean</th>\n",
              "      <th>compactness_mean</th>\n",
              "      <th>concavity_mean</th>\n",
              "      <th>concave points_mean</th>\n",
              "      <th>symmetry_mean</th>\n",
              "      <th>fractal_dimension_mean</th>\n",
              "      <th>radius_se</th>\n",
              "      <th>texture_se</th>\n",
              "      <th>perimeter_se</th>\n",
              "      <th>area_se</th>\n",
              "      <th>smoothness_se</th>\n",
              "      <th>compactness_se</th>\n",
              "      <th>concavity_se</th>\n",
              "      <th>concave points_se</th>\n",
              "      <th>symmetry_se</th>\n",
              "      <th>fractal_dimension_se</th>\n",
              "      <th>radius_worst</th>\n",
              "      <th>texture_worst</th>\n",
              "      <th>perimeter_worst</th>\n",
              "      <th>area_worst</th>\n",
              "      <th>smoothness_worst</th>\n",
              "      <th>compactness_worst</th>\n",
              "      <th>concavity_worst</th>\n",
              "      <th>concave points_worst</th>\n",
              "      <th>symmetry_worst</th>\n",
              "      <th>fractal_dimension_worst</th>\n",
              "      <th>Unnamed: 32</th>\n",
              "    </tr>\n",
              "  </thead>\n",
              "  <tbody>\n",
              "    <tr>\n",
              "      <th>0</th>\n",
              "      <td>842302</td>\n",
              "      <td>1</td>\n",
              "      <td>17.99</td>\n",
              "      <td>10.38</td>\n",
              "      <td>122.80</td>\n",
              "      <td>1001.0</td>\n",
              "      <td>0.11840</td>\n",
              "      <td>0.27760</td>\n",
              "      <td>0.3001</td>\n",
              "      <td>0.14710</td>\n",
              "      <td>0.2419</td>\n",
              "      <td>0.07871</td>\n",
              "      <td>1.0950</td>\n",
              "      <td>0.9053</td>\n",
              "      <td>8.589</td>\n",
              "      <td>153.40</td>\n",
              "      <td>0.006399</td>\n",
              "      <td>0.04904</td>\n",
              "      <td>0.05373</td>\n",
              "      <td>0.01587</td>\n",
              "      <td>0.03003</td>\n",
              "      <td>0.006193</td>\n",
              "      <td>25.38</td>\n",
              "      <td>17.33</td>\n",
              "      <td>184.60</td>\n",
              "      <td>2019.0</td>\n",
              "      <td>0.1622</td>\n",
              "      <td>0.6656</td>\n",
              "      <td>0.7119</td>\n",
              "      <td>0.2654</td>\n",
              "      <td>0.4601</td>\n",
              "      <td>0.11890</td>\n",
              "      <td>NaN</td>\n",
              "    </tr>\n",
              "    <tr>\n",
              "      <th>1</th>\n",
              "      <td>842517</td>\n",
              "      <td>1</td>\n",
              "      <td>20.57</td>\n",
              "      <td>17.77</td>\n",
              "      <td>132.90</td>\n",
              "      <td>1326.0</td>\n",
              "      <td>0.08474</td>\n",
              "      <td>0.07864</td>\n",
              "      <td>0.0869</td>\n",
              "      <td>0.07017</td>\n",
              "      <td>0.1812</td>\n",
              "      <td>0.05667</td>\n",
              "      <td>0.5435</td>\n",
              "      <td>0.7339</td>\n",
              "      <td>3.398</td>\n",
              "      <td>74.08</td>\n",
              "      <td>0.005225</td>\n",
              "      <td>0.01308</td>\n",
              "      <td>0.01860</td>\n",
              "      <td>0.01340</td>\n",
              "      <td>0.01389</td>\n",
              "      <td>0.003532</td>\n",
              "      <td>24.99</td>\n",
              "      <td>23.41</td>\n",
              "      <td>158.80</td>\n",
              "      <td>1956.0</td>\n",
              "      <td>0.1238</td>\n",
              "      <td>0.1866</td>\n",
              "      <td>0.2416</td>\n",
              "      <td>0.1860</td>\n",
              "      <td>0.2750</td>\n",
              "      <td>0.08902</td>\n",
              "      <td>NaN</td>\n",
              "    </tr>\n",
              "    <tr>\n",
              "      <th>2</th>\n",
              "      <td>84300903</td>\n",
              "      <td>1</td>\n",
              "      <td>19.69</td>\n",
              "      <td>21.25</td>\n",
              "      <td>130.00</td>\n",
              "      <td>1203.0</td>\n",
              "      <td>0.10960</td>\n",
              "      <td>0.15990</td>\n",
              "      <td>0.1974</td>\n",
              "      <td>0.12790</td>\n",
              "      <td>0.2069</td>\n",
              "      <td>0.05999</td>\n",
              "      <td>0.7456</td>\n",
              "      <td>0.7869</td>\n",
              "      <td>4.585</td>\n",
              "      <td>94.03</td>\n",
              "      <td>0.006150</td>\n",
              "      <td>0.04006</td>\n",
              "      <td>0.03832</td>\n",
              "      <td>0.02058</td>\n",
              "      <td>0.02250</td>\n",
              "      <td>0.004571</td>\n",
              "      <td>23.57</td>\n",
              "      <td>25.53</td>\n",
              "      <td>152.50</td>\n",
              "      <td>1709.0</td>\n",
              "      <td>0.1444</td>\n",
              "      <td>0.4245</td>\n",
              "      <td>0.4504</td>\n",
              "      <td>0.2430</td>\n",
              "      <td>0.3613</td>\n",
              "      <td>0.08758</td>\n",
              "      <td>NaN</td>\n",
              "    </tr>\n",
              "    <tr>\n",
              "      <th>3</th>\n",
              "      <td>84348301</td>\n",
              "      <td>1</td>\n",
              "      <td>11.42</td>\n",
              "      <td>20.38</td>\n",
              "      <td>77.58</td>\n",
              "      <td>386.1</td>\n",
              "      <td>0.14250</td>\n",
              "      <td>0.28390</td>\n",
              "      <td>0.2414</td>\n",
              "      <td>0.10520</td>\n",
              "      <td>0.2597</td>\n",
              "      <td>0.09744</td>\n",
              "      <td>0.4956</td>\n",
              "      <td>1.1560</td>\n",
              "      <td>3.445</td>\n",
              "      <td>27.23</td>\n",
              "      <td>0.009110</td>\n",
              "      <td>0.07458</td>\n",
              "      <td>0.05661</td>\n",
              "      <td>0.01867</td>\n",
              "      <td>0.05963</td>\n",
              "      <td>0.009208</td>\n",
              "      <td>14.91</td>\n",
              "      <td>26.50</td>\n",
              "      <td>98.87</td>\n",
              "      <td>567.7</td>\n",
              "      <td>0.2098</td>\n",
              "      <td>0.8663</td>\n",
              "      <td>0.6869</td>\n",
              "      <td>0.2575</td>\n",
              "      <td>0.6638</td>\n",
              "      <td>0.17300</td>\n",
              "      <td>NaN</td>\n",
              "    </tr>\n",
              "    <tr>\n",
              "      <th>4</th>\n",
              "      <td>84358402</td>\n",
              "      <td>1</td>\n",
              "      <td>20.29</td>\n",
              "      <td>14.34</td>\n",
              "      <td>135.10</td>\n",
              "      <td>1297.0</td>\n",
              "      <td>0.10030</td>\n",
              "      <td>0.13280</td>\n",
              "      <td>0.1980</td>\n",
              "      <td>0.10430</td>\n",
              "      <td>0.1809</td>\n",
              "      <td>0.05883</td>\n",
              "      <td>0.7572</td>\n",
              "      <td>0.7813</td>\n",
              "      <td>5.438</td>\n",
              "      <td>94.44</td>\n",
              "      <td>0.011490</td>\n",
              "      <td>0.02461</td>\n",
              "      <td>0.05688</td>\n",
              "      <td>0.01885</td>\n",
              "      <td>0.01756</td>\n",
              "      <td>0.005115</td>\n",
              "      <td>22.54</td>\n",
              "      <td>16.67</td>\n",
              "      <td>152.20</td>\n",
              "      <td>1575.0</td>\n",
              "      <td>0.1374</td>\n",
              "      <td>0.2050</td>\n",
              "      <td>0.4000</td>\n",
              "      <td>0.1625</td>\n",
              "      <td>0.2364</td>\n",
              "      <td>0.07678</td>\n",
              "      <td>NaN</td>\n",
              "    </tr>\n",
              "  </tbody>\n",
              "</table>\n",
              "</div>"
            ],
            "text/plain": [
              "         id diagnosis  ...  fractal_dimension_worst  Unnamed: 32\n",
              "0    842302         1  ...                  0.11890          NaN\n",
              "1    842517         1  ...                  0.08902          NaN\n",
              "2  84300903         1  ...                  0.08758          NaN\n",
              "3  84348301         1  ...                  0.17300          NaN\n",
              "4  84358402         1  ...                  0.07678          NaN\n",
              "\n",
              "[5 rows x 33 columns]"
            ]
          },
          "metadata": {
            "tags": []
          },
          "execution_count": 4
        }
      ]
    },
    {
      "cell_type": "code",
      "metadata": {
        "id": "sWlQnHrFSU4d"
      },
      "source": [
        "# Define feature and target\n",
        "X = df[['radius_mean', 'concave points_mean']].values\n",
        "y = df.diagnosis.values\n",
        "\n",
        "y = y.astype('int') # To convert float to int. Otherwise, it throws error \"ValueError\""
      ],
      "execution_count": null,
      "outputs": []
    },
    {
      "cell_type": "markdown",
      "metadata": {
        "id": "BMHTh_6h_Ysg"
      },
      "source": [
        "(a) With \"gini\" criterion."
      ]
    },
    {
      "cell_type": "code",
      "metadata": {
        "colab": {
          "base_uri": "https://localhost:8080/"
        },
        "id": "L5OSnVmDMqt5",
        "outputId": "6bf45f4a-5aaa-4f02-f2e5-7220853bbdb3"
      },
      "source": [
        "# Create training and test sets\n",
        "X_train, X_test, y_train, y_test = train_test_split(X, y, test_size = 0.3, random_state=42)\n",
        "\n",
        "# Instantiate a DecisionTreeClassifier 'dt' with a maximum depth of 6\n",
        "dt = DecisionTreeClassifier(criterion='gini', max_depth=6, random_state=1)\n",
        "\n",
        "# Fit dt to the training set\n",
        "dt.fit(X_train, y_train)\n",
        "\n",
        "# Predict test set labels\n",
        "y_pred = dt.predict(X_test)\n",
        "print(y_pred[0:5])\n",
        "\n",
        "# Compute test set accuracy  \n",
        "acc = accuracy_score(y_test, y_pred)\n",
        "print(\"Test set accuracy: {:.2f}\".format(acc))"
      ],
      "execution_count": null,
      "outputs": [
        {
          "output_type": "stream",
          "text": [
            "[0 1 1 0 0]\n",
            "Test set accuracy: 0.92\n"
          ],
          "name": "stdout"
        }
      ]
    },
    {
      "cell_type": "markdown",
      "metadata": {
        "id": "NMD_DMMR_fKg"
      },
      "source": [
        "(b) With \"entropy\" criterion."
      ]
    },
    {
      "cell_type": "code",
      "metadata": {
        "colab": {
          "base_uri": "https://localhost:8080/"
        },
        "id": "UUyS4s6L_ef9",
        "outputId": "3b629d4b-5abd-490e-81f2-ec7de6e892e1"
      },
      "source": [
        "# Create training and test sets\n",
        "X_train, X_test, y_train, y_test = train_test_split(X, y, test_size = 0.3, random_state=42)\n",
        "\n",
        "# Instantiate a DecisionTreeClassifier 'dt' with a maximum depth of 6\n",
        "dt = DecisionTreeClassifier(criterion='entropy', max_depth=8, random_state=1)\n",
        "\n",
        "# Fit dt to the training set\n",
        "dt.fit(X_train, y_train)\n",
        "\n",
        "# Predict test set labels\n",
        "y_pred = dt.predict(X_test)\n",
        "print(y_pred[0:5])\n",
        "\n",
        "# Compute test set accuracy  \n",
        "acc = accuracy_score(y_test, y_pred)\n",
        "print(\"Test set accuracy: {:.2f}\".format(acc))"
      ],
      "execution_count": null,
      "outputs": [
        {
          "output_type": "stream",
          "text": [
            "[0 1 1 0 0]\n",
            "Test set accuracy: 0.91\n"
          ],
          "name": "stdout"
        }
      ]
    },
    {
      "cell_type": "markdown",
      "metadata": {
        "id": "FF2dmtXQVCdg"
      },
      "source": [
        "Decision tree for regression."
      ]
    },
    {
      "cell_type": "code",
      "metadata": {
        "colab": {
          "base_uri": "https://localhost:8080/",
          "height": 198
        },
        "id": "OLgzuGdwSfz1",
        "outputId": "761e7cf9-4c96-4ba2-d1bd-f22fb1c492f9"
      },
      "source": [
        "df = get_auto_data()\n",
        "\n",
        "df.head()"
      ],
      "execution_count": null,
      "outputs": [
        {
          "output_type": "execute_result",
          "data": {
            "text/html": [
              "<div>\n",
              "<style scoped>\n",
              "    .dataframe tbody tr th:only-of-type {\n",
              "        vertical-align: middle;\n",
              "    }\n",
              "\n",
              "    .dataframe tbody tr th {\n",
              "        vertical-align: top;\n",
              "    }\n",
              "\n",
              "    .dataframe thead th {\n",
              "        text-align: right;\n",
              "    }\n",
              "</style>\n",
              "<table border=\"1\" class=\"dataframe\">\n",
              "  <thead>\n",
              "    <tr style=\"text-align: right;\">\n",
              "      <th></th>\n",
              "      <th>mpg</th>\n",
              "      <th>displ</th>\n",
              "      <th>hp</th>\n",
              "      <th>weight</th>\n",
              "      <th>accel</th>\n",
              "      <th>size</th>\n",
              "      <th>origin_Asia</th>\n",
              "      <th>origin_Europe</th>\n",
              "      <th>origin_US</th>\n",
              "    </tr>\n",
              "  </thead>\n",
              "  <tbody>\n",
              "    <tr>\n",
              "      <th>0</th>\n",
              "      <td>18.0</td>\n",
              "      <td>250.0</td>\n",
              "      <td>88</td>\n",
              "      <td>3139</td>\n",
              "      <td>14.5</td>\n",
              "      <td>15.0</td>\n",
              "      <td>0</td>\n",
              "      <td>0</td>\n",
              "      <td>1</td>\n",
              "    </tr>\n",
              "    <tr>\n",
              "      <th>1</th>\n",
              "      <td>9.0</td>\n",
              "      <td>304.0</td>\n",
              "      <td>193</td>\n",
              "      <td>4732</td>\n",
              "      <td>18.5</td>\n",
              "      <td>20.0</td>\n",
              "      <td>0</td>\n",
              "      <td>0</td>\n",
              "      <td>1</td>\n",
              "    </tr>\n",
              "    <tr>\n",
              "      <th>2</th>\n",
              "      <td>36.1</td>\n",
              "      <td>91.0</td>\n",
              "      <td>60</td>\n",
              "      <td>1800</td>\n",
              "      <td>16.4</td>\n",
              "      <td>10.0</td>\n",
              "      <td>1</td>\n",
              "      <td>0</td>\n",
              "      <td>0</td>\n",
              "    </tr>\n",
              "    <tr>\n",
              "      <th>3</th>\n",
              "      <td>18.5</td>\n",
              "      <td>250.0</td>\n",
              "      <td>98</td>\n",
              "      <td>3525</td>\n",
              "      <td>19.0</td>\n",
              "      <td>15.0</td>\n",
              "      <td>0</td>\n",
              "      <td>0</td>\n",
              "      <td>1</td>\n",
              "    </tr>\n",
              "    <tr>\n",
              "      <th>4</th>\n",
              "      <td>34.3</td>\n",
              "      <td>97.0</td>\n",
              "      <td>78</td>\n",
              "      <td>2188</td>\n",
              "      <td>15.8</td>\n",
              "      <td>10.0</td>\n",
              "      <td>0</td>\n",
              "      <td>1</td>\n",
              "      <td>0</td>\n",
              "    </tr>\n",
              "  </tbody>\n",
              "</table>\n",
              "</div>"
            ],
            "text/plain": [
              "    mpg  displ   hp  weight  accel  size  origin_Asia  origin_Europe  origin_US\n",
              "0  18.0  250.0   88    3139   14.5  15.0            0              0          1\n",
              "1   9.0  304.0  193    4732   18.5  20.0            0              0          1\n",
              "2  36.1   91.0   60    1800   16.4  10.0            1              0          0\n",
              "3  18.5  250.0   98    3525   19.0  15.0            0              0          1\n",
              "4  34.3   97.0   78    2188   15.8  10.0            0              1          0"
            ]
          },
          "metadata": {
            "tags": []
          },
          "execution_count": 8
        }
      ]
    },
    {
      "cell_type": "code",
      "metadata": {
        "colab": {
          "base_uri": "https://localhost:8080/"
        },
        "id": "kyq4G-7mY-SX",
        "outputId": "b83fdde5-72fb-4894-e903-b08b9348bc14"
      },
      "source": [
        "# Define feature and target\n",
        "X = df.iloc[:,1:].values\n",
        "y = df.mpg.values\n",
        "\n",
        "# Create training and test sets\n",
        "X_train, X_test, y_train, y_test = train_test_split(X, y, test_size = 0.3, random_state=42)\n",
        "\n",
        "# Instantiate dt\n",
        "dt = DecisionTreeRegressor(max_depth=8, min_samples_leaf=0.13, random_state=3)\n",
        "\n",
        "# Fit dt to the training set\n",
        "dt.fit(X_train, y_train)\n",
        "\n",
        "# Compute y_pred\n",
        "y_pred = dt.predict(X_test)\n",
        "\n",
        "# Compute test set accuracy  \n",
        "acc = dt.score(X_test, y_test)\n",
        "print(\"R^2: {:.2f}\".format(acc))\n",
        "\n",
        "print(\"Test set RMSE of dt: {:.2f}\".format(np.sqrt(mean_squared_error(y_test, y_pred))))"
      ],
      "execution_count": null,
      "outputs": [
        {
          "output_type": "stream",
          "text": [
            "R^2: 0.69\n",
            "Test set RMSE of dt: 4.18\n"
          ],
          "name": "stdout"
        }
      ]
    },
    {
      "cell_type": "markdown",
      "metadata": {
        "id": "8IYd3njNdHl7"
      },
      "source": [
        "## Chapter 2.\n",
        "\n",
        "* K-fold CV\n",
        "* Ensemble learning; Voting classifier "
      ]
    },
    {
      "cell_type": "markdown",
      "metadata": {
        "id": "V9PfGwY95bMI"
      },
      "source": [
        "Cross-validation."
      ]
    },
    {
      "cell_type": "code",
      "metadata": {
        "colab": {
          "base_uri": "https://localhost:8080/"
        },
        "id": "E3VhD_kAoCG9",
        "outputId": "728d7b8c-632b-4bdf-927d-0ba5e85fd9b9"
      },
      "source": [
        "# Evaluate the list of MSE ontained by 10-fold CV\n",
        "# Set n_jobs to -1 in order to exploit all CPU cores in computation\n",
        "MSE_CV = - cross_val_score(dt, X_train, y_train, cv=10,\n",
        "                           scoring='neg_mean_squared_error', n_jobs = -1)\n",
        "\n",
        "# CV MSE\n",
        "print('CV MSE: {:.2f}'.format(MSE_CV.mean()))"
      ],
      "execution_count": null,
      "outputs": [
        {
          "output_type": "stream",
          "text": [
            "CV MSE: 20.75\n"
          ],
          "name": "stdout"
        }
      ]
    },
    {
      "cell_type": "markdown",
      "metadata": {
        "id": "neGA6REo8mH2"
      },
      "source": [
        "Voting classifier as ensemble of logistic regression, KNN, and decision tree."
      ]
    },
    {
      "cell_type": "code",
      "metadata": {
        "colab": {
          "base_uri": "https://localhost:8080/"
        },
        "id": "oxX2d7_s6pkG",
        "outputId": "9c78b67b-3ab6-4eb5-f0ab-d8b8381c69ca"
      },
      "source": [
        "df = get_breast_cancer_data()\n",
        "\n",
        "# Define feature and target\n",
        "X = df[['radius_mean', 'concave points_mean']].values\n",
        "y = df.diagnosis.values\n",
        "\n",
        "y = y.astype('int') # To convert float to int. Otherwise, it throws error \"ValueError\"\n",
        "\n",
        "# Create training and test sets\n",
        "X_train, X_test, y_train, y_test = train_test_split(X, y, test_size = 0.3, random_state=1)\n",
        "\n",
        "# Instantiate individual classifiers\n",
        "lr = LogisticRegression(random_state=1)\n",
        "knn = KNeighborsClassifier()\n",
        "dt = DecisionTreeClassifier(random_state=1)\n",
        "\n",
        "# Define a list called classifier that contains the tuples (classifier_name, classifier)\n",
        "classifiers = [('Logistic Regression', lr),\n",
        "               ('K Nearest Neighbours', knn),\n",
        "               ('Classification Tree', dt)]\n",
        "\n",
        "# Iterate over the defined list of tuples containing the classifiers\n",
        "for clf_name, clf in classifiers:\n",
        "  clf.fit(X_train, y_train)\n",
        "  y_pred = clf.predict(X_test)\n",
        "\n",
        "  # Evaluate the accuracy of clf on the test set\n",
        "  print('{:s} : {:.3f}'.format(clf_name, accuracy_score(y_test, y_pred)))\n",
        "\n",
        "# Voting classifier\n",
        "vc = VotingClassifier(estimators=classifiers)\n",
        "vc.fit(X_train, y_train)\n",
        "y_pred = vc.predict(X_test)\n",
        "\n",
        "# Evaluate the test-set accuracy of 'vc'\n",
        "print('Voting Classifier: {:.3f}'.format(accuracy_score(y_test, y_pred)))"
      ],
      "execution_count": null,
      "outputs": [
        {
          "output_type": "stream",
          "text": [
            "Logistic Regression : 0.848\n",
            "K Nearest Neighbours : 0.883\n",
            "Classification Tree : 0.901\n",
            "Voting Classifier: 0.895\n"
          ],
          "name": "stdout"
        }
      ]
    },
    {
      "cell_type": "markdown",
      "metadata": {
        "id": "Zpeoiyn-N36g"
      },
      "source": [
        "## Chapter 3.\n",
        "\n",
        "* Bagging classifier\n",
        "* Out-of-bag evaluation of classification using Bagging\n",
        "* Random Forest\n",
        "* Feature importance"
      ]
    },
    {
      "cell_type": "markdown",
      "metadata": {
        "id": "2u1crJxjdl47"
      },
      "source": [
        "Bagging classifier."
      ]
    },
    {
      "cell_type": "code",
      "metadata": {
        "id": "JJmReCnFN6LI",
        "colab": {
          "base_uri": "https://localhost:8080/"
        },
        "outputId": "68c6e10b-69a5-4013-bf9d-c9e555504203"
      },
      "source": [
        "df = get_breast_cancer_data()\n",
        "\n",
        "# Define feature and target\n",
        "X = df[['radius_mean', 'concave points_mean']].values\n",
        "y = df.diagnosis.values\n",
        "\n",
        "y = y.astype('int') # To convert float to int. Otherwise, it throws error \"ValueError\"\n",
        "\n",
        "# Create training and test sets\n",
        "X_train, X_test, y_train, y_test = train_test_split(X, y, test_size = 0.3, random_state=42)\n",
        "\n",
        "# Instantiate dt\n",
        "dt = DecisionTreeClassifier(random_state=1)\n",
        "\n",
        "# Instantiate bc with 50 trees\n",
        "bc = BaggingClassifier(base_estimator=dt, n_estimators=50, random_state=1)\n",
        "\n",
        "# Fit bc to the training set\n",
        "bc.fit(X_train, y_train)\n",
        "\n",
        "# Predict test set labels\n",
        "y_pred = bc.predict(X_test)\n",
        "\n",
        "# Evaluate acc_test\n",
        "acc_test = accuracy_score(y_pred, y_test)\n",
        "print('Test set accuracy of bc: {:.2f}'.format(acc_test)) "
      ],
      "execution_count": null,
      "outputs": [
        {
          "output_type": "stream",
          "text": [
            "Test set accuracy of bc: 0.91\n"
          ],
          "name": "stdout"
        }
      ]
    },
    {
      "cell_type": "markdown",
      "metadata": {
        "id": "294WR505ie3i"
      },
      "source": [
        "Out-of-bag evaluation."
      ]
    },
    {
      "cell_type": "code",
      "metadata": {
        "colab": {
          "base_uri": "https://localhost:8080/"
        },
        "id": "7NkjyIqXijbg",
        "outputId": "625b2ba7-3b7d-453b-973b-8a5b3adfbdcc"
      },
      "source": [
        "# Instantiate bc with 50 trees and Out-of-Bag (OOB)\n",
        "bc = BaggingClassifier(base_estimator=dt, \n",
        "            n_estimators=50,\n",
        "            oob_score=True,\n",
        "            random_state=1)\n",
        "\n",
        "# Fit bc to the training set \n",
        "bc.fit(X_train, y_train)\n",
        "\n",
        "# Predict test set labels\n",
        "y_pred = bc.predict(X_test)\n",
        "\n",
        "# Evaluate test set accuracy\n",
        "acc_test = accuracy_score(y_test, y_pred)\n",
        "\n",
        "# Evaluate OOB accuracy\n",
        "acc_oob = bc.oob_score_\n",
        "\n",
        "# Print acc_test and acc_oob\n",
        "print('Test set accuracy: {:.3f}, OOB accuracy: {:.3f}'.format(acc_test, acc_oob))"
      ],
      "execution_count": null,
      "outputs": [
        {
          "output_type": "stream",
          "text": [
            "Test set accuracy: 0.906, OOB accuracy: 0.912\n"
          ],
          "name": "stdout"
        }
      ]
    },
    {
      "cell_type": "markdown",
      "metadata": {
        "id": "nmmul18sTxoA"
      },
      "source": [
        "Random Forest regressor."
      ]
    },
    {
      "cell_type": "code",
      "metadata": {
        "id": "s0vufxu3QfZk",
        "colab": {
          "base_uri": "https://localhost:8080/"
        },
        "outputId": "d52fae94-ab57-4ade-9e0c-9d84ff659ba8"
      },
      "source": [
        "df = get_auto_data()\n",
        "\n",
        "# Define feature and target\n",
        "X = df.iloc[:,1:]\n",
        "y = df.mpg\n",
        "\n",
        "# Create training and test sets\n",
        "X_train, X_test, y_train, y_test = train_test_split(X, y, test_size = 0.3, random_state=42)\n",
        "\n",
        "# Instantiate rf\n",
        "rf = RandomForestRegressor(n_estimators=25,random_state=2)\n",
        "            \n",
        "# Fit rf to the training set    \n",
        "rf.fit(X_train, y_train) \n",
        "\n",
        "# Predict the test set labels\n",
        "y_pred = rf.predict(X_test)\n",
        "\n",
        "# Evaluate the test set RMSE\n",
        "rmse_test = mean_squared_error(y_test, y_pred)**(1/2)\n",
        "\n",
        "# Print rmse_test\n",
        "print('Test set RMSE of rf: {:.2f}'.format(rmse_test))"
      ],
      "execution_count": null,
      "outputs": [
        {
          "output_type": "stream",
          "text": [
            "Test set RMSE of rf: 3.99\n"
          ],
          "name": "stdout"
        }
      ]
    },
    {
      "cell_type": "markdown",
      "metadata": {
        "id": "RXFhqBlYsh4A"
      },
      "source": [
        "Feature importance."
      ]
    },
    {
      "cell_type": "code",
      "metadata": {
        "colab": {
          "base_uri": "https://localhost:8080/",
          "height": 281
        },
        "id": "rU9HNiE-sjdl",
        "outputId": "27fad805-10e0-42a8-a734-886d75939064"
      },
      "source": [
        "# Create a pd.Series of features importances\n",
        "importances = pd.Series(data=rf.feature_importances_,\n",
        "                        index= X_train.columns)\n",
        "\n",
        "# Sort importances\n",
        "importances_sorted = importances.sort_values()\n",
        "\n",
        "# Draw a horizontal barplot of importances_sorted\n",
        "importances_sorted.plot(kind='barh', color='lightgreen')\n",
        "plt.title('Features Importances')\n",
        "plt.show()"
      ],
      "execution_count": null,
      "outputs": [
        {
          "output_type": "display_data",
          "data": {
            "image/png": "[encoded data removed]",
            "text/plain": [
              "<Figure size 432x288 with 1 Axes>"
            ]
          },
          "metadata": {
            "tags": [],
            "needs_background": "light"
          }
        }
      ]
    },
    {
      "cell_type": "markdown",
      "metadata": {
        "id": "2sXpsnc4Ofex"
      },
      "source": [
        "## Chapter 4.\n",
        "\n",
        "* AdaBoost\n",
        "* Gradient Boosting"
      ]
    },
    {
      "cell_type": "markdown",
      "metadata": {
        "id": "7QalMJMPvZ4J"
      },
      "source": [
        "Adaboost classifier."
      ]
    },
    {
      "cell_type": "code",
      "metadata": {
        "id": "7b4l6-JlOg6q",
        "colab": {
          "base_uri": "https://localhost:8080/"
        },
        "outputId": "5c2b40e4-2ec8-4e48-9d40-172a1f625a34"
      },
      "source": [
        "df = get_breast_cancer_data()\n",
        "\n",
        "# Define feature and target\n",
        "X = df[['radius_mean', 'concave points_mean']].values\n",
        "y = df.diagnosis.values\n",
        "\n",
        "y = y.astype('int') # To convert float to int. Otherwise, it throws error \"ValueError\"\n",
        "\n",
        "# Create training and test sets\n",
        "X_train, X_test, y_train, y_test = train_test_split(X, y, test_size = 0.3, random_state=42)\n",
        "\n",
        "# Instantiate dt\n",
        "dt = DecisionTreeClassifier(max_depth=2, random_state=1)\n",
        "\n",
        "# Instantiate ada with 180 trees \n",
        "ada = AdaBoostClassifier(base_estimator=dt, n_estimators=180, random_state=1)\n",
        "\n",
        "# Fit ada to the training set\n",
        "ada.fit(X_train, y_train)\n",
        "\n",
        "# Compute the probabilities of obtaining the positive class\n",
        "y_pred_proba = ada.predict_proba(X_test)[:,1]\n",
        "\n",
        "print(y_pred_proba[:5])"
      ],
      "execution_count": null,
      "outputs": [
        {
          "output_type": "stream",
          "text": [
            "[0.28972891 0.77791417 0.63830207 0.38370219 0.20174933]\n"
          ],
          "name": "stdout"
        }
      ]
    },
    {
      "cell_type": "code",
      "metadata": {
        "colab": {
          "base_uri": "https://localhost:8080/"
        },
        "id": "yf7ZPPoEv3Y8",
        "outputId": "6c481215-78a7-43cb-e79f-d3cdb02989d0"
      },
      "source": [
        "# Evaluate test-set roc_auc_score\n",
        "ada_roc_auc = roc_auc_score(y_test, y_pred_proba)\n",
        "\n",
        "# Print roc_auc_score\n",
        "print('ROC AUC score: {:.2f}'.format(ada_roc_auc))"
      ],
      "execution_count": null,
      "outputs": [
        {
          "output_type": "stream",
          "text": [
            "ROC AUC score: 0.97\n"
          ],
          "name": "stdout"
        }
      ]
    },
    {
      "cell_type": "markdown",
      "metadata": {
        "id": "WwqnbYlZwRuR"
      },
      "source": [
        "Gradient Boosting regressor."
      ]
    },
    {
      "cell_type": "code",
      "metadata": {
        "colab": {
          "base_uri": "https://localhost:8080/"
        },
        "id": "FIlG0aTFwAOp",
        "outputId": "55d80190-6445-48f1-9a5d-56df43872b44"
      },
      "source": [
        "df = get_auto_data()\n",
        "\n",
        "# Define feature and target\n",
        "X = df.iloc[:,1:]\n",
        "y = df.mpg\n",
        "\n",
        "# Create training and test sets\n",
        "X_train, X_test, y_train, y_test = train_test_split(X, y, test_size = 0.3, random_state=42)\n",
        "\n",
        "# Instantiate gb\n",
        "gb = GradientBoostingRegressor(max_depth=4, \n",
        "            n_estimators=200,\n",
        "            random_state=2)\n",
        "            \n",
        "# Fit gb to the training set\n",
        "gb.fit(X_train, y_train)\n",
        "\n",
        "# Predict test set labels\n",
        "y_pred = gb.predict(X_test)\n",
        "\n",
        "# Print RMSE\n",
        "print('Test set RMSE of gb: {:.3f}'.format(np.sqrt(mean_squared_error(y_test, y_pred))))\n",
        "\n",
        "# Print R^2\n",
        "print('Test set R^2 of gb: {:.3f}'.format(r2_score(y_test, y_pred)))"
      ],
      "execution_count": null,
      "outputs": [
        {
          "output_type": "stream",
          "text": [
            "Test set RMSE of gb: 4.062\n",
            "Test set R^2 of gb: 0.707\n"
          ],
          "name": "stdout"
        }
      ]
    },
    {
      "cell_type": "markdown",
      "metadata": {
        "id": "r8MVFIdKxSTE"
      },
      "source": [
        "Stochastic Gradient Boosting."
      ]
    },
    {
      "cell_type": "code",
      "metadata": {
        "colab": {
          "base_uri": "https://localhost:8080/"
        },
        "id": "ug7zypgExUBA",
        "outputId": "bf18bea0-5024-4887-ca14-4105e3b9568b"
      },
      "source": [
        "df = get_auto_data()\n",
        "\n",
        "# Define feature and target\n",
        "X = df.iloc[:,1:]\n",
        "y = df.mpg\n",
        "\n",
        "# Create training and test sets\n",
        "X_train, X_test, y_train, y_test = train_test_split(X, y, test_size = 0.3, random_state=42)\n",
        "\n",
        "# Instantiate a stochastic GradientBoostingRegressor 'sgbt'\n",
        "sgbt = GradientBoostingRegressor(max_depth=1, subsample=0.8, max_features=0.2,\n",
        "                                 n_estimators=300, random_state=1)\n",
        "\n",
        "# Fit 'sgbt' to the training set\n",
        "sgbt.fit(X_train, y_train)\n",
        "\n",
        "# Predict the test set labels\n",
        "y_pred = sgbt.predict(X_test)\n",
        "\n",
        "# Print RMSE\n",
        "print('Test set RMSE of gb: {:.3f}'.format(np.sqrt(mean_squared_error(y_test, y_pred))))\n",
        "\n",
        "# Print R^2\n",
        "print('Test set R^2 of gb: {:.3f}'.format(r2_score(y_test, y_pred)))"
      ],
      "execution_count": null,
      "outputs": [
        {
          "output_type": "stream",
          "text": [
            "Test set RMSE of gb: 4.079\n",
            "Test set R^2 of gb: 0.704\n"
          ],
          "name": "stdout"
        }
      ]
    },
    {
      "cell_type": "markdown",
      "metadata": {
        "id": "Gu2K_gdTxqcz"
      },
      "source": [
        "## Chapter 5."
      ]
    },
    {
      "cell_type": "markdown",
      "metadata": {
        "id": "SYMAnRyl2eE_"
      },
      "source": [
        "* Grid search CV hyperparameter tuning"
      ]
    },
    {
      "cell_type": "markdown",
      "metadata": {
        "id": "5AstD_Vn1OuP"
      },
      "source": [
        "Grid search CV for regression task."
      ]
    },
    {
      "cell_type": "code",
      "metadata": {
        "colab": {
          "base_uri": "https://localhost:8080/"
        },
        "id": "PuzOrATdxoma",
        "outputId": "f2a404ad-0c51-4af5-be9f-0fbe6af69f63"
      },
      "source": [
        "df = get_breast_cancer_data()\n",
        "\n",
        "# Define feature and target\n",
        "X = df[['radius_mean', 'concave points_mean']].values\n",
        "y = df.diagnosis.values\n",
        "\n",
        "y = y.astype('int') # To convert float to int. Otherwise, it throws error \"ValueError\"\n",
        "\n",
        "# Create training and test sets\n",
        "X_train, X_test, y_train, y_test = train_test_split(X, y, test_size = 0.3, random_state=42)\n",
        "\n",
        "# Setup rf model\n",
        "rf = RandomForestClassifier()\n",
        "\n",
        "# Define the dictionary 'params_rf'\n",
        "params_rf = {'n_estimators': [100, 350, 500], \n",
        "             'max_features': ['log2', 'auto', 'sqrt'], \n",
        "             'min_samples_leaf': [2, 10, 30]}\n",
        "\n",
        "# Instantiate grid_rf\n",
        "grid_rf = GridSearchCV(estimator=rf,\n",
        "                       param_grid=params_rf,\n",
        "                       scoring='neg_mean_squared_error',\n",
        "                       cv=3,\n",
        "                       verbose=1,\n",
        "                       n_jobs=-1)\n",
        "\n",
        "# Fit to train data\n",
        "grid_rf.fit(X_train, y_train)\n",
        "\n",
        "# Extract the best estimator and hyperparameters\n",
        "best_model = grid_rf.best_estimator_\n",
        "best_hyperparams = grid_rf.best_params_\n",
        "print(best_model)\n",
        "print(best_hyperparams)\n",
        "\n",
        "# Predict test set labels\n",
        "y_pred = best_model.predict(X_test)\n",
        "\n",
        "# Print RMSE\n",
        "print('Test set RMSE of gb: {:.3f}'.format(np.sqrt(mean_squared_error(y_test, y_pred))))\n",
        "\n",
        "# Print R^2\n",
        "print('Test set R^2 of gb: {:.3f}'.format(r2_score(y_test, y_pred)))"
      ],
      "execution_count": null,
      "outputs": [
        {
          "output_type": "stream",
          "text": [
            "Fitting 3 folds for each of 27 candidates, totalling 81 fits\n"
          ],
          "name": "stdout"
        },
        {
          "output_type": "stream",
          "text": [
            "[Parallel(n_jobs=-1)]: Using backend LokyBackend with 2 concurrent workers.\n",
            "[Parallel(n_jobs=-1)]: Done  46 tasks      | elapsed:   15.9s\n",
            "[Parallel(n_jobs=-1)]: Done  81 out of  81 | elapsed:   28.3s finished\n"
          ],
          "name": "stderr"
        },
        {
          "output_type": "stream",
          "text": [
            "RandomForestClassifier(bootstrap=True, ccp_alpha=0.0, class_weight=None,\n",
            "                       criterion='gini', max_depth=None, max_features='sqrt',\n",
            "                       max_leaf_nodes=None, max_samples=None,\n",
            "                       min_impurity_decrease=0.0, min_impurity_split=None,\n",
            "                       min_samples_leaf=10, min_samples_split=2,\n",
            "                       min_weight_fraction_leaf=0.0, n_estimators=500,\n",
            "                       n_jobs=None, oob_score=False, random_state=None,\n",
            "                       verbose=0, warm_start=False)\n",
            "{'max_features': 'sqrt', 'min_samples_leaf': 10, 'n_estimators': 500}\n",
            "Test set RMSE of gb: 0.306\n",
            "Test set R^2 of gb: 0.598\n"
          ],
          "name": "stdout"
        }
      ]
    },
    {
      "cell_type": "markdown",
      "metadata": {
        "id": "neGFW-PV1ZV6"
      },
      "source": [
        "Grid search CV for classification task."
      ]
    },
    {
      "cell_type": "code",
      "metadata": {
        "colab": {
          "base_uri": "https://localhost:8080/"
        },
        "id": "3lC0eQAl1Ybd",
        "outputId": "ea2cc631-a2e3-42af-9d06-59e0e3a2c923"
      },
      "source": [
        "df = get_breast_cancer_data()\n",
        "\n",
        "# Define feature and target\n",
        "X = df[['radius_mean', 'concave points_mean']].values\n",
        "y = df.diagnosis.values\n",
        "\n",
        "y = y.astype('int') # To convert float to int. Otherwise, it throws error \"ValueError\"\n",
        "\n",
        "# Create training and test sets\n",
        "X_train, X_test, y_train, y_test = train_test_split(X, y, test_size = 0.3, random_state=42)\n",
        "\n",
        "# Instantiate dt\n",
        "dt = DecisionTreeClassifier()\n",
        "\n",
        "# Define params_dt\n",
        "params_dt = {'max_depth':[2,3,4], 'min_samples_leaf':[0.12, 0.14, 0.16, 0.18]}\n",
        "\n",
        "# Instantiate grid_dt\n",
        "grid_dt = GridSearchCV(estimator=dt,\n",
        "                       param_grid=params_dt,\n",
        "                       scoring='roc_auc',\n",
        "                       cv=5,\n",
        "                       n_jobs=-1)\n",
        "\n",
        "# Fit to training data\n",
        "grid_dt.fit(X_train, y_train)\n",
        "\n",
        "# Import roc_auc_score from sklearn.metrics\n",
        "from sklearn.metrics import roc_auc_score\n",
        "\n",
        "# Extract the best estimator and hyperparameters\n",
        "best_model = grid_dt.best_estimator_\n",
        "best_hyperparams = grid_dt.best_params_\n",
        "print(best_model)\n",
        "print(best_hyperparams)\n",
        "\n",
        "# Predict the test set probabilities of the positive class\n",
        "y_pred_proba = grid_dt.predict_proba(X_test)[:,1]\n",
        "\n",
        "# Compute test_roc_auc\n",
        "test_roc_auc = roc_auc_score(y_test, y_pred_proba)\n",
        "\n",
        "# Print test_roc_auc\n",
        "print('Test set ROC AUC score: {:.3f}'.format(test_roc_auc))"
      ],
      "execution_count": null,
      "outputs": [
        {
          "output_type": "stream",
          "text": [
            "DecisionTreeClassifier(ccp_alpha=0.0, class_weight=None, criterion='gini',\n",
            "                       max_depth=4, max_features=None, max_leaf_nodes=None,\n",
            "                       min_impurity_decrease=0.0, min_impurity_split=None,\n",
            "                       min_samples_leaf=0.16, min_samples_split=2,\n",
            "                       min_weight_fraction_leaf=0.0, presort='deprecated',\n",
            "                       random_state=None, splitter='best')\n",
            "{'max_depth': 4, 'min_samples_leaf': 0.16}\n",
            "Test set ROC AUC score: 0.964\n"
          ],
          "name": "stdout"
        }
      ]
    }
  ]
}