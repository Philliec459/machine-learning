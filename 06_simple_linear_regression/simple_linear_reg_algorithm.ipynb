{
  "nbformat": 4,
  "nbformat_minor": 0,
  "metadata": {
    "colab": {
      "name": "simple_linear_reg_algorithm.ipynb",
      "provenance": [],
      "collapsed_sections": [],
      "authorship_tag": "ABX9TyMS/eoBL31JLm/yp6PzUSYh",
      "include_colab_link": true
    },
    "kernelspec": {
      "name": "python3",
      "display_name": "Python 3"
    }
  },
  "cells": [
    {
      "cell_type": "markdown",
      "metadata": {
        "id": "view-in-github",
        "colab_type": "text"
      },
      "source": [
        "<a href=\"https://colab.research.google.com/github/yohanesnuwara/machine-learning/blob/master/06_simple_linear_regression/simple_linear_reg_algorithm.ipynb\" target=\"_parent\"><img src=\"https://colab.research.google.com/assets/colab-badge.svg\" alt=\"Open In Colab\"/></a>"
      ]
    },
    {
      "cell_type": "markdown",
      "metadata": {
        "id": "LANdcLfSvzZr",
        "colab_type": "text"
      },
      "source": [
        "# **Simple Linear Regression**"
      ]
    },
    {
      "cell_type": "code",
      "metadata": {
        "id": "fCrpahRtuRXd",
        "colab_type": "code",
        "colab": {}
      },
      "source": [
        "import numpy as np\n",
        "import matplotlib.pyplot as plt"
      ],
      "execution_count": 0,
      "outputs": []
    },
    {
      "cell_type": "markdown",
      "metadata": {
        "id": "NGs41zpdmcK0",
        "colab_type": "text"
      },
      "source": [
        "## Method 1 (\"Traditional\")\n",
        "\n",
        "Calculate bias (or intercept $B_0$) and slope ($B_1$) using:\n",
        "\n",
        "$$B_1 = \\frac{\\sum_{i=1}^{n}(x_i-mean(x))(y_i-mean(y))}{\\sum_{i=1}^{n}(x_i-mean(x))^2}$$\n",
        "\n",
        "$$B_0 = mean(y) - B_1 \\cdot mean(x)$$\n",
        "\n",
        "to construct simple linear regression model: $$y = B_0 + B_1 \\cdot x$$"
      ]
    },
    {
      "cell_type": "code",
      "metadata": {
        "id": "67qiy5a2t8og",
        "colab_type": "code",
        "outputId": "e8d45949-8c0b-436c-a6a6-3bbcdc538a0a",
        "colab": {
          "base_uri": "https://localhost:8080/",
          "height": 282
        }
      },
      "source": [
        "x = [1, 2, 4, 3, 5]\n",
        "y = [1, 3, 3, 2, 5]\n",
        "\n",
        "# visualize our data \n",
        "plt.plot(x, y, 'o')"
      ],
      "execution_count": 0,
      "outputs": [
        {
          "output_type": "execute_result",
          "data": {
            "text/plain": [
              "[<matplotlib.lines.Line2D at 0x7f18a4c27be0>]"
            ]
          },
          "metadata": {
            "tags": []
          },
          "execution_count": 100
        },
        {
          "output_type": "display_data",
          "data": {
            "image/png": "[encoded data removed]",
            "text/plain": [
              "<Figure size 432x288 with 1 Axes>"
            ]
          },
          "metadata": {
            "tags": []
          }
        }
      ]
    },
    {
      "cell_type": "markdown",
      "metadata": {
        "id": "Kp8Fz5yivuT-",
        "colab_type": "text"
      },
      "source": [
        "Calculate mean of data"
      ]
    },
    {
      "cell_type": "code",
      "metadata": {
        "id": "aMUFD4mHudzn",
        "colab_type": "code",
        "outputId": "fff0a1a9-ec31-4686-9030-a8d25bec5a91",
        "colab": {
          "base_uri": "https://localhost:8080/",
          "height": 34
        }
      },
      "source": [
        "mean_x = np.mean(x)\n",
        "mean_y = np.mean(y)\n",
        "print(mean_x, mean_y)"
      ],
      "execution_count": 0,
      "outputs": [
        {
          "output_type": "stream",
          "text": [
            "3.0 2.8\n"
          ],
          "name": "stdout"
        }
      ]
    },
    {
      "cell_type": "markdown",
      "metadata": {
        "id": "K-8Voeq4vwRn",
        "colab_type": "text"
      },
      "source": [
        "Calculate error"
      ]
    },
    {
      "cell_type": "code",
      "metadata": {
        "id": "h_IpXuGEvaqX",
        "colab_type": "code",
        "outputId": "6b810aaf-bdd4-447b-87dc-a8f0ec1bc20a",
        "colab": {
          "base_uri": "https://localhost:8080/",
          "height": 50
        }
      },
      "source": [
        "err_x = x - mean_x\n",
        "err_y = y - mean_y\n",
        "print(err_x)\n",
        "print(err_y)"
      ],
      "execution_count": 0,
      "outputs": [
        {
          "output_type": "stream",
          "text": [
            "[-2. -1.  1.  0.  2.]\n",
            "[-1.8  0.2  0.2 -0.8  2.2]\n"
          ],
          "name": "stdout"
        }
      ]
    },
    {
      "cell_type": "markdown",
      "metadata": {
        "id": "yTtZuCKcvx9E",
        "colab_type": "text"
      },
      "source": [
        "Multiply error of x and error of y"
      ]
    },
    {
      "cell_type": "code",
      "metadata": {
        "id": "lyapVNSvwCe9",
        "colab_type": "code",
        "outputId": "7bbc6634-fdc9-4222-eef6-3f7fc56d1b94",
        "colab": {
          "base_uri": "https://localhost:8080/",
          "height": 34
        }
      },
      "source": [
        "err_mult = err_x * err_y\n",
        "print(err_mult)"
      ],
      "execution_count": 0,
      "outputs": [
        {
          "output_type": "stream",
          "text": [
            "[ 3.6 -0.2  0.2 -0.   4.4]\n"
          ],
          "name": "stdout"
        }
      ]
    },
    {
      "cell_type": "markdown",
      "metadata": {
        "id": "qTpn2KJPwz_g",
        "colab_type": "text"
      },
      "source": [
        "Calculate numerator by summing up the errors"
      ]
    },
    {
      "cell_type": "code",
      "metadata": {
        "id": "-QYzrLNtw4-O",
        "colab_type": "code",
        "outputId": "cdd579e5-c2fd-41b9-91cb-271073d492d7",
        "colab": {
          "base_uri": "https://localhost:8080/",
          "height": 34
        }
      },
      "source": [
        "numerator = np.sum(err_mult)\n",
        "numerator"
      ],
      "execution_count": 0,
      "outputs": [
        {
          "output_type": "execute_result",
          "data": {
            "text/plain": [
              "8.0"
            ]
          },
          "metadata": {
            "tags": []
          },
          "execution_count": 15
        }
      ]
    },
    {
      "cell_type": "markdown",
      "metadata": {
        "id": "37GOQKFmw9eP",
        "colab_type": "text"
      },
      "source": [
        "Calculate denominator by squaring the x error and summing them up"
      ]
    },
    {
      "cell_type": "code",
      "metadata": {
        "id": "sI9vKNTKxXxM",
        "colab_type": "code",
        "outputId": "a5602946-690c-4235-eaf6-9843f4ea1f2a",
        "colab": {
          "base_uri": "https://localhost:8080/",
          "height": 34
        }
      },
      "source": [
        "err_x_squared = err_x**2\n",
        "denominator = np.sum(err_x_squared)\n",
        "print(denominator)"
      ],
      "execution_count": 0,
      "outputs": [
        {
          "output_type": "stream",
          "text": [
            "10.0\n"
          ],
          "name": "stdout"
        }
      ]
    },
    {
      "cell_type": "markdown",
      "metadata": {
        "id": "UFgKi72wxkIx",
        "colab_type": "text"
      },
      "source": [
        "Calculate the **slope (B1)** !"
      ]
    },
    {
      "cell_type": "code",
      "metadata": {
        "id": "RF9L9iv8xqxk",
        "colab_type": "code",
        "outputId": "e47cc508-233e-40cf-f504-91cbf6bb106e",
        "colab": {
          "base_uri": "https://localhost:8080/",
          "height": 34
        }
      },
      "source": [
        "B1 = numerator / denominator\n",
        "print(B1)"
      ],
      "execution_count": 0,
      "outputs": [
        {
          "output_type": "stream",
          "text": [
            "0.8\n"
          ],
          "name": "stdout"
        }
      ]
    },
    {
      "cell_type": "markdown",
      "metadata": {
        "id": "jRi32EmVx4Vw",
        "colab_type": "text"
      },
      "source": [
        "And we can calculate the **intercept (c)** !"
      ]
    },
    {
      "cell_type": "code",
      "metadata": {
        "id": "_aHhF57ix8pn",
        "colab_type": "code",
        "outputId": "fa8b0e53-d442-4c2d-a009-8c0b706abde8",
        "colab": {
          "base_uri": "https://localhost:8080/",
          "height": 34
        }
      },
      "source": [
        "B0 = mean_y - B1 * mean_x\n",
        "print(B0)"
      ],
      "execution_count": 0,
      "outputs": [
        {
          "output_type": "stream",
          "text": [
            "0.39999999999999947\n"
          ],
          "name": "stdout"
        }
      ]
    },
    {
      "cell_type": "markdown",
      "metadata": {
        "id": "wJZH9fDeyQQJ",
        "colab_type": "text"
      },
      "source": [
        "We now have the coefficents for our simple linear regression equation.\n",
        "$$y = B_0 + B_1 x = 0.4 + 0.8 x$$\n"
      ]
    },
    {
      "cell_type": "markdown",
      "metadata": {
        "id": "56K484HtrF5v",
        "colab_type": "text"
      },
      "source": [
        "### Test the model to our training data"
      ]
    },
    {
      "cell_type": "code",
      "metadata": {
        "id": "9r9HxVKhoZCP",
        "colab_type": "code",
        "outputId": "39147773-0eec-47ab-c608-cbcbc24e56b4",
        "colab": {
          "base_uri": "https://localhost:8080/",
          "height": 282
        }
      },
      "source": [
        "x_test = np.array([1, 2, 3, 4, 5])\n",
        "y_predicted = B0 + B1 * x_test\n",
        "\n",
        "p1 = plt.plot(x, y, 'o')\n",
        "p2 = plt.plot(x_test, y_predicted, 'o-', color='r')\n",
        "plt.legend((p1[0], p2[0]), (['y data', 'predicted y']))"
      ],
      "execution_count": 0,
      "outputs": [
        {
          "output_type": "execute_result",
          "data": {
            "text/plain": [
              "<matplotlib.legend.Legend at 0x7f18ae8f2358>"
            ]
          },
          "metadata": {
            "tags": []
          },
          "execution_count": 30
        },
        {
          "output_type": "display_data",
          "data": {
            "image/png": "[encoded data removed]",
            "text/plain": [
              "<Figure size 432x288 with 1 Axes>"
            ]
          },
          "metadata": {
            "tags": []
          }
        }
      ]
    },
    {
      "cell_type": "markdown",
      "metadata": {
        "id": "4Kj8wT89pTYV",
        "colab_type": "text"
      },
      "source": [
        "### Estimating Error (Root Mean Squared Error)\n",
        "\n",
        "$$RMSE = \\sqrt{\\frac{\\sum_{i=1}^{n} (p_i - y_i)^2}{n}}$$"
      ]
    },
    {
      "cell_type": "code",
      "metadata": {
        "id": "M25QSqEVpzhV",
        "colab_type": "code",
        "outputId": "dc3e7d1f-130c-4efc-9480-95c2d3f8fb31",
        "colab": {
          "base_uri": "https://localhost:8080/",
          "height": 34
        }
      },
      "source": [
        "numerator = np.sum((y_predicted - y)**2)\n",
        "denominator = len(y)\n",
        "rmse = np.sqrt(numerator / denominator)\n",
        "rmse"
      ],
      "execution_count": 0,
      "outputs": [
        {
          "output_type": "execute_result",
          "data": {
            "text/plain": [
              "0.692820323027551"
            ]
          },
          "metadata": {
            "tags": []
          },
          "execution_count": 28
        }
      ]
    },
    {
      "cell_type": "markdown",
      "metadata": {
        "id": "uGpy429krBRb",
        "colab_type": "text"
      },
      "source": [
        "### Wrap all up"
      ]
    },
    {
      "cell_type": "code",
      "metadata": {
        "id": "TudrLsXLrNBV",
        "colab_type": "code",
        "colab": {}
      },
      "source": [
        "def simple_linear_regression_traditional(x, y, x_test):\n",
        "  import numpy as np\n",
        "  x = np.array(x); y = np.array(y); x_test = np.array(x_test)\n",
        "  mean_x = np.mean(x)\n",
        "  mean_y = np.mean(y)\n",
        "  err_x = x - mean_x\n",
        "  err_y = y - mean_y\n",
        "  err_mult = err_x * err_y\n",
        "  numerator = np.sum(err_mult)\n",
        "  err_x_squared = err_x**2\n",
        "  denominator = np.sum(err_x_squared)\n",
        "  B1 = numerator / denominator\n",
        "  B0 = mean_y - B1 * mean_x\n",
        "  y_predicted = B0 + B1 * x_test\n",
        "  return(B0, B1, y_predicted)\n",
        "\n",
        "def linreg_error(y, y_predicted):\n",
        "  import numpy as np\n",
        "  y = np.array(y); y_predicted = np.array(y_predicted)\n",
        "  numerator = np.sum((y_predicted - y)**2)\n",
        "  denominator = len(y)\n",
        "  rmse = np.sqrt(numerator / denominator)\n",
        "  return(rmse)"
      ],
      "execution_count": 0,
      "outputs": []
    },
    {
      "cell_type": "markdown",
      "metadata": {
        "id": "KEifuIW8tFnC",
        "colab_type": "text"
      },
      "source": [
        "## Method 2 (\"Advanced\")\n",
        "\n",
        "Calculate bias (or intercept $B_0$) and slope ($B_1$) using:\n",
        "\n",
        "$$B_1 = corr(x, y) \\cdot \\frac{stdev(y)}{stdev(x)}$$\n",
        "\n",
        "Then, similar to **Method 1**. \n",
        "$$B_0 = mean(y) - B_1 \\cdot mean(x)$$\n",
        "\n",
        "to construct simple linear regression model: $$y = B_0 + B_1 \\cdot x$$"
      ]
    },
    {
      "cell_type": "markdown",
      "metadata": {
        "id": "1B1gzeoPvO-N",
        "colab_type": "text"
      },
      "source": [
        "Calculate the **pearson's correlation coefficient $corr(x,y)$**. First, calculate mean and standard deviation."
      ]
    },
    {
      "cell_type": "code",
      "metadata": {
        "id": "LfM3_SzotHtq",
        "colab_type": "code",
        "outputId": "b87743fb-153b-4725-9728-9513125c2f18",
        "colab": {
          "base_uri": "https://localhost:8080/",
          "height": 34
        }
      },
      "source": [
        "import statistics as stat\n",
        "mean_x = np.mean(x)\n",
        "mean_y = np.mean(y)\n",
        "stdev_x = stat.stdev(x)\n",
        "stdev_y = stat.stdev(y)\n",
        "print(stdev_x, stdev_y)"
      ],
      "execution_count": 0,
      "outputs": [
        {
          "output_type": "stream",
          "text": [
            "1.5811388300841898 1.4832396974191326\n"
          ],
          "name": "stdout"
        }
      ]
    },
    {
      "cell_type": "markdown",
      "metadata": {
        "id": "MYunKNeOvZQH",
        "colab_type": "text"
      },
      "source": [
        "Calculate **covariance**. Covariance is the relationship that can be summarized between two variables. The sign of the covariance can be interpreted as whether the two variables change in the same direction (positive) or change in different directions (negative). A covariance value of zero indicates that both variables are completely independent."
      ]
    },
    {
      "cell_type": "code",
      "metadata": {
        "id": "QzGhvOG6vqh-",
        "colab_type": "code",
        "outputId": "8ddefd6f-d372-4fde-8c7b-f079dc4cf4b8",
        "colab": {
          "base_uri": "https://localhost:8080/",
          "height": 34
        }
      },
      "source": [
        "cov_x_y = (np.sum((x - mean_x) * (y - mean_y))) * (1 / (len(x) - 1))\n",
        "cov_x_y"
      ],
      "execution_count": 0,
      "outputs": [
        {
          "output_type": "execute_result",
          "data": {
            "text/plain": [
              "2.0"
            ]
          },
          "metadata": {
            "tags": []
          },
          "execution_count": 102
        }
      ]
    },
    {
      "cell_type": "markdown",
      "metadata": {
        "id": "Q0Vm6VLp0Ci5",
        "colab_type": "text"
      },
      "source": [
        "Calculate **Pearson's Correlation Coefficient**. It summarizes the strength of the linear relationship between two data samples. It is the normalization of the covariance between the two variables. The coefficient returns a value between -1 and 1 that represents the limits of correlation from a full negative correlation to a full positive correlation. A value of 0 means no correlation. The value must be interpreted, where often a value below -0.5 or above 0.5 indicates a notable correlation, and values below those values suggests a less notable correlation."
      ]
    },
    {
      "cell_type": "code",
      "metadata": {
        "id": "w1bpMRPTxeXx",
        "colab_type": "code",
        "outputId": "0c1c94f4-c5e6-486d-8812-bbe85ca111fb",
        "colab": {
          "base_uri": "https://localhost:8080/",
          "height": 34
        }
      },
      "source": [
        "corr_x_y = cov_x_y / (stdev_x * stdev_y)\n",
        "corr_x_y"
      ],
      "execution_count": 0,
      "outputs": [
        {
          "output_type": "execute_result",
          "data": {
            "text/plain": [
              "0.8528028654224417"
            ]
          },
          "metadata": {
            "tags": []
          },
          "execution_count": 103
        }
      ]
    },
    {
      "cell_type": "markdown",
      "metadata": {
        "id": "MxSfB9UK2nYs",
        "colab_type": "text"
      },
      "source": [
        "Calculate slope $B_1$"
      ]
    },
    {
      "cell_type": "code",
      "metadata": {
        "id": "pxCJ_Ozq2uQy",
        "colab_type": "code",
        "outputId": "f8be335f-2a3d-4d18-9cd7-e93976cb30c5",
        "colab": {
          "base_uri": "https://localhost:8080/",
          "height": 34
        }
      },
      "source": [
        "B1 = corr_x_y * (stdev_y / stdev_x)\n",
        "B1"
      ],
      "execution_count": 0,
      "outputs": [
        {
          "output_type": "execute_result",
          "data": {
            "text/plain": [
              "0.7999999999999998"
            ]
          },
          "metadata": {
            "tags": []
          },
          "execution_count": 104
        }
      ]
    },
    {
      "cell_type": "markdown",
      "metadata": {
        "id": "ZCEhNOAg5wtb",
        "colab_type": "text"
      },
      "source": [
        "Next, is similar to **Method 1**. "
      ]
    },
    {
      "cell_type": "code",
      "metadata": {
        "id": "9pWiMeW75gNw",
        "colab_type": "code",
        "outputId": "bff39b4e-6b6f-4f00-a638-276c15ec9697",
        "colab": {
          "base_uri": "https://localhost:8080/",
          "height": 282
        }
      },
      "source": [
        "B0 = mean_y - B1 * mean_x\n",
        "\n",
        "x_test = np.array([1, 2, 3, 4, 5])\n",
        "y_predicted = B0 + B1 * x_test\n",
        "\n",
        "p1 = plt.plot(x, y, 'o')\n",
        "p2 = plt.plot(x_test, y_predicted, 'o-', color='r')\n",
        "plt.legend((p1[0], p2[0]), (['y data', 'predicted y']))"
      ],
      "execution_count": 0,
      "outputs": [
        {
          "output_type": "execute_result",
          "data": {
            "text/plain": [
              "<matplotlib.legend.Legend at 0x7f18a4c10d68>"
            ]
          },
          "metadata": {
            "tags": []
          },
          "execution_count": 105
        },
        {
          "output_type": "display_data",
          "data": {
            "image/png": "[encoded data removed]",
            "text/plain": [
              "<Figure size 432x288 with 1 Axes>"
            ]
          },
          "metadata": {
            "tags": []
          }
        }
      ]
    },
    {
      "cell_type": "markdown",
      "metadata": {
        "id": "kwa25OhZ55dm",
        "colab_type": "text"
      },
      "source": [
        "Calculate RMSE"
      ]
    },
    {
      "cell_type": "code",
      "metadata": {
        "id": "a8wU_bWH57BB",
        "colab_type": "code",
        "outputId": "db00f1da-9b0d-4dbd-a0da-32dcf75d303e",
        "colab": {
          "base_uri": "https://localhost:8080/",
          "height": 34
        }
      },
      "source": [
        "rmse = linreg_error(y, y_predicted)\n",
        "rmse"
      ],
      "execution_count": 0,
      "outputs": [
        {
          "output_type": "execute_result",
          "data": {
            "text/plain": [
              "0.8944271909999159"
            ]
          },
          "metadata": {
            "tags": []
          },
          "execution_count": 111
        }
      ]
    },
    {
      "cell_type": "markdown",
      "metadata": {
        "id": "igGssNsl9dj0",
        "colab_type": "text"
      },
      "source": [
        "### Wrap all up"
      ]
    },
    {
      "cell_type": "code",
      "metadata": {
        "id": "l7KxX_xy9es7",
        "colab_type": "code",
        "colab": {}
      },
      "source": [
        "def simple_linear_regression_advanced(x, y, x_test):\n",
        "  import numpy as np\n",
        "  import statistics as stat\n",
        "  x = np.array(x); y = np.array(y); x_test = np.array(x_test)\n",
        "  mean_x = np.mean(x)\n",
        "  mean_y = np.mean(y)\n",
        "  stdev_x = stat.stdev(x)\n",
        "  stdev_y = stat.stdev(y)\n",
        "  cov_x_y = (np.sum((x - mean_x) * (y - mean_y))) * (1 / (len(x) - 1))\n",
        "  corr_x_y = cov_x_y / (stdev_x * stdev_y)\n",
        "  B1 = corr_x_y * (stdev_y / stdev_x)\n",
        "  B0 = mean_y - B1 * mean_x\n",
        "  y_predicted = B0 + B1 * x_test\n",
        "  return(B0, B1, y_predicted)"
      ],
      "execution_count": 0,
      "outputs": []
    },
    {
      "cell_type": "markdown",
      "metadata": {
        "id": "X6-86aCCXCd7",
        "colab_type": "text"
      },
      "source": [
        "## Implement to Real Dataset\n",
        "\n",
        "Simple linear regression to WTI and Brent Daily Oil Price (1980-2020)"
      ]
    },
    {
      "cell_type": "code",
      "metadata": {
        "id": "09l-UebpXKpQ",
        "colab_type": "code",
        "outputId": "d210ff14-4686-4051-bbad-44c87a0dbc06",
        "colab": {
          "base_uri": "https://localhost:8080/",
          "height": 151
        }
      },
      "source": [
        "!git clone https://www.github.com/yohanesnuwara/machine-learning"
      ],
      "execution_count": 0,
      "outputs": [
        {
          "output_type": "stream",
          "text": [
            "Cloning into 'machine-learning'...\n",
            "warning: redirecting to https://github.com/yohanesnuwara/machine-learning.git/\n",
            "remote: Enumerating objects: 156, done.\u001b[K\n",
            "remote: Counting objects: 100% (156/156), done.\u001b[K\n",
            "remote: Compressing objects: 100% (151/151), done.\u001b[K\n",
            "remote: Total 156 (delta 65), reused 0 (delta 0), pack-reused 0\u001b[K\n",
            "Receiving objects: 100% (156/156), 330.11 KiB | 1.73 MiB/s, done.\n",
            "Resolving deltas: 100% (65/65), done.\n"
          ],
          "name": "stdout"
        }
      ]
    },
    {
      "cell_type": "code",
      "metadata": {
        "id": "RHhepDmFXVXm",
        "colab_type": "code",
        "outputId": "ce306ece-b88f-43e0-be0c-b415a16d743d",
        "colab": {
          "base_uri": "https://localhost:8080/",
          "height": 343
        }
      },
      "source": [
        "import pandas as pd\n",
        "\n",
        "brent = pd.read_csv('/content/machine-learning/datasets/brent-daily_csv.csv')\n",
        "wti = pd.read_csv('/content/machine-learning/datasets/wti-daily_csv.csv')\n",
        "\n",
        "# Converting to Panda datetime\n",
        "brent['Date'] =  pd.to_datetime(brent['Date'], format='%Y-%m-%d') # depends on the data, format check web: https://strftime.org/\n",
        "wti['Date'] =  pd.to_datetime(wti['Date'], format='%Y-%m-%d') # depends on the data, format check web: https://strftime.org/\n",
        "\n",
        "brent.head(10)"
      ],
      "execution_count": 157,
      "outputs": [
        {
          "output_type": "execute_result",
          "data": {
            "text/html": [
              "<div>\n",
              "<style scoped>\n",
              "    .dataframe tbody tr th:only-of-type {\n",
              "        vertical-align: middle;\n",
              "    }\n",
              "\n",
              "    .dataframe tbody tr th {\n",
              "        vertical-align: top;\n",
              "    }\n",
              "\n",
              "    .dataframe thead th {\n",
              "        text-align: right;\n",
              "    }\n",
              "</style>\n",
              "<table border=\"1\" class=\"dataframe\">\n",
              "  <thead>\n",
              "    <tr style=\"text-align: right;\">\n",
              "      <th></th>\n",
              "      <th>Date</th>\n",
              "      <th>Price</th>\n",
              "    </tr>\n",
              "  </thead>\n",
              "  <tbody>\n",
              "    <tr>\n",
              "      <th>0</th>\n",
              "      <td>1987-05-20</td>\n",
              "      <td>18.63</td>\n",
              "    </tr>\n",
              "    <tr>\n",
              "      <th>1</th>\n",
              "      <td>1987-05-21</td>\n",
              "      <td>18.45</td>\n",
              "    </tr>\n",
              "    <tr>\n",
              "      <th>2</th>\n",
              "      <td>1987-05-22</td>\n",
              "      <td>18.55</td>\n",
              "    </tr>\n",
              "    <tr>\n",
              "      <th>3</th>\n",
              "      <td>1987-05-25</td>\n",
              "      <td>18.60</td>\n",
              "    </tr>\n",
              "    <tr>\n",
              "      <th>4</th>\n",
              "      <td>1987-05-26</td>\n",
              "      <td>18.63</td>\n",
              "    </tr>\n",
              "    <tr>\n",
              "      <th>5</th>\n",
              "      <td>1987-05-27</td>\n",
              "      <td>18.60</td>\n",
              "    </tr>\n",
              "    <tr>\n",
              "      <th>6</th>\n",
              "      <td>1987-05-28</td>\n",
              "      <td>18.60</td>\n",
              "    </tr>\n",
              "    <tr>\n",
              "      <th>7</th>\n",
              "      <td>1987-05-29</td>\n",
              "      <td>18.58</td>\n",
              "    </tr>\n",
              "    <tr>\n",
              "      <th>8</th>\n",
              "      <td>1987-06-01</td>\n",
              "      <td>18.65</td>\n",
              "    </tr>\n",
              "    <tr>\n",
              "      <th>9</th>\n",
              "      <td>1987-06-02</td>\n",
              "      <td>18.68</td>\n",
              "    </tr>\n",
              "  </tbody>\n",
              "</table>\n",
              "</div>"
            ],
            "text/plain": [
              "        Date  Price\n",
              "0 1987-05-20  18.63\n",
              "1 1987-05-21  18.45\n",
              "2 1987-05-22  18.55\n",
              "3 1987-05-25  18.60\n",
              "4 1987-05-26  18.63\n",
              "5 1987-05-27  18.60\n",
              "6 1987-05-28  18.60\n",
              "7 1987-05-29  18.58\n",
              "8 1987-06-01  18.65\n",
              "9 1987-06-02  18.68"
            ]
          },
          "metadata": {
            "tags": []
          },
          "execution_count": 157
        }
      ]
    },
    {
      "cell_type": "markdown",
      "metadata": {
        "id": "HcIqE1bgYA1U",
        "colab_type": "text"
      },
      "source": [
        "Visualize data"
      ]
    },
    {
      "cell_type": "code",
      "metadata": {
        "id": "kAVh5xXvYs6b",
        "colab_type": "code",
        "outputId": "13dacac8-960e-46e7-e0a5-c53de6c708e2",
        "colab": {
          "base_uri": "https://localhost:8080/",
          "height": 421
        }
      },
      "source": [
        "from pandas.plotting import register_matplotlib_converters\n",
        "register_matplotlib_converters()\n",
        "\n",
        "plt.figure(figsize=(15, 6))\n",
        "plt.plot(brent.Date, brent.Price, '.', color='blue')\n",
        "plt.plot(wti.Date, wti.Price, '.', color='red')\n",
        "plt.title('Daily Oil Price')\n",
        "plt.xlabel('Year'); plt.ylabel('Price ($/bbl)')"
      ],
      "execution_count": 158,
      "outputs": [
        {
          "output_type": "execute_result",
          "data": {
            "text/plain": [
              "Text(0, 0.5, 'Price ($/bbl)')"
            ]
          },
          "metadata": {
            "tags": []
          },
          "execution_count": 158
        },
        {
          "output_type": "display_data",
          "data": {
            "image/png": "[encoded data removed]",
            "text/plain": [
              "<Figure size 1080x432 with 1 Axes>"
            ]
          },
          "metadata": {
            "tags": []
          }
        }
      ]
    },
    {
      "cell_type": "code",
      "metadata": {
        "id": "XR4kqCjoa9sC",
        "colab_type": "code",
        "colab": {
          "base_uri": "https://localhost:8080/",
          "height": 421
        },
        "outputId": "146246cb-a00b-4845-bbce-1d630f7c77c3"
      },
      "source": [
        "# convert datetime to ordinal\n",
        "import datetime as dt\n",
        "brent_date = np.array(brent['Date'].map(dt.datetime.toordinal))\n",
        "brent_price = brent.Price\n",
        "brent_test = brent_date\n",
        "\n",
        "B0_brent, B1_brent, brent_price_predicted = simple_linear_regression_advanced(brent_date, brent_price, brent_test)\n",
        "\n",
        "wti_date = np.array(wti['Date'].map(dt.datetime.toordinal))\n",
        "wti_price = wti.Price\n",
        "wti_test = wti_date\n",
        "\n",
        "B0_wti, B1_wti, wti_price_predicted = simple_linear_regression_advanced(wti_date, wti_price, wti_test)\n",
        "\n",
        "plt.figure(figsize=(15, 6))\n",
        "p1 = plt.plot(brent.Date, brent.Price, '.', color='blue')\n",
        "p2 = plt.plot(wti.Date, wti.Price, '.', color='red')\n",
        "p3 = plt.plot(brent_test, brent_price_predicted, color='blue')\n",
        "p4 = plt.plot(wti_test, wti_price_predicted, color='red')\n",
        "plt.legend((p1[0], p2[0], p3[0], p4[0]), (['Brent data', 'WTI data', 'Brent predicted', 'WTI predicted']))\n",
        "plt.title('Daily Oil Price')\n",
        "plt.xlabel('Year'); plt.ylabel('Price ($/bbl)')"
      ],
      "execution_count": 169,
      "outputs": [
        {
          "output_type": "execute_result",
          "data": {
            "text/plain": [
              "Text(0, 0.5, 'Price ($/bbl)')"
            ]
          },
          "metadata": {
            "tags": []
          },
          "execution_count": 169
        },
        {
          "output_type": "display_data",
          "data": {
            "image/png": "[encoded data removed]",
            "text/plain": [
              "<Figure size 1080x432 with 1 Axes>"
            ]
          },
          "metadata": {
            "tags": []
          }
        }
      ]
    }
  ]
}